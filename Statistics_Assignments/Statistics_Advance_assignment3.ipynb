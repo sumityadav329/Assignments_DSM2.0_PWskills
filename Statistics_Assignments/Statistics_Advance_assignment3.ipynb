{
 "cells": [
  {
   "cell_type": "markdown",
   "id": "2049f7a2-82b0-4842-816b-ea87eeb1fccc",
   "metadata": {},
   "source": [
    "## Q1: What is Estimation Statistics? Explain point estimate and interval estimate.\n",
    "## A1.\n",
    "**Estimation statistics** is a branch of statistics that involves using data from a sample to make inferences about the population. The goal of estimation is to provide information about population parameters, such as the mean or proportion, based on a sample of data.\n",
    "\n",
    "There are two main types of estimates: point estimates and interval estimates.\n",
    "\n",
    "1. **Point Estimate:** A point estimate is a single value that is used to estimate a population parameter. It is obtained by using a sample statistic, such as the sample mean or sample proportion, to estimate the corresponding population parameter. \n",
    "\n",
    "2. **Interval Estimate:** An interval estimate, also called a confidence interval, is a range of values that is likely to contain the true population parameter with a certain level of confidence. It is obtained by using a sample statistic, such as the sample mean or sample proportion, to calculate an interval of values that is likely to contain the true population parameter."
   ]
  },
  {
   "cell_type": "markdown",
   "id": "9ec970de-6e2b-47fa-9853-765ce1517185",
   "metadata": {},
   "source": [
    "## Q2. Write a Python function to estimate the population mean using a sample mean and standard deviation.\n",
    "## A2."
   ]
  },
  {
   "cell_type": "code",
   "execution_count": 1,
   "id": "35853c90-2f06-47ce-b190-65ac231d9aca",
   "metadata": {},
   "outputs": [
    {
     "name": "stdout",
     "output_type": "stream",
     "text": [
      "Population mean estimate: 2.0\n",
      "95% Confidence Interval: (1.9020018007729973, 2.0979981992270025)\n"
     ]
    }
   ],
   "source": [
    "import scipy.stats as stats\n",
    "\n",
    "def estimate_population_mean(sample_mean, sample_std, sample_size, confidence_level):\n",
    "\n",
    "    # Calculate the standard error of the mean\n",
    "    standard_error = sample_std / (sample_size ** 0.5)\n",
    "\n",
    "    # Calculate the margin of error\n",
    "    margin_of_error = stats.norm.ppf((1 + confidence_level) / 2) * standard_error\n",
    "\n",
    "    # Calculate the confidence interval\n",
    "    lower_bound = sample_mean - margin_of_error\n",
    "    upper_bound = sample_mean + margin_of_error\n",
    "\n",
    "    return lower_bound, upper_bound\n",
    "\n",
    "# Example usage:\n",
    "sample_mean = 2.0\n",
    "sample_std = 0.5\n",
    "sample_size = 100\n",
    "confidence_level = 0.95\n",
    "\n",
    "confidence_interval = estimate_population_mean(sample_mean, sample_std, sample_size, confidence_level)\n",
    "print(f\"Population mean estimate: {sample_mean}\")\n",
    "print(f\"95% Confidence Interval: {confidence_interval}\")\n"
   ]
  },
  {
   "cell_type": "markdown",
   "id": "4a911de7-f293-4dca-bbe1-fe6cec10de0f",
   "metadata": {},
   "source": [
    "## Q3: What is Hypothesis testing? Why is it used? State the importance of Hypothesis testing.\n",
    "## A3.\n"
   ]
  },
  {
   "cell_type": "markdown",
   "id": "35334945-bc39-4c79-a301-e17f4fa6ec6a",
   "metadata": {},
   "source": [
    "**Hypothesis testing** is a statistical method used to make decisions or draw conclusions about a population based on a sample of data. It involves comparing a hypothesis or claim about a population parameter (such as a mean or proportion) with the data from a sample, in order to determine if the hypothesis is likely to be true.\n",
    "\n",
    "**Hypothesis testing is used** to test the validity of a theory or claim. \n",
    ">For example, in medical research, hypothesis testing can be used to determine if a new drug is effective in treating a disease by comparing its effects to a placebo. In business, hypothesis testing can be used to evaluate whether a new marketing strategy is effective in increasing sales.\n",
    "\n",
    "**The importance of hypothesis testing** lies in its ability to provide evidence for or against a theory or claim, and to help researchers make informed decisions based on data. It allows researchers to determine if an observed difference between groups or variables is statistically significant or simply due to chance, and to quantify the level of uncertainty in their findings. This can help researchers to draw conclusions that are based on evidence and minimize the risk of drawing incorrect or unsupported conclusions."
   ]
  },
  {
   "cell_type": "markdown",
   "id": "182cd611-f06c-487a-b1f4-2a14f2cc26c4",
   "metadata": {},
   "source": [
    "## Q4. Create a hypothesis that states whether the average weight of male college students is greater than the average weight of female college students.\n",
    "## A4.\n",
    "\n",
    "To create a hypothesis comparing the average weight of male and female college students, you would typically set up a null hypothesis $(H_0)$ and an alternative hypothesis $(H_a)$ or $(H_1)$. The null hypothesis generally states that there is no effect or no difference, while the alternative hypothesis suggests the presence of an effect or a difference. In this case, you're interested in whether the average weight of male college students is greater than the average weight of female college students.\n",
    "\n",
    "Here's an example:\n",
    "\n",
    "\n",
    "\n",
    "\n",
    "> **Null Hypothesis $(H_0)$:** The average weight of male college students is equal to or less than the average weight of female college students.\n",
    " \n",
    "> **Alternative Hypothesis $((H_a)$ or $(H_1))$:** The average weight of male college students is greater than the average weight of female college students.\n",
    "\n",
    "Symbolically:\n",
    "\n",
    "$[ H_0: \\mu_{\\text{male}} \\leq \\mu_{\\text{female}} ]$\n",
    "\n",
    "$[ H_a: \\mu_{\\text{male}} > \\mu_{\\text{female}} ]$\n",
    "\n",
    "In these hypotheses, $(\\mu_{\\text{male}})$ represents the population mean weight of male college students, and $(\\mu_{\\text{female}})$ represents the population mean weight of female college students.\n",
    "\n",
    "The hypothesis test would involve collecting data, calculating sample statistics, and using statistical methods (such as a t-test or z-test) to determine whether there is enough evidence to reject the null hypothesis in favor of the alternative hypothesis. The choice between a t-test or z-test depends on factors such as the sample size and whether the population standard deviations are known.tions are known.ons are known.\n",
    "\n"
   ]
  },
  {
   "cell_type": "markdown",
   "id": "b055bd69-fce1-4d99-aae0-5a9268f0d879",
   "metadata": {},
   "source": [
    "## Q5. Write a Python script to conduct a hypothesis test on the difference between two population means, given a sample from each population.\n",
    "## A5."
   ]
  },
  {
   "cell_type": "code",
   "execution_count": 3,
   "id": "0ba723a3-5e7c-4076-beda-029bcf42adba",
   "metadata": {},
   "outputs": [
    {
     "name": "stdout",
     "output_type": "stream",
     "text": [
      "t-statistic:  -6.984124401213544\n",
      "p-value:  4.2482209722341913e-11\n",
      "Reject null hypothesis\n"
     ]
    }
   ],
   "source": [
    "import numpy as np\n",
    "from scipy.stats import ttest_ind\n",
    "\n",
    "# create two random samples\n",
    "sample1 = np.random.normal(10, 2, 100)\n",
    "sample2 = np.random.normal(12, 2, 100)\n",
    "\n",
    "# conduct t-test\n",
    "t_stat, p_val = ttest_ind(sample1, sample2)\n",
    "\n",
    "# print results\n",
    "print(\"t-statistic: \", t_stat)\n",
    "print(\"p-value: \", p_val)\n",
    "\n",
    "# check if p-value is significant at 5% level\n",
    "if p_val < 0.05:\n",
    "    print(\"Reject null hypothesis\")\n",
    "else:\n",
    "    print(\"Fail to reject null hypothesis\")"
   ]
  },
  {
   "cell_type": "markdown",
   "id": "9ce5ed92-e6e9-4c52-bbb8-5765dfdc47ef",
   "metadata": {},
   "source": [
    "## Q6: What is a null and alternative hypothesis? Give some examples.\n",
    "## A6.\n",
    "- **Null Hypothesis $(H_0)$:** states that there is no significant difference between two populations or variables. It is often the default or conventional position and is tested against the alternative hypothesis. In other words, it is the claim that researchers aim to reject or fail to reject based on the evidence from the data.\n",
    "\n",
    "- **Alternative Hypothesis $(H_a)$ or $(H_1)$:** is the complement of the null hypothesis and states that there is a significant difference between two populations or variables. It represents the claim that researchers seek to support or prove based on the evidence from the data.\n",
    "\n",
    "**Examples:**\n",
    "1. Null hypothesis: The average IQ scores of two groups of students are equal.<br>Alternative hypothesis: The average IQ score of one group of students is significantly different from the other group.\n",
    "\n",
    "2. Null hypothesis: The new drug has no effect on curing a disease.<br>Alternative hypothesis: The new drug is significantly more effective in curing the disease than the current drug."
   ]
  },
  {
   "cell_type": "markdown",
   "id": "755f2a08-8554-4cdd-8b62-838057553e2d",
   "metadata": {},
   "source": [
    "## Q7:Write down the steps involved in hypothesis testing.\n",
    "\n",
    "## A7.:\n",
    "The general steps involved in hypothesis testing are:\n",
    "\n",
    "1. **State the null and alternative hypotheses:** Identify the research question and define the null and alternative hypotheses that represent the possible outcomes.\n",
    "2. **Determine the test statistic:** Choose an appropriate statistical test (e.g., t-test, ANOVA, chi-square) based on the research question and data type, and calculate the test statistic using the sample data.\n",
    "3. **Set the significance level:** Determine the level of significance (alpha) to use for the test. This is the probability of rejecting the null hypothesis when it is true and is typically set at 0.05.\n",
    "4. **Calculate the p-value:** Calculate the probability of observing the test statistic or a more extreme value under the null hypothesis.\n",
    "5. **Make a decision:** Compare the p-value to the significance level and make a decision whether to reject or fail to reject the null hypothesis. If the p-value is less than or equal to the significance level, reject the null hypothesis; otherwise, fail to reject the null hypothesis."
   ]
  },
  {
   "cell_type": "markdown",
   "id": "e4d17eee-6b8e-40fb-b97c-5d5135ee2f19",
   "metadata": {},
   "source": [
    "## Q8: Define p-value and explain its significance in hypothesis testing.\n",
    "\n",
    "## A8:\n",
    "The p-value in hypothesis testing is the probability of observing a test statistic or a more extreme value, given that the null hypothesis is true. In other words, it is the probability of obtaining the observed data or more extreme data if the null hypothesis is true.<br>\n",
    "The p-value provides a measure of the strength of evidence against the null hypothesis. A small p-value indicates strong evidence against the null hypothesis, while a large p-value indicates weak evidence against the null hypothesis.\n",
    "\n",
    "The p-value is a key component of hypothesis testing because it helps researchers make decisions about the null hypothesis. If the p-value is small (e.g., less than or equal to the significance level), it suggests that the observed data is unlikely to have occurred by chance under the null hypothesis, and the null hypothesis is rejected. If the p-value is large (e.g., greater than the significance level), it suggests that the observed data is consistent with the null hypothesis, and the null hypothesis is not rejected."
   ]
  },
  {
   "cell_type": "markdown",
   "id": "466c760d-027b-4e7b-8faa-b655c15e5f30",
   "metadata": {},
   "source": [
    "## Q9. Generate a Student's t-distribution plot using Python's matplotlib library, with the degrees of freedom parameter set to 10.\n",
    "## A9."
   ]
  },
  {
   "cell_type": "code",
   "execution_count": 4,
   "id": "b6963137-05c7-461d-ae82-d52da73eb2d5",
   "metadata": {},
   "outputs": [
    {
     "data": {
      "text/plain": [
       "(array([1.58177144e-04, 6.32708575e-04, 3.16354287e-04, 1.10724001e-03,\n",
       "        6.16890860e-03, 1.70831315e-02, 4.80858517e-02, 1.19898275e-01,\n",
       "        2.39005664e-01, 3.71083579e-01, 3.64123785e-01, 2.37423893e-01,\n",
       "        1.10565823e-01, 4.28660059e-02, 1.53431829e-02, 5.37802288e-03,\n",
       "        1.26541715e-03, 9.49062862e-04, 0.00000000e+00, 3.16354287e-04]),\n",
       " array([-6.28771963, -5.65551704, -5.02331445, -4.39111186, -3.75890927,\n",
       "        -3.12670667, -2.49450408, -1.86230149, -1.2300989 , -0.59789631,\n",
       "         0.03430628,  0.66650887,  1.29871146,  1.93091405,  2.56311664,\n",
       "         3.19531923,  3.82752182,  4.45972441,  5.091927  ,  5.72412959,\n",
       "         6.35633218]),\n",
       " <BarContainer object of 20 artists>)"
      ]
     },
     "execution_count": 4,
     "metadata": {},
     "output_type": "execute_result"
    },
    {
     "data": {
      "image/png": "[encoded data removed]",
      "text/plain": [
       "<Figure size 640x480 with 1 Axes>"
      ]
     },
     "metadata": {},
     "output_type": "display_data"
    }
   ],
   "source": [
    "from scipy.stats import t\n",
    "import matplotlib.pyplot as plt\n",
    "\n",
    "#generate t distribution with sample size 10000\n",
    "x = t.rvs(df=10, size=10000)\n",
    "\n",
    "plt.hist(x, density=True, edgecolor='black', bins=20)"
   ]
  },
  {
   "cell_type": "markdown",
   "id": "73045f29-1d54-4e92-af25-a82607bd2501",
   "metadata": {},
   "source": [
    "## Q10. Write a Python program to calculate the two-sample t-test for independent samples, given two random samples of equal size and a null hypothesis that the population means are equal.\n",
    "## A10."
   ]
  },
  {
   "cell_type": "code",
   "execution_count": 5,
   "id": "edc5f6f3-5c20-4256-9d0c-f911a3407bac",
   "metadata": {},
   "outputs": [
    {
     "name": "stdout",
     "output_type": "stream",
     "text": [
      "t-test statistic: -5.907222528291039\n",
      "p-value: 1.495013567565342e-08\n",
      "Reject the null hypothesis\n"
     ]
    }
   ],
   "source": [
    "import numpy as np\n",
    "from scipy.stats import ttest_ind\n",
    "\n",
    "sample1 = np.random.normal(10, 2, 100)\n",
    "sample2 = np.random.normal(12, 2, 100)\n",
    "\n",
    "#calculate the t-test statistic and p-value\n",
    "t_statistic, p_value = ttest_ind(sample1, sample2)\n",
    "\n",
    "print(\"t-test statistic:\", t_statistic)\n",
    "print(\"p-value:\", p_value)\n",
    "\n",
    "#compare the p-value to the significance level\n",
    "alpha = 0.05\n",
    "if p_value < alpha:\n",
    "    print(\"Reject the null hypothesis\")\n",
    "else:\n",
    "    print(\"Fail to reject the null hypothesis\")\n"
   ]
  },
  {
   "cell_type": "markdown",
   "id": "cd53d769-f482-4464-a112-41367f8ad89b",
   "metadata": {},
   "source": [
    "## Q11: What is Student’s t distribution? When to use the t-Distribution.\n",
    "## A11.\n",
    "**Student's t distribution** is a probability distribution that is used in hypothesis testing when the sample size is small and the population standard deviation is unknown.<br>\n",
    "It is similar to the standard normal distribution (z-distribution), but has heavier tails, which means it has more probability in the tails and less in the center compared to the standard normal distribution. The shape of the t-distribution depends on the sample size, with smaller sample sizes resulting in a more spread-out distribution.\n",
    "\n",
    "**The t-distribution is used** in situations where the population standard deviation is unknown and must be estimated from the sample data. <br>It is also used when the sample size is small (typically less than 30) and the population is normally distributed. The t-distribution allows for greater uncertainty in the estimate of the population standard deviation due to the smaller sample size.\n"
   ]
  },
  {
   "cell_type": "markdown",
   "id": "46896e92-ce64-4a21-917f-69549c26a4b2",
   "metadata": {},
   "source": [
    "## Q12: What is t-statistic? State the formula for t-statistic.\n",
    "\n",
    "## A12.\n",
    "**The t-statistic** is a measure of how many standard errors the sample mean is from the hypothesized population mean, under the assumption that the population variance is unknown and must be estimated from the sample data. It is used in hypothesis testing to determine whether the difference between the sample mean and the hypothesized population mean is statistically significant.\n",
    "\n",
    ">The formula for the t-statistic is:<br>t = (x̄ - μ) / (s / √n)\n",
    "\n",
    ">where:<br>x̄ is the sample mean<br>μ is the hypothesized population mean<br>s is the sample standard deviation<br>n is the sample size<br>√n is the square root of the sample size"
   ]
  },
  {
   "cell_type": "markdown",
   "id": "e32c49c9-3a8a-40d0-b14d-007e245e0481",
   "metadata": {},
   "source": [
    "## Q13. \n",
    "**A coffee shop owner wants to estimate the average daily revenue for their shop. They take a random\n",
    "sample of 50 days and find the sample mean revenue to be `$500 with a standard deviation of $50.`\n",
    "Estimate the population mean revenue with a 95% confidence interval.**\n",
    "## A13.\n",
    "\n",
    "To estimate the population mean revenue with a 95% confidence interval, we can use the following formula:<br>\n",
    ">Confidence Interval = sample mean ± margin of error\n",
    "\n",
    "where the margin of error is given by:<br>\n",
    ">Margin of Error = critical value * standard error\n",
    "\n",
    "The standard error is the standard deviation of the sample divided by the square root of the sample size:<br>\n",
    ">Standard Error = standard deviation / sqrt(sample size)\n",
    "\n",
    "Substituting the values given in the problem statement, we get:<br>\n",
    ">Standard Error = 50 / $\\sqrt{50}$ = 7.07<br>Margin of Error = 1.96 * 7.07 = 13.85\n",
    "\n",
    "Therefore, the 95% confidence interval for the population mean revenue is:<br>\n",
    ">500 ± 13.85, or (486.15, 513.85)\n",
    "\n",
    "We can be 95% confident that the true population mean revenue falls within this interval."
   ]
  },
  {
   "cell_type": "markdown",
   "id": "01c73b54-1657-4335-a88f-3a8b81449e3b",
   "metadata": {},
   "source": [
    "## Q14. \n",
    "**A researcher hypothesizes that a new drug will decrease blood pressure by 10 mmHg. They conduct a\n",
    "clinical trial with 100 patients and find that the sample mean decrease in blood pressure is 8 mmHg with a\n",
    "standard deviation of 3 mmHg. Test the hypothesis with a significance level of 0.05.**\n",
    "## A14.\n",
    "\n",
    "The following values are given in the question:<br>\n",
    ">Population Mean = 10<br>Sample Size = n = 100<br>Sample Mean = 8<br>Standard Deviation = 3<br>Significance Level = 0.05<br>Confidence Interval = 0.95\n",
    "\n",
    "My null and alternate hypothesis are as follows:<br>\n",
    ">Null Hypothesis = H0 => Population Mean = 10<br>Alternate Hypothesis = H1 => Population Mean != 10\n",
    "\n",
    "From utilizing z-table i obgtained values for z-score:<br>\n",
    ">z-score = ± 1.96\n",
    "\n",
    "Then I utilized the follwing z-test formula:<br>\n",
    ">$[ z = \\frac{{\\bar{X} - \\mu}}{{\\frac{\\sigma}{\\sqrt{n}}}} ]$\n",
    "\n",
    "I got the following value:\n",
    ">-0.66\n",
    "\n",
    "**As -0.66 lies outside the region ± 1.96, that means it lies in the rejection region.<br> So my final conclusion was:**<br>\n",
    ">**Reject the null hypothesis**\n",
    "s within the non-rejection region."
   ]
  },
  {
   "cell_type": "markdown",
   "id": "6c02ac92-cf78-4f80-b297-4c72865a01d7",
   "metadata": {},
   "source": [
    "## Q15. \n",
    "**An electronics company produces a certain type of product with a mean weight of 5 pounds and a\n",
    "standard deviation of 0.5 pounds. A random sample of 25 products is taken, and the sample mean weight\n",
    "is found to be 4.8 pounds. Test the hypothesis that the true mean weight of the products is less than 5\n",
    "pounds with a significance level of 0.01.**\n",
    "\n",
    "## A15.\n",
    "\n",
    "The following values are given in the question:<br>\n",
    ">Population Mean = 5<br>Sample Size = n = 25<br>Sample Mean = 4.8<br>Standard Deviation = 0.5<br>Significance Level = 0.01<br>Confidence Interval = 0.99\n",
    "\n",
    "My null and alternate hypothesis are as follows:<br>\n",
    ">Null Hypothesis = $(H_0)$=> Population Mean = 5<br>Alternate Hypothesis = $(H_1)$ => Population Mean < 5\n",
    "\n",
    "Then I utilized the follwing z-test formula:\n",
    ">$[ z = \\frac{{\\bar{X} - \\mu}}{{\\frac{\\sigma}{\\sqrt{n}}}} ]$\n",
    "\n",
    "I got the following value:\n",
    ">-2\n",
    "\n",
    "From utilizing z-table i obgtained values for z-score of -2:<br>\n",
    ">z-score = 0.02275\n",
    "\n",
    "Which also becomes my p-value:<br>\n",
    ">p-value = 0.02275\n",
    "\n",
    "Then i checked whether p-value < significance value<br>\n",
    ">0.02775 < 0.01<br>**False**\n",
    "\n",
    "So my final conclusion was:<br>\n",
    ">**Failed to reject null hypothesis**"
   ]
  },
  {
   "cell_type": "markdown",
   "id": "3b897539-3365-4884-8db6-b6a0a8967a87",
   "metadata": {},
   "source": [
    "## Q16. \n",
    "**Two groups of students are given different study materials to prepare for a test. The first group (n1 =\n",
    "30) has a mean score of 80 with a standard deviation of 10, and the second group (n2 = 40) has a mean\n",
    "score of 75 with a standard deviation of 8. Test the hypothesis that the population means for the two\n",
    "groups are equal with a significance level of 0.01.**\n",
    "\n",
    "## A16.\n",
    "My null and alternate hypothesis are as follows:<br>\n",
    ">Null Hypothesis = $(H_0)$ => Population Mean of Group 1 = Population Mean of Group 2<br>Alternate Hypothesis = $(H_1)$ => Population Mean of Group 1 != Population Mean of Group \n",
    "\n",
    "Then I utilized the follwing two sample T-test formula:\n",
    ">$[ t = \\frac{{\\bar{X}_1 - \\bar{X}_2}}{{\\sqrt{\\frac{{s_1^2}}{{n_1}} + \\frac{{s_2^2}}{{n_2}}}}} ]$\n",
    "\n",
    "I got the value of t as:\n",
    "> t = 2.37\n",
    "\n",
    "Then I utilized t-table to look for the value of t for the following parameters:<br>\n",
    "> Degrees of Freedom = 68<br>Significance Value = 0.01\n",
    "\n",
    "I got the following value of t fromt the table:<br>\n",
    "> t = ± 2.638\n",
    "\n",
    "**Since 2.37 lies in the region ±2.638 so, the final conclusion was:**<br>\n",
    ">**Failed to reject null hypothesis**<br>\n",
    ">**Population mean for two groups are equal**\n"
   ]
  },
  {
   "cell_type": "markdown",
   "id": "3be6e102-db73-44f7-9d0c-6d20ca9385c4",
   "metadata": {},
   "source": [
    "## Q17. \n",
    "**A marketing company wants to estimate the average number of ads watched by viewers during a TV\n",
    "program. They take a random sample of 50 viewers and find that the sample mean is 4 with a standard\n",
    "deviation of 1.5. Estimate the population mean with a 99% confidence interval.**\n",
    "\n",
    "\n",
    "## A17.\n",
    "To estimate the population mean with a 99% confidence interval, we can use the following formula:<br>\n",
    ">CI = X̄ ± z*(σ/√n)\n",
    "\n",
    "Where:<br>\n",
    ">X̄ = sample mean (4)<br>z = z-score corresponding to the confidence level (99%)<br>σ = population standard deviation (1.5)<br>n = sample size (50)<br>\n",
    "\n",
    "To find the z-score, we can use a standard normal distribution table. For a 99% confidence level, the z-score is<br>\n",
    ">z-score = 2.576.\n",
    "\n",
    "Plugging in the values, we get:\n",
    ">CI = 4 ± 2.576*(1.5/√50)<br>CI = 4 ± 0.665\n",
    "\n",
    "Therefore, the 99% confidence interval for the population mean of the number of ads watched by viewers during a TV program is (3.335, 4.665). We are 99% confident that the true population mean falls within this interval.\n"
   ]
  }
 ],
 "metadata": {
  "kernelspec": {
   "display_name": "Python 3 (ipykernel)",
   "language": "python",
   "name": "python3"
  },
  "language_info": {
   "codemirror_mode": {
    "name": "ipython",
    "version": 3
   },
   "file_extension": ".py",
   "mimetype": "text/x-python",
   "name": "python",
   "nbconvert_exporter": "python",
   "pygments_lexer": "ipython3",
   "version": "3.11.5"
  }
 },
 "nbformat": 4,
 "nbformat_minor": 5
}
