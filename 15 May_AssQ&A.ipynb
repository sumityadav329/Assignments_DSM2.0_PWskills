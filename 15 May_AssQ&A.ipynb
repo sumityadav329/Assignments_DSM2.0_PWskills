{
 "cells": [
  {
   "cell_type": "code",
   "execution_count": null,
   "id": "0f54c561-d55f-4ffd-8876-d06bc8048c57",
   "metadata": {},
   "outputs": [],
   "source": [
    "# Q1. How do you comment code in Python? What are the different types of comments?\n",
    "# A1.   1. Single Line Comment : \n",
    "          # By using hash or pound sign like this '#'(shortcut= ctrl+ (/) forword slash) to comment any code of single line.\n",
    "    ''' 2.  Multi Line comment :\n",
    "          By using a triple quote sign like this  ('''code''') at the start and end of the code\n",
    "          you can comment for multiple lines of code or lines'''"
   ]
  },
  {
   "cell_type": "code",
   "execution_count": null,
   "id": "59774fa5-4734-4709-83bf-c104217b4313",
   "metadata": {},
   "outputs": [],
   "source": [
    "# Q2. What are variables in Python? How do you declare and assign values to variables?\n",
    "# A2.  Variable:\n",
    "    '''A Variable is a named location in memory (like container) used to stored data. \n",
    "       In Python, you can assign values to variables using the assignment operator (=).\n",
    "       e.g. A = 12, B = \"Sumit\", C = 5+6j.'''\n",
    "    print("
   ]
  },
  {
   "cell_type": "code",
   "execution_count": 20,
   "id": "a626db85-b89c-4a2d-8c02-cdff0645d2c1",
   "metadata": {},
   "outputs": [
    {
     "name": "stdout",
     "output_type": "stream",
     "text": [
      "1. Explicit Conversion: done via developer or programmer\n",
      "786\n",
      "<class 'str'>\n",
      "4\n",
      "<class 'int'>\n",
      "The Sum of Both the number and type is:  790\n",
      "<class 'int'>\n",
      "2. Implicit Conversion: done via Python itself\n",
      "785.5\n",
      "<class 'float'>\n",
      "4\n",
      "<class 'int'>\n",
      "The Sum of Both the number and type is:  789.5\n",
      "<class 'float'>\n"
     ]
    }
   ],
   "source": [
    "# Q3. How do you convert one data type to another in Python?\n",
    "# A3. \n",
    "# In Python, two types of data type coversion happens \n",
    "print(\"1. Explicit Conversion: done via developer or programmer\")\n",
    "string = \"786\"\n",
    "print(string)\n",
    "print(type(string))\n",
    "integer =  4\n",
    "print(integer)\n",
    "print(type(integer))\n",
    "string2int = int(string) #throws an error if the string is not a valid integer\n",
    "sum = integer + string2int\n",
    "print(\"The Sum of Both the number and type is: \", sum)\n",
    "print(type(sum))\n",
    "\n",
    "\n",
    "print(\"2. Implicit Conversion: done via Python itself\")\n",
    "float_ = 785.5\n",
    "print(float_)\n",
    "print(type(float_))\n",
    "integer =  4\n",
    "print(integer)\n",
    "print(type(integer))\n",
    "sum = integer + float_ #no need to tell  python to covert integer into float(it does automatically).\n",
    "print(\"The Sum of Both the number and type is: \", sum)\n",
    "print(type(sum))\n"
   ]
  },
  {
   "cell_type": "code",
   "execution_count": null,
   "id": "f10dc71d-6000-4b7d-83ea-12c56792f806",
   "metadata": {},
   "outputs": [],
   "source": [
    "# Q4. How do you write and execute a Python script from the command line?\n",
    "#A4. don't know yet"
   ]
  },
  {
   "cell_type": "code",
   "execution_count": 41,
   "id": "1ea02fda-991c-4817-b993-ad64a809bad2",
   "metadata": {},
   "outputs": [
    {
     "name": "stdout",
     "output_type": "stream",
     "text": [
      "[2, 3]\n",
      "[2, 3]\n"
     ]
    }
   ],
   "source": [
    "# Q5. Given a list my_list = [1, 2, 3, 4, 5], write the code to slice the list and obtain the sub-list [2, 3].\n",
    "#A5.  \n",
    "# Method 1\n",
    "my_list = [1,2,3,4,5]\n",
    "sub_list = my_list[1:3]\n",
    "print(sub_list)\n",
    "# Method 2\n",
    "sub_list = my_list[-4:-2]\n",
    "print(sub_list)"
   ]
  },
  {
   "cell_type": "code",
   "execution_count": null,
   "id": "d89c4e76-c936-4479-b68b-267c4e7ab1f8",
   "metadata": {},
   "outputs": [],
   "source": [
    "# Q6. What is a complex number in mathematics, and how is it represented in Python?\n",
    "# A6. \n",
    "'''Complex numbers are the numbers that are expressed in the form of a+ib \n",
    "where, a,b are real numbers and 'i' is an imaginary number called “iota”. The value of i = (√-1). \n",
    "For example, 2+3i is a complex number, where 2 is a real number (Re) and 3i is an imaginary number (Im).'''\n",
    "\n",
    "\n",
    "'''In Python, complex numbers  are numbers that have both a real part and an imaginary part. \n",
    "The imaginary part is denoted by the letter \"j\" or \"J\". \n",
    "Complex numbers are represented in the form a + bj, where a is the real part and b is the imaginary part.'''\n"
   ]
  },
  {
   "cell_type": "code",
   "execution_count": 49,
   "id": "1b91cb16-8819-46fe-b43c-a1d32266fc33",
   "metadata": {},
   "outputs": [],
   "source": [
    "# Q7. What is the correct way to declare a variable named age and assign the value 25 to it?\n",
    "# A7. \n",
    "age = 25\n"
   ]
  },
  {
   "cell_type": "code",
   "execution_count": 50,
   "id": "44079c47-cdfe-42ca-9326-31277372db1b",
   "metadata": {},
   "outputs": [
    {
     "name": "stdout",
     "output_type": "stream",
     "text": [
      "<class 'float'>\n"
     ]
    }
   ],
   "source": [
    "# Q8. Declare a variable named price and assign the value 9.99 to it. What data type does this variable belong to?\n",
    "# A8.\n",
    "price = 9.99 #it belongs to float\n",
    "print(type(price))"
   ]
  },
  {
   "cell_type": "code",
   "execution_count": 51,
   "id": "d20e8760-3f9e-4c03-9573-1eca06ab72c2",
   "metadata": {},
   "outputs": [
    {
     "name": "stdout",
     "output_type": "stream",
     "text": [
      "Sumit Yadav\n"
     ]
    }
   ],
   "source": [
    "# Q9. Create a variable named name and assign your full name to it as a string. How would you print the value of this variable?\n",
    "# A9.\n",
    "name = 'Sumit Yadav'\n",
    "print(name)"
   ]
  },
  {
   "cell_type": "code",
   "execution_count": 54,
   "id": "215df0bb-cfae-4f27-ab9e-49d70a0ac5e4",
   "metadata": {},
   "outputs": [
    {
     "data": {
      "text/plain": [
       "'World!'"
      ]
     },
     "execution_count": 54,
     "metadata": {},
     "output_type": "execute_result"
    }
   ],
   "source": [
    "# Q10. Given the string \"Hello, World!\", extract the substring \"World\".\n",
    "# A10.\n",
    "string = \"Hello World!\"\n",
    "string[6:]"
   ]
  },
  {
   "cell_type": "code",
   "execution_count": null,
   "id": "0afa07c1-9665-4d40-9410-e9072839aadb",
   "metadata": {},
   "outputs": [],
   "source": [
    "# Q11. Create a variable named \"is_student\" and assign it a boolean value indicating whether you are currently a student or not.\n",
    "# A11. \n",
    "is_student = True\n",
    "\n",
    "is_student = False\n"
   ]
  }
 ],
 "metadata": {
  "kernelspec": {
   "display_name": "Python 3 (ipykernel)",
   "language": "python",
   "name": "python3"
  },
  "language_info": {
   "codemirror_mode": {
    "name": "ipython",
    "version": 3
   },
   "file_extension": ".py",
   "mimetype": "text/x-python",
   "name": "python",
   "nbconvert_exporter": "python",
   "pygments_lexer": "ipython3",
   "version": "3.10.8"
  }
 },
 "nbformat": 4,
 "nbformat_minor": 5
}
