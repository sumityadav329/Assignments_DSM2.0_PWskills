{
 "cells": [
  {
   "cell_type": "code",
   "execution_count": 1,
   "id": "b2a3843e",
   "metadata": {},
   "outputs": [],
   "source": [
    "import pandas as pd"
   ]
  },
  {
   "cell_type": "markdown",
   "id": "9001eacb",
   "metadata": {},
   "source": [
    "**Q1. Create a Pandas Series that contains the following data: 4, 8, 15, 16, 23, and 42. Then, print the series.** \\\n",
    "**A1.**"
   ]
  },
  {
   "cell_type": "code",
   "execution_count": 2,
   "id": "dfb0e047",
   "metadata": {},
   "outputs": [
    {
     "data": {
      "text/plain": [
       "0     4\n",
       "1     8\n",
       "2    15\n",
       "3    16\n",
       "4    23\n",
       "5    42\n",
       "dtype: int64"
      ]
     },
     "execution_count": 2,
     "metadata": {},
     "output_type": "execute_result"
    }
   ],
   "source": [
    "# to create a pandas Series \n",
    "\n",
    "ds = pd.Series([4,8,15,16,23,42])\n",
    "\n",
    "# to print this series \n",
    "ds      # or print(ds)"
   ]
  },
  {
   "cell_type": "code",
   "execution_count": 3,
   "id": "2f243ee2",
   "metadata": {},
   "outputs": [
    {
     "data": {
      "text/plain": [
       "pandas.core.series.Series"
      ]
     },
     "execution_count": 3,
     "metadata": {},
     "output_type": "execute_result"
    }
   ],
   "source": [
    "# to check if this is a series\n",
    "type(ds)"
   ]
  },
  {
   "cell_type": "markdown",
   "id": "99255100",
   "metadata": {},
   "source": [
    "\n",
    "**Q2. Create a variable of list type containing 10 elements in it, and apply pandas.Series function on the\n",
    "variable print it.** \\\n",
    "**A2.**"
   ]
  },
  {
   "cell_type": "code",
   "execution_count": 4,
   "id": "92a73281",
   "metadata": {},
   "outputs": [
    {
     "data": {
      "text/plain": [
       "list"
      ]
     },
     "execution_count": 4,
     "metadata": {},
     "output_type": "execute_result"
    }
   ],
   "source": [
    "# creating a varible of list type contining 10 random elements \n",
    "lst_var = [3,4,5,9,8,'Sumit',6.0,'Hello',888,999]\n",
    "type(lst_var)"
   ]
  },
  {
   "cell_type": "code",
   "execution_count": 5,
   "id": "5bcedac7",
   "metadata": {},
   "outputs": [],
   "source": [
    "# now creating a series varible using pandas.Series function\n",
    "lv_series = pd.Series(lst_var)   # or pd.Series(lst_var)"
   ]
  },
  {
   "cell_type": "code",
   "execution_count": 6,
   "id": "3002b3b9",
   "metadata": {},
   "outputs": [
    {
     "name": "stdout",
     "output_type": "stream",
     "text": [
      "0        3\n",
      "1        4\n",
      "2        5\n",
      "3        9\n",
      "4        8\n",
      "5    Sumit\n",
      "6      6.0\n",
      "7    Hello\n",
      "8      888\n",
      "9      999\n",
      "dtype: object\n"
     ]
    }
   ],
   "source": [
    "print(lv_series)"
   ]
  },
  {
   "cell_type": "code",
   "execution_count": 7,
   "id": "a829643a",
   "metadata": {},
   "outputs": [
    {
     "data": {
      "text/plain": [
       "pandas.core.series.Series"
      ]
     },
     "execution_count": 7,
     "metadata": {},
     "output_type": "execute_result"
    }
   ],
   "source": [
    "type(lv_series)"
   ]
  },
  {
   "cell_type": "markdown",
   "id": "0aced238",
   "metadata": {},
   "source": [
    "**Q3. Create a Pandas DataFrame that contains the following data:**\n",
    "| name   | age | gender |\n",
    "|--------|-----|--------|\n",
    "| Alice  | 25  | female |\n",
    "| Bob    | 30  | male   |\n",
    "| Claire | 27  | female | \n",
    "\n",
    "\n",
    "\n",
    "\n",
    "**Then, print the DataFrame.** \n",
    "\n",
    "**A3.**"
   ]
  },
  {
   "cell_type": "code",
   "execution_count": 8,
   "id": "9927aad6",
   "metadata": {},
   "outputs": [],
   "source": [
    "# to create a pandas dataframe lets make a dictionary first\n",
    "\n",
    "data = {\"Name\":['Alice',\"Bob\", \"Claire\",],\n",
    "        \"Age\": [25,30,27,],\n",
    "        \"Gender\" : ['female','male','female']}\n",
    "\n",
    "# Now we can pass dict into a dataframe name df\n",
    "\n",
    "df = pd.DataFrame(data)"
   ]
  },
  {
   "cell_type": "code",
   "execution_count": 9,
   "id": "67197423",
   "metadata": {},
   "outputs": [
    {
     "data": {
      "text/html": [
       "<div>\n",
       "<style scoped>\n",
       "    .dataframe tbody tr th:only-of-type {\n",
       "        vertical-align: middle;\n",
       "    }\n",
       "\n",
       "    .dataframe tbody tr th {\n",
       "        vertical-align: top;\n",
       "    }\n",
       "\n",
       "    .dataframe thead th {\n",
       "        text-align: right;\n",
       "    }\n",
       "</style>\n",
       "<table border=\"1\" class=\"dataframe\">\n",
       "  <thead>\n",
       "    <tr style=\"text-align: right;\">\n",
       "      <th></th>\n",
       "      <th>Name</th>\n",
       "      <th>Age</th>\n",
       "      <th>Gender</th>\n",
       "    </tr>\n",
       "  </thead>\n",
       "  <tbody>\n",
       "    <tr>\n",
       "      <th>0</th>\n",
       "      <td>Alice</td>\n",
       "      <td>25</td>\n",
       "      <td>female</td>\n",
       "    </tr>\n",
       "    <tr>\n",
       "      <th>1</th>\n",
       "      <td>Bob</td>\n",
       "      <td>30</td>\n",
       "      <td>male</td>\n",
       "    </tr>\n",
       "    <tr>\n",
       "      <th>2</th>\n",
       "      <td>Claire</td>\n",
       "      <td>27</td>\n",
       "      <td>female</td>\n",
       "    </tr>\n",
       "  </tbody>\n",
       "</table>\n",
       "</div>"
      ],
      "text/plain": [
       "     Name  Age  Gender\n",
       "0   Alice   25  female\n",
       "1     Bob   30    male\n",
       "2  Claire   27  female"
      ]
     },
     "execution_count": 9,
     "metadata": {},
     "output_type": "execute_result"
    }
   ],
   "source": [
    "df # or print(df)"
   ]
  },
  {
   "cell_type": "code",
   "execution_count": 10,
   "id": "2959ea52",
   "metadata": {},
   "outputs": [
    {
     "data": {
      "text/plain": [
       "pandas.core.frame.DataFrame"
      ]
     },
     "execution_count": 10,
     "metadata": {},
     "output_type": "execute_result"
    }
   ],
   "source": [
    "type(df)"
   ]
  },
  {
   "cell_type": "markdown",
   "id": "d31ac30e",
   "metadata": {},
   "source": [
    "**Q4. What is ‘DataFrame’ in pandas and how is it different from pandas.series? Explain with an example.** \\\n",
    "**A4.**"
   ]
  },
  {
   "cell_type": "markdown",
   "id": "c8f01fbc",
   "metadata": {},
   "source": [
    "**In Pandas, a DataFrame is a two-dimensional, tabular data structure with labeled axes (rows and columns). \n",
    "\\\n",
    "It is similar to a spreadsheet or SQL table, where data can be stored in rows and columns. \\\n",
    "Each column in a DataFrame is a Pandas Series.\n",
    "\\\n",
    "A Pandas Series, on the other hand, is a one-dimensional labeled array capable of holding any data type.\\\n",
    "It is essentially a single column of a DataFrame. \n",
    "\\\n",
    "A DataFrame can be thought of as a collection of Series, where each Series represents a column.\n",
    "\\\n",
    "An example to describe the difference between a DataFrame and a Series:**\n",
    "\n"
   ]
  },
  {
   "cell_type": "code",
   "execution_count": 11,
   "id": "575f1348",
   "metadata": {},
   "outputs": [
    {
     "name": "stdout",
     "output_type": "stream",
     "text": [
      "DataFrame:\n",
      "     Name  Age  Gender\n",
      "0   Alice   25  female\n",
      "1     Bob   30    male\n",
      "2  Claire   27  female\n",
      "\n",
      "\n",
      "Series (name column):\n",
      "0     Alice\n",
      "1       Bob\n",
      "2    Claire\n",
      "Name: Name, dtype: object\n"
     ]
    }
   ],
   "source": [
    "# Creating a DataFrame\n",
    "data = {'Name': ['Alice', 'Bob', 'Claire'],\n",
    "        'Age': [25, 30, 27],\n",
    "        'Gender': ['female', 'male', 'female']}\n",
    "\n",
    "df = pd.DataFrame(data)\n",
    "\n",
    "# Displaying the DataFrame\n",
    "print(\"DataFrame:\")\n",
    "print(df)\n",
    "print(\"\\n\")\n",
    "\n",
    "# Extracting a Series from the DataFrame\n",
    "name_series = df['Name']\n",
    "\n",
    "# Displaying the Series\n",
    "print(\"Series (name column):\")\n",
    "print(name_series)\n"
   ]
  },
  {
   "cell_type": "markdown",
   "id": "0ecb4442",
   "metadata": {},
   "source": [
    "**Q5. What are some common functions you can use to manipulate data in a Pandas DataFrame? Canyou give an example of when you might use one of these functions?**\n",
    "\\\n",
    "**A5.**"
   ]
  },
  {
   "cell_type": "markdown",
   "id": "c15a3bc6",
   "metadata": {},
   "source": [
    "**Pandas provides variety of functions to manipulate data in DataFrame:\n",
    "\\\n",
    "below are some of them.**"
   ]
  },
  {
   "cell_type": "code",
   "execution_count": 12,
   "id": "3fa8b311",
   "metadata": {},
   "outputs": [
    {
     "data": {
      "text/html": [
       "<div>\n",
       "<style scoped>\n",
       "    .dataframe tbody tr th:only-of-type {\n",
       "        vertical-align: middle;\n",
       "    }\n",
       "\n",
       "    .dataframe tbody tr th {\n",
       "        vertical-align: top;\n",
       "    }\n",
       "\n",
       "    .dataframe thead th {\n",
       "        text-align: right;\n",
       "    }\n",
       "</style>\n",
       "<table border=\"1\" class=\"dataframe\">\n",
       "  <thead>\n",
       "    <tr style=\"text-align: right;\">\n",
       "      <th></th>\n",
       "      <th>Name</th>\n",
       "      <th>Age</th>\n",
       "      <th>Gender</th>\n",
       "    </tr>\n",
       "  </thead>\n",
       "  <tbody>\n",
       "    <tr>\n",
       "      <th>0</th>\n",
       "      <td>Alice</td>\n",
       "      <td>25</td>\n",
       "      <td>female</td>\n",
       "    </tr>\n",
       "    <tr>\n",
       "      <th>1</th>\n",
       "      <td>Bob</td>\n",
       "      <td>30</td>\n",
       "      <td>male</td>\n",
       "    </tr>\n",
       "    <tr>\n",
       "      <th>2</th>\n",
       "      <td>Claire</td>\n",
       "      <td>27</td>\n",
       "      <td>female</td>\n",
       "    </tr>\n",
       "    <tr>\n",
       "      <th>3</th>\n",
       "      <td>Sara</td>\n",
       "      <td>25</td>\n",
       "      <td>female</td>\n",
       "    </tr>\n",
       "    <tr>\n",
       "      <th>4</th>\n",
       "      <td>Sumit</td>\n",
       "      <td>30</td>\n",
       "      <td>male</td>\n",
       "    </tr>\n",
       "    <tr>\n",
       "      <th>5</th>\n",
       "      <td>Rahul</td>\n",
       "      <td>27</td>\n",
       "      <td>male</td>\n",
       "    </tr>\n",
       "    <tr>\n",
       "      <th>6</th>\n",
       "      <td>Mark</td>\n",
       "      <td>29</td>\n",
       "      <td>male</td>\n",
       "    </tr>\n",
       "  </tbody>\n",
       "</table>\n",
       "</div>"
      ],
      "text/plain": [
       "     Name  Age  Gender\n",
       "0   Alice   25  female\n",
       "1     Bob   30    male\n",
       "2  Claire   27  female\n",
       "3    Sara   25  female\n",
       "4   Sumit   30    male\n",
       "5   Rahul   27    male\n",
       "6    Mark   29    male"
      ]
     },
     "execution_count": 12,
     "metadata": {},
     "output_type": "execute_result"
    }
   ],
   "source": [
    "# lets add more data to dataframe we created earlier\n",
    "data2 = {'Name': ['Sara', 'Sumit', 'Rahul', 'Mark'],\n",
    "        'Age': [25, 30, 27, 29],\n",
    "        'Gender': ['female', 'male', 'male', 'male']\n",
    "        }\n",
    "df1= pd.DataFrame(data2)\n",
    "\n",
    "# concat df1 to df\n",
    "\n",
    "df = pd.concat([df,df1], ignore_index = True)\n",
    "df\n"
   ]
  },
  {
   "cell_type": "markdown",
   "id": "8e6e3381",
   "metadata": {},
   "source": [
    "# head()"
   ]
  },
  {
   "cell_type": "code",
   "execution_count": 13,
   "id": "dcfc6ea3",
   "metadata": {},
   "outputs": [
    {
     "data": {
      "text/html": [
       "<div>\n",
       "<style scoped>\n",
       "    .dataframe tbody tr th:only-of-type {\n",
       "        vertical-align: middle;\n",
       "    }\n",
       "\n",
       "    .dataframe tbody tr th {\n",
       "        vertical-align: top;\n",
       "    }\n",
       "\n",
       "    .dataframe thead th {\n",
       "        text-align: right;\n",
       "    }\n",
       "</style>\n",
       "<table border=\"1\" class=\"dataframe\">\n",
       "  <thead>\n",
       "    <tr style=\"text-align: right;\">\n",
       "      <th></th>\n",
       "      <th>Name</th>\n",
       "      <th>Age</th>\n",
       "      <th>Gender</th>\n",
       "    </tr>\n",
       "  </thead>\n",
       "  <tbody>\n",
       "    <tr>\n",
       "      <th>0</th>\n",
       "      <td>Alice</td>\n",
       "      <td>25</td>\n",
       "      <td>female</td>\n",
       "    </tr>\n",
       "    <tr>\n",
       "      <th>1</th>\n",
       "      <td>Bob</td>\n",
       "      <td>30</td>\n",
       "      <td>male</td>\n",
       "    </tr>\n",
       "    <tr>\n",
       "      <th>2</th>\n",
       "      <td>Claire</td>\n",
       "      <td>27</td>\n",
       "      <td>female</td>\n",
       "    </tr>\n",
       "  </tbody>\n",
       "</table>\n",
       "</div>"
      ],
      "text/plain": [
       "     Name  Age  Gender\n",
       "0   Alice   25  female\n",
       "1     Bob   30    male\n",
       "2  Claire   27  female"
      ]
     },
     "execution_count": 13,
     "metadata": {},
     "output_type": "execute_result"
    }
   ],
   "source": [
    "# displays the first five rows of dataframe\n",
    "df.head(3)"
   ]
  },
  {
   "cell_type": "markdown",
   "id": "9d981a08",
   "metadata": {},
   "source": [
    "# tail()"
   ]
  },
  {
   "cell_type": "code",
   "execution_count": 14,
   "id": "7729f292",
   "metadata": {},
   "outputs": [
    {
     "data": {
      "text/html": [
       "<div>\n",
       "<style scoped>\n",
       "    .dataframe tbody tr th:only-of-type {\n",
       "        vertical-align: middle;\n",
       "    }\n",
       "\n",
       "    .dataframe tbody tr th {\n",
       "        vertical-align: top;\n",
       "    }\n",
       "\n",
       "    .dataframe thead th {\n",
       "        text-align: right;\n",
       "    }\n",
       "</style>\n",
       "<table border=\"1\" class=\"dataframe\">\n",
       "  <thead>\n",
       "    <tr style=\"text-align: right;\">\n",
       "      <th></th>\n",
       "      <th>Name</th>\n",
       "      <th>Age</th>\n",
       "      <th>Gender</th>\n",
       "    </tr>\n",
       "  </thead>\n",
       "  <tbody>\n",
       "    <tr>\n",
       "      <th>4</th>\n",
       "      <td>Sumit</td>\n",
       "      <td>30</td>\n",
       "      <td>male</td>\n",
       "    </tr>\n",
       "    <tr>\n",
       "      <th>5</th>\n",
       "      <td>Rahul</td>\n",
       "      <td>27</td>\n",
       "      <td>male</td>\n",
       "    </tr>\n",
       "    <tr>\n",
       "      <th>6</th>\n",
       "      <td>Mark</td>\n",
       "      <td>29</td>\n",
       "      <td>male</td>\n",
       "    </tr>\n",
       "  </tbody>\n",
       "</table>\n",
       "</div>"
      ],
      "text/plain": [
       "    Name  Age Gender\n",
       "4  Sumit   30   male\n",
       "5  Rahul   27   male\n",
       "6   Mark   29   male"
      ]
     },
     "execution_count": 14,
     "metadata": {},
     "output_type": "execute_result"
    }
   ],
   "source": [
    "#displays the last five rows of dataframe\n",
    "df.tail(3)"
   ]
  },
  {
   "cell_type": "markdown",
   "id": "c57c4010",
   "metadata": {},
   "source": [
    "# describe()"
   ]
  },
  {
   "cell_type": "code",
   "execution_count": 15,
   "id": "82685fe2",
   "metadata": {},
   "outputs": [
    {
     "data": {
      "text/html": [
       "<div>\n",
       "<style scoped>\n",
       "    .dataframe tbody tr th:only-of-type {\n",
       "        vertical-align: middle;\n",
       "    }\n",
       "\n",
       "    .dataframe tbody tr th {\n",
       "        vertical-align: top;\n",
       "    }\n",
       "\n",
       "    .dataframe thead th {\n",
       "        text-align: right;\n",
       "    }\n",
       "</style>\n",
       "<table border=\"1\" class=\"dataframe\">\n",
       "  <thead>\n",
       "    <tr style=\"text-align: right;\">\n",
       "      <th></th>\n",
       "      <th>Age</th>\n",
       "    </tr>\n",
       "  </thead>\n",
       "  <tbody>\n",
       "    <tr>\n",
       "      <th>count</th>\n",
       "      <td>7.000000</td>\n",
       "    </tr>\n",
       "    <tr>\n",
       "      <th>mean</th>\n",
       "      <td>27.571429</td>\n",
       "    </tr>\n",
       "    <tr>\n",
       "      <th>std</th>\n",
       "      <td>2.149197</td>\n",
       "    </tr>\n",
       "    <tr>\n",
       "      <th>min</th>\n",
       "      <td>25.000000</td>\n",
       "    </tr>\n",
       "    <tr>\n",
       "      <th>25%</th>\n",
       "      <td>26.000000</td>\n",
       "    </tr>\n",
       "    <tr>\n",
       "      <th>50%</th>\n",
       "      <td>27.000000</td>\n",
       "    </tr>\n",
       "    <tr>\n",
       "      <th>75%</th>\n",
       "      <td>29.500000</td>\n",
       "    </tr>\n",
       "    <tr>\n",
       "      <th>max</th>\n",
       "      <td>30.000000</td>\n",
       "    </tr>\n",
       "  </tbody>\n",
       "</table>\n",
       "</div>"
      ],
      "text/plain": [
       "             Age\n",
       "count   7.000000\n",
       "mean   27.571429\n",
       "std     2.149197\n",
       "min    25.000000\n",
       "25%    26.000000\n",
       "50%    27.000000\n",
       "75%    29.500000\n",
       "max    30.000000"
      ]
     },
     "execution_count": 15,
     "metadata": {},
     "output_type": "execute_result"
    }
   ],
   "source": [
    "# to display statistics of dataframe\n",
    "df.describe()"
   ]
  },
  {
   "cell_type": "markdown",
   "id": "acfe579c",
   "metadata": {},
   "source": [
    "# info()"
   ]
  },
  {
   "cell_type": "code",
   "execution_count": 16,
   "id": "62638ac0",
   "metadata": {},
   "outputs": [
    {
     "name": "stdout",
     "output_type": "stream",
     "text": [
      "<class 'pandas.core.frame.DataFrame'>\n",
      "RangeIndex: 7 entries, 0 to 6\n",
      "Data columns (total 3 columns):\n",
      " #   Column  Non-Null Count  Dtype \n",
      "---  ------  --------------  ----- \n",
      " 0   Name    7 non-null      object\n",
      " 1   Age     7 non-null      int64 \n",
      " 2   Gender  7 non-null      object\n",
      "dtypes: int64(1), object(2)\n",
      "memory usage: 300.0+ bytes\n"
     ]
    }
   ],
   "source": [
    "# to display information\n",
    "df.info()"
   ]
  },
  {
   "cell_type": "markdown",
   "id": "fe284190",
   "metadata": {},
   "source": [
    "**Q6. Which of the following is mutable in nature \\\n",
    "Series, DataFrame, Panel?**\n",
    "\\\n",
    "**A6.**\n",
    "\\\n",
    "In Pandas:\n",
    "\n",
    "- **Series** is mutable.\n",
    "- **DataFrame** is mutable.\n",
    "- **Panel** is mutable, but as of Pandas version 0.25.0, Panel is deprecated. The recommended way to represent three-dimensional data is using a MultiIndex DataFrame.\n",
    "\\\n",
    "So, both Series and DataFrame are mutable in nature, while Panel is deprecated, and it is recommended to use MultiIndex DataFrames for similar functionality.**"
   ]
  },
  {
   "cell_type": "code",
   "execution_count": null,
   "id": "79dc1be3",
   "metadata": {},
   "outputs": [],
   "source": []
  },
  {
   "cell_type": "markdown",
   "id": "16cc7dce",
   "metadata": {},
   "source": [
    "**Q7. Create a DataFrame using multiple Series. Explain with an example.**\n",
    "\\\n",
    "**A7.**\n",
    " - We can create a DataFrame using multiple Series by combining them into a dictionary and then converting that dictionary into a DataFrame."
   ]
  },
  {
   "cell_type": "code",
   "execution_count": 17,
   "id": "4d3cc6bb",
   "metadata": {},
   "outputs": [],
   "source": [
    "# creating multiple series variables\n",
    "\n",
    "ds1 = pd.Series(['Monday','Tuesday','Wednesday','Thursday','Friday'])\n",
    "ds2 = pd.Series([1,3,3,2,5])\n",
    "ds3 = pd.Series(['Ms. Ellie','Mr.John','Mrs. Sheela'])\n",
    "\n",
    "# now creating a dict of them\n",
    "data = {\"Day\":ds1,\"Class\":ds2,\"Teacher\":ds3}"
   ]
  },
  {
   "cell_type": "code",
   "execution_count": 18,
   "id": "f549bd42",
   "metadata": {
    "scrolled": true
   },
   "outputs": [
    {
     "data": {
      "text/html": [
       "<div>\n",
       "<style scoped>\n",
       "    .dataframe tbody tr th:only-of-type {\n",
       "        vertical-align: middle;\n",
       "    }\n",
       "\n",
       "    .dataframe tbody tr th {\n",
       "        vertical-align: top;\n",
       "    }\n",
       "\n",
       "    .dataframe thead th {\n",
       "        text-align: right;\n",
       "    }\n",
       "</style>\n",
       "<table border=\"1\" class=\"dataframe\">\n",
       "  <thead>\n",
       "    <tr style=\"text-align: right;\">\n",
       "      <th></th>\n",
       "      <th>Day</th>\n",
       "      <th>Class</th>\n",
       "      <th>Teacher</th>\n",
       "    </tr>\n",
       "  </thead>\n",
       "  <tbody>\n",
       "    <tr>\n",
       "      <th>0</th>\n",
       "      <td>Monday</td>\n",
       "      <td>1</td>\n",
       "      <td>Ms. Ellie</td>\n",
       "    </tr>\n",
       "    <tr>\n",
       "      <th>1</th>\n",
       "      <td>Tuesday</td>\n",
       "      <td>3</td>\n",
       "      <td>Mr.John</td>\n",
       "    </tr>\n",
       "    <tr>\n",
       "      <th>2</th>\n",
       "      <td>Wednesday</td>\n",
       "      <td>3</td>\n",
       "      <td>Mrs. Sheela</td>\n",
       "    </tr>\n",
       "    <tr>\n",
       "      <th>3</th>\n",
       "      <td>Thursday</td>\n",
       "      <td>2</td>\n",
       "      <td>NaN</td>\n",
       "    </tr>\n",
       "    <tr>\n",
       "      <th>4</th>\n",
       "      <td>Friday</td>\n",
       "      <td>5</td>\n",
       "      <td>NaN</td>\n",
       "    </tr>\n",
       "  </tbody>\n",
       "</table>\n",
       "</div>"
      ],
      "text/plain": [
       "         Day  Class      Teacher\n",
       "0     Monday      1    Ms. Ellie\n",
       "1    Tuesday      3      Mr.John\n",
       "2  Wednesday      3  Mrs. Sheela\n",
       "3   Thursday      2          NaN\n",
       "4     Friday      5          NaN"
      ]
     },
     "execution_count": 18,
     "metadata": {},
     "output_type": "execute_result"
    }
   ],
   "source": [
    "# now we can create a DataFrame from data dictionary\n",
    "df2 = pd.DataFrame(data)\n",
    "df2"
   ]
  },
  {
   "cell_type": "markdown",
   "id": "8fbf54fd",
   "metadata": {},
   "source": [
    "# above two values in `Teacher` column are missing becuase we didn't enter into ds3 so thats why they are null values"
   ]
  },
  {
   "cell_type": "code",
   "execution_count": null,
   "id": "755e462b",
   "metadata": {},
   "outputs": [],
   "source": []
  }
 ],
 "metadata": {
  "kernelspec": {
   "display_name": "Python 3 (ipykernel)",
   "language": "python",
   "name": "python3"
  },
  "language_info": {
   "codemirror_mode": {
    "name": "ipython",
    "version": 3
   },
   "file_extension": ".py",
   "mimetype": "text/x-python",
   "name": "python",
   "nbconvert_exporter": "python",
   "pygments_lexer": "ipython3",
   "version": "3.11.5"
  }
 },
 "nbformat": 4,
 "nbformat_minor": 5
}
