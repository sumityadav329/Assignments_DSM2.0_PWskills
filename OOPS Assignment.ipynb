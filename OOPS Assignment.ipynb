{
 "cells": [
  {
   "cell_type": "markdown",
   "id": "14fd1751-6a11-42cf-8f92-d30d01075240",
   "metadata": {},
   "source": [
    "### Q1. Explain Class and Object with respect to Object-Oriented Programming. Give a suitable example."
   ]
  },
  {
   "cell_type": "markdown",
   "id": "3896ce04-c91e-4cf1-a3fd-8cb4ca710f39",
   "metadata": {},
   "source": [
    "##### A1. \n",
    "* 'class' is a template/blueprint/prototype for creating objects. \n",
    "* Every object belongs to some class. \n",
    "* Technically, class is a user-defined datatype.\n",
    "* class is a collection of objects.\n",
    "* class is a collection of attributes and methods.\n",
    "* Like as Email is a class and email_1, email_2, email_3, ....email_n are objects of email class.\n",
    "| **Attributes** |\n",
    "|:--------------:|\n",
    "| heading        | \n",
    "| participants   | \n",
    "| attachments    |  \n",
    "\n",
    "|**Methods**      |\n",
    "|:---------------:|\n",
    "| `__init__()`    |\n",
    "|`save_as_draft()`|\n",
    "| `send()`        | \n"
   ]
  },
  {
   "cell_type": "code",
   "execution_count": 1,
   "id": "08e5404b-c04e-43d2-8f8a-a7f9b26b0c0e",
   "metadata": {},
   "outputs": [
    {
     "name": "stdout",
     "output_type": "stream",
     "text": [
      "user1@example.com\n",
      "recipient2@example.com\n",
      "----------------\n",
      "Sending email from user1@example.com to recipient1@example.com\n",
      "Subject: Hello\n",
      "Body: This is the body of the email.\n",
      "Sending email from user2@example.com to recipient2@example.com\n",
      "Subject: Greetings\n",
      "Body: This is another email.\n"
     ]
    }
   ],
   "source": [
    "# Example :-\n",
    "\n",
    "class Email:\n",
    "    def __init__(self, sender, recipient, subject, body):\n",
    "        self.sender = sender\n",
    "        self.recipient = recipient\n",
    "        self.subject = subject\n",
    "        self.body = body\n",
    "\n",
    "    def send(self): \n",
    "        print(f\"Sending email from {self.sender} to {self.recipient}\")\n",
    "        print(f\"Subject: {self.subject}\")\n",
    "        print(f\"Body: {self.body}\")\n",
    "\n",
    "# Creating objects of the Email class\n",
    "email1 = Email(\"user1@example.com\", \"recipient1@example.com\", \"Hello\", \"This is the body of the email.\")\n",
    "email2 = Email(\"user2@example.com\", \"recipient2@example.com\", \"Greetings\", \"This is another email.\")\n",
    "\n",
    "# Accessing object attributes\n",
    "print(email1.sender)     \n",
    "print(email2.recipient)\n",
    "print(\"----------------\")\n",
    "\n",
    "# Calling object methods\n",
    "email1.send()\n",
    "email2.send()\n",
    "\n",
    "\n"
   ]
  },
  {
   "cell_type": "markdown",
   "id": "735e75f5-a1a1-4065-8479-3e715fd0c576",
   "metadata": {},
   "source": [
    "### Q2. Name the four pillars of OOPs."
   ]
  },
  {
   "cell_type": "markdown",
   "id": "7b393348-9d4b-4edc-ae6f-058177794523",
   "metadata": {},
   "source": [
    "##### A2. The four pillars of Object-Oriented Programming (OOP) are:\n",
    " \n",
    "1. Encapsulation:(*Data Secuirity) Encapsulation refers to the bundling of data (attributes) and related behaviors (methods) into a single unit called an object. It hides the internal details of an object and provides an interface to interact with it. Encapsulation helps in achieving data abstraction and information hiding, ensuring that the internal state of an object is accessed and modified only through defined methods.\n",
    "\n",
    "2. Inheritance: (*Reusability) Inheritance allows classes to inherit properties and behaviors from other classes. It supports the concept of hierarchical relationships between classes, where a subclass can inherit and extend the characteristics (attributes and methods) of its superclass. Inheritance promotes code reuse, modularity, and the creation of specialized classes based on existing ones.\n",
    "\n",
    "3. Polymorphism:(*Extensibility)  Polymorphism allows objects of different classes to be treated as objects of a common superclass. It enables code to be written that can work with objects of different types, providing flexibility and extensibility. Polymorphism is achieved through method overriding and method overloading. Method overriding allows a subclass to provide its own implementation of a method inherited from its superclass, while method overloading allows multiple methods with the same name but different parameters to exist in a class.\n",
    "\n",
    "4. Abstraction: (*Data Hiding)  Abstraction involves focusing on essential features while hiding unnecessary details. It allows complex systems to be represented in a simplified manner. Abstraction in OOP refers to the creation of abstract classes and interfaces that define common behaviors and attributes without specifying their concrete implementation. It provides a high-level view of objects and enables modular design and code reuse.\n",
    "\n",
    "These four pillars of OOP provide a strong foundation for designing and implementing object-oriented systems. They promote code organization, reusability, maintainability, and scalability, making OOP a powerful paradigm for developing complex software applications."
   ]
  },
  {
   "cell_type": "markdown",
   "id": "1e22377c-a34f-4515-bb4c-4e8beaba8c87",
   "metadata": {},
   "source": [
    "### Q3. Explain why the __init__() function is used. Give a suitable example."
   ]
  },
  {
   "cell_type": "markdown",
   "id": "08205d80-e7d1-44f2-8a2a-efd48b18efdb",
   "metadata": {},
   "source": [
    "##### A3. \n",
    "* The __init__() function in Python is a special method, also known as the constructor, that is automatically called when an object is created from a class. It is used to initialize the attributes of the object.\n",
    "* The __init__() method can accept parameters that represent the initial values for the attributes of the object. Typically, the first parameter is self, which refers to the instance of the class itself.\n",
    "* We can assign values to the attributes of the object using the self keyword."
   ]
  },
  {
   "cell_type": "code",
   "execution_count": 9,
   "id": "86f4ca0d-ff30-4689-ac6e-430a040dce33",
   "metadata": {},
   "outputs": [],
   "source": [
    "# example:-\n",
    "\n",
    "class Employee:\n",
    "    def __init__(self,nm,ag):\n",
    "        self.name = nm\n",
    "        self.age  = ag\n",
    "        \n",
    "    \n",
    "#  creating objects for Employee class       \n",
    "e1 = Employee('Sumit',21)\n",
    "e2 = Employee('Amit',22)"
   ]
  },
  {
   "cell_type": "code",
   "execution_count": 10,
   "id": "16b0face-7498-45a2-8c00-90f346039971",
   "metadata": {},
   "outputs": [
    {
     "name": "stdout",
     "output_type": "stream",
     "text": [
      "{'name': 'Sumit', 'age': 21}\n"
     ]
    }
   ],
   "source": [
    "#accessing the attributes of object e1\n",
    "print(e1.__dict__)"
   ]
  },
  {
   "cell_type": "code",
   "execution_count": 11,
   "id": "331740bc-4f67-4cf4-adf9-5d62482c885e",
   "metadata": {},
   "outputs": [
    {
     "name": "stdout",
     "output_type": "stream",
     "text": [
      "{'name': 'Amit', 'age': 22}\n"
     ]
    }
   ],
   "source": [
    "print(e2.__dict__)"
   ]
  },
  {
   "cell_type": "code",
   "execution_count": 12,
   "id": "14e8e62c-cebd-414d-ac91-5fae3b4b9752",
   "metadata": {},
   "outputs": [
    {
     "name": "stdout",
     "output_type": "stream",
     "text": [
      "21\n"
     ]
    }
   ],
   "source": [
    "print(e1.age)"
   ]
  },
  {
   "cell_type": "markdown",
   "id": "b9dc2033-5074-495b-9174-479f722b33f7",
   "metadata": {},
   "source": [
    "### Q4. Why self is used in OOPs?"
   ]
  },
  {
   "cell_type": "markdown",
   "id": "c8ca47ac-a1fe-4623-8a2b-82dd059a7c3b",
   "metadata": {},
   "source": [
    "#### A4.\n",
    " `self` is used in OOP:\n",
    "\n",
    "* Object Context: When you define a method within a class, it operates on the specific instance of the class (object) that called the method. By using `self`, you can access the attributes and methods of that particular instance. It allows you to differentiate between different instances of the same class and perform actions specific to each instance.\n",
    "\n",
    "* Attribute Access: The `self` parameter allows you to access and modify the object's attributes. Within a method, you can use `self.attribute_name` to refer to an attribute of the object and perform operations on it. This ensures that attribute assignments and retrievals are specific to the object calling the method.\n",
    "\n",
    "* Method Invocation: When you call a method on an instance of a class, the `self` parameter is automatically passed as the first argument. It allows the method to work with the specific instance of the class and manipulate its attributes or perform other actions.\n",
    "\n",
    "Overall, `self` is an essential part of OOP because it provides a way to access the object's state and behavior from within the class definition. It allows for encapsulation, distinguishing between different instances of a class, and enabling object-specific operations and attribute access."
   ]
  },
  {
   "cell_type": "markdown",
   "id": "6d574393-6abd-4169-a7c8-fae32bd1df97",
   "metadata": {},
   "source": [
    "### Q5. What is inheritance? Give an example for each type of inheritance.\n",
    "\n"
   ]
  },
  {
   "cell_type": "markdown",
   "id": "216dc557-abc3-47ee-8a43-aae1abababcb",
   "metadata": {},
   "source": [
    "#### A5. Inheritance is a fundamental concept in object-oriented programming (OOP) that allows classes to inherit attributes and methods from other classes. It enables the creation of hierarchical relationships between classes, where a subclass inherits properties from its superclass(es). Inheritance promotes code reuse, modularity, and the ability to create specialized classes based on existing ones.\n",
    "\n",
    "There are several types of inheritance, each serving different purposes. Here are the main types of inheritance and an example for each:\n",
    "\n",
    "#### 1. Single Inheritance:\n",
    "   Single inheritance is when a class inherits from only one superclass. It forms a simple parent-child relationship between classes.\n",
    "   \n",
    " \n",
    "\n"
   ]
  },
  {
   "cell_type": "code",
   "execution_count": 17,
   "id": "6dbacfc7-1f6d-4606-baa7-cc02579eb924",
   "metadata": {},
   "outputs": [
    {
     "name": "stdout",
     "output_type": "stream",
     "text": [
      "Driving the vehicle\n",
      "Honking the car\n"
     ]
    }
   ],
   "source": [
    "#Example:-\n",
    "        \n",
    "class Vehicle:\n",
    "    def __init__(self, brand):\n",
    "        self.brand = brand\n",
    "\n",
    "    def drive(self):\n",
    "            print(\"Driving the vehicle\")\n",
    "\n",
    "class Car(Vehicle):\n",
    "    def __init__(self, brand, color):\n",
    "            super().__init__(brand)\n",
    "            self.color = color\n",
    "    def honk(self):\n",
    "             print(\"Honking the car\")\n",
    "\n",
    "my_car = Car(\"Toyota\", \"Red\")\n",
    "my_car.drive()  \n",
    "my_car.honk()  \n",
    "   "
   ]
  },
  {
   "cell_type": "markdown",
   "id": "0621a508-d270-42e8-9e7d-c64f90ed7770",
   "metadata": {},
   "source": [
    "### 2. Multiple Inheritance:\n",
    "Multiple inheritance is when a class inherits from multiple superclasses. It allows a class to inherit attributes and methods from multiple sources."
   ]
  },
  {
   "cell_type": "code",
   "execution_count": 9,
   "id": "1c95fee6-9a77-4a99-850f-1bc1e3c03fd1",
   "metadata": {},
   "outputs": [
    {
     "name": "stdout",
     "output_type": "stream",
     "text": [
      "Drawing the shape\n",
      "20\n",
      "Blue\n"
     ]
    }
   ],
   "source": [
    "#example:-\n",
    "class Shape:\n",
    "    def __init__(self, color):\n",
    "        self.color = color\n",
    "\n",
    "    def draw(self):\n",
    "        print(\"Drawing the shape\")\n",
    "\n",
    "class Rectangle(Shape):\n",
    "    def __init__(self, color, width, height):\n",
    "        super().__init__(color)\n",
    "        self.width = width\n",
    "        self.height = height\n",
    "\n",
    "    def area(self):\n",
    "        return self.width * self.height\n",
    "\n",
    "class ColoredObject:\n",
    "    def __init__(self, color):\n",
    "        self.color = color\n",
    "\n",
    "class ColoredRectangle(Rectangle, ColoredObject):\n",
    "    def __init__(self, color, width, height):\n",
    "        Rectangle.__init__(self, color, width, height)\n",
    "        ColoredObject.__init__(self, color)\n",
    "\n",
    "my_rectangle = ColoredRectangle(\"Blue\", 4, 5)\n",
    "my_rectangle.draw()  \n",
    "print(my_rectangle.area()) \n",
    "print(my_rectangle.color) \n"
   ]
  },
  {
   "cell_type": "markdown",
   "id": "b111c66e-a0f7-4ba9-9104-f5188cb1ba21",
   "metadata": {},
   "source": [
    "### 3.Multilevel Inheritance:\n",
    "Multilevel inheritance is when a class inherits from a superclass, which in turn inherits from another superclass. It forms a hierarchy of classes."
   ]
  },
  {
   "cell_type": "code",
   "execution_count": 20,
   "id": "9c37b15f-64bf-41d2-b904-270f6eac1fdf",
   "metadata": {},
   "outputs": [
    {
     "name": "stdout",
     "output_type": "stream",
     "text": [
      "Eating food\n",
      "Barking\n",
      "Guarding the house\n"
     ]
    }
   ],
   "source": [
    "#example :-\n",
    "class Animal:\n",
    "    def eat(self):\n",
    "        print(\"Eating food\")\n",
    "\n",
    "class Dog(Animal):\n",
    "    def bark(self):\n",
    "        print(\"Barking\")\n",
    "\n",
    "class Bulldog(Dog):\n",
    "    def guard(self):\n",
    "        print(\"Guarding the house\")\n",
    "\n",
    "my_bulldog = Bulldog()\n",
    "my_bulldog.eat()    \n",
    "my_bulldog.bark()   \n",
    "my_bulldog.guard()\n"
   ]
  },
  {
   "cell_type": "markdown",
   "id": "1a048534-8790-4710-b164-a087f54ec7fb",
   "metadata": {},
   "source": [
    "### 4.Hierarchical Inheritance:\n",
    "Hierarchical inheritance is when multiple subclasses inherit from the same superclass. It allows for specialization of subclasses based on a common superclass."
   ]
  },
  {
   "cell_type": "code",
   "execution_count": 22,
   "id": "9bfdc666-9c60-461b-8492-8ae80072cb6a",
   "metadata": {},
   "outputs": [
    {
     "name": "stdout",
     "output_type": "stream",
     "text": [
      "Eating food\n",
      "Barking\n",
      "Eating food\n",
      "Meowing\n"
     ]
    }
   ],
   "source": [
    "#example :-\n",
    "class Animal:\n",
    "    def eat(self):\n",
    "        print(\"Eating food\")\n",
    "\n",
    "class Dog(Animal):\n",
    "    def bark(self):\n",
    "        print(\"Barking\")\n",
    "\n",
    "class Cat(Animal):\n",
    "    def meow(self):\n",
    "        print(\"Meowing\")\n",
    "        \n",
    "my_dog = Dog()\n",
    "my_dog.eat()   \n",
    "my_dog.bark()\n",
    "\n",
    "my_cat = Cat()\n",
    "my_cat.eat()   \n",
    "my_cat.meow()  \n"
   ]
  },
  {
   "cell_type": "code",
   "execution_count": null,
   "id": "87c7f3d6-3eac-419c-aba0-8f882d6089c2",
   "metadata": {},
   "outputs": [],
   "source": []
  }
 ],
 "metadata": {
  "kernelspec": {
   "display_name": "Python 3 (ipykernel)",
   "language": "python",
   "name": "python3"
  },
  "language_info": {
   "codemirror_mode": {
    "name": "ipython",
    "version": 3
   },
   "file_extension": ".py",
   "mimetype": "text/x-python",
   "name": "python",
   "nbconvert_exporter": "python",
   "pygments_lexer": "ipython3",
   "version": "3.10.8"
  }
 },
 "nbformat": 4,
 "nbformat_minor": 5
}
