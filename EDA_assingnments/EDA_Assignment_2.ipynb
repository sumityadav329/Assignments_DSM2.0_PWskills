{
 "cells": [
  {
   "cell_type": "markdown",
   "id": "fc0c39a6-0702-4e80-89ff-ed9f14bf9658",
   "metadata": {},
   "source": [
    "\n",
    "# Flight Price:\n"
   ]
  },
  {
   "cell_type": "markdown",
   "id": "bf661f41-d5f5-4254-817c-fe834ff9d0e3",
   "metadata": {},
   "source": [
    "## Q1. Load the flight price dataset and examine its dimensions. How many rows and columns does the dataset have?\n",
    "## A1. "
   ]
  },
  {
   "cell_type": "code",
   "execution_count": 1,
   "id": "4e7b6afc-8b68-4292-a1a0-c3a41543d69f",
   "metadata": {},
   "outputs": [],
   "source": [
    "# importing basic libraries\n",
    "import pandas as pd\n",
    "import numpy as np \n",
    "import matplotlib.pyplot as plt\n",
    "import seaborn as sns \n",
    "%matplotlib inline\n",
    "import warnings\n",
    "warnings.filterwarnings('ignore')"
   ]
  },
  {
   "cell_type": "code",
   "execution_count": 2,
   "id": "33b5d90f-1883-44be-89f1-ede70ed784e0",
   "metadata": {},
   "outputs": [
    {
     "data": {
      "text/html": [
       "<div>\n",
       "<style scoped>\n",
       "    .dataframe tbody tr th:only-of-type {\n",
       "        vertical-align: middle;\n",
       "    }\n",
       "\n",
       "    .dataframe tbody tr th {\n",
       "        vertical-align: top;\n",
       "    }\n",
       "\n",
       "    .dataframe thead th {\n",
       "        text-align: right;\n",
       "    }\n",
       "</style>\n",
       "<table border=\"1\" class=\"dataframe\">\n",
       "  <thead>\n",
       "    <tr style=\"text-align: right;\">\n",
       "      <th></th>\n",
       "      <th>Airline</th>\n",
       "      <th>Date_of_Journey</th>\n",
       "      <th>Source</th>\n",
       "      <th>Destination</th>\n",
       "      <th>Route</th>\n",
       "      <th>Dep_Time</th>\n",
       "      <th>Arrival_Time</th>\n",
       "      <th>Duration</th>\n",
       "      <th>Total_Stops</th>\n",
       "      <th>Additional_Info</th>\n",
       "      <th>Price</th>\n",
       "    </tr>\n",
       "  </thead>\n",
       "  <tbody>\n",
       "    <tr>\n",
       "      <th>0</th>\n",
       "      <td>IndiGo</td>\n",
       "      <td>24/03/2019</td>\n",
       "      <td>Banglore</td>\n",
       "      <td>New Delhi</td>\n",
       "      <td>BLR → DEL</td>\n",
       "      <td>22:20</td>\n",
       "      <td>01:10 22 Mar</td>\n",
       "      <td>2h 50m</td>\n",
       "      <td>non-stop</td>\n",
       "      <td>No info</td>\n",
       "      <td>3897</td>\n",
       "    </tr>\n",
       "    <tr>\n",
       "      <th>1</th>\n",
       "      <td>Air India</td>\n",
       "      <td>1/05/2019</td>\n",
       "      <td>Kolkata</td>\n",
       "      <td>Banglore</td>\n",
       "      <td>CCU → IXR → BBI → BLR</td>\n",
       "      <td>05:50</td>\n",
       "      <td>13:15</td>\n",
       "      <td>7h 25m</td>\n",
       "      <td>2 stops</td>\n",
       "      <td>No info</td>\n",
       "      <td>7662</td>\n",
       "    </tr>\n",
       "    <tr>\n",
       "      <th>2</th>\n",
       "      <td>Jet Airways</td>\n",
       "      <td>9/06/2019</td>\n",
       "      <td>Delhi</td>\n",
       "      <td>Cochin</td>\n",
       "      <td>DEL → LKO → BOM → COK</td>\n",
       "      <td>09:25</td>\n",
       "      <td>04:25 10 Jun</td>\n",
       "      <td>19h</td>\n",
       "      <td>2 stops</td>\n",
       "      <td>No info</td>\n",
       "      <td>13882</td>\n",
       "    </tr>\n",
       "    <tr>\n",
       "      <th>3</th>\n",
       "      <td>IndiGo</td>\n",
       "      <td>12/05/2019</td>\n",
       "      <td>Kolkata</td>\n",
       "      <td>Banglore</td>\n",
       "      <td>CCU → NAG → BLR</td>\n",
       "      <td>18:05</td>\n",
       "      <td>23:30</td>\n",
       "      <td>5h 25m</td>\n",
       "      <td>1 stop</td>\n",
       "      <td>No info</td>\n",
       "      <td>6218</td>\n",
       "    </tr>\n",
       "    <tr>\n",
       "      <th>4</th>\n",
       "      <td>IndiGo</td>\n",
       "      <td>01/03/2019</td>\n",
       "      <td>Banglore</td>\n",
       "      <td>New Delhi</td>\n",
       "      <td>BLR → NAG → DEL</td>\n",
       "      <td>16:50</td>\n",
       "      <td>21:35</td>\n",
       "      <td>4h 45m</td>\n",
       "      <td>1 stop</td>\n",
       "      <td>No info</td>\n",
       "      <td>13302</td>\n",
       "    </tr>\n",
       "  </tbody>\n",
       "</table>\n",
       "</div>"
      ],
      "text/plain": [
       "       Airline Date_of_Journey    Source Destination                  Route  \\\n",
       "0       IndiGo      24/03/2019  Banglore   New Delhi              BLR → DEL   \n",
       "1    Air India       1/05/2019   Kolkata    Banglore  CCU → IXR → BBI → BLR   \n",
       "2  Jet Airways       9/06/2019     Delhi      Cochin  DEL → LKO → BOM → COK   \n",
       "3       IndiGo      12/05/2019   Kolkata    Banglore        CCU → NAG → BLR   \n",
       "4       IndiGo      01/03/2019  Banglore   New Delhi        BLR → NAG → DEL   \n",
       "\n",
       "  Dep_Time  Arrival_Time Duration Total_Stops Additional_Info  Price  \n",
       "0    22:20  01:10 22 Mar   2h 50m    non-stop         No info   3897  \n",
       "1    05:50         13:15   7h 25m     2 stops         No info   7662  \n",
       "2    09:25  04:25 10 Jun      19h     2 stops         No info  13882  \n",
       "3    18:05         23:30   5h 25m      1 stop         No info   6218  \n",
       "4    16:50         21:35   4h 45m      1 stop         No info  13302  "
      ]
     },
     "execution_count": 2,
     "metadata": {},
     "output_type": "execute_result"
    }
   ],
   "source": [
    "# loading the dataset of flight price \n",
    "flight_df = pd.read_excel('flight_price.xlsx')\n",
    "flight_df.head()"
   ]
  },
  {
   "cell_type": "code",
   "execution_count": 3,
   "id": "e19361e8-fdd3-4fd5-9e4e-c73b39fcbac6",
   "metadata": {},
   "outputs": [
    {
     "name": "stdout",
     "output_type": "stream",
     "text": [
      "(10683, 11)\n"
     ]
    }
   ],
   "source": [
    "# examine rows and colums\n",
    "print(flight_df.shape)\n"
   ]
  },
  {
   "cell_type": "markdown",
   "id": "ae3816ae-3b47-4706-8078-b9ebb686f7e1",
   "metadata": {},
   "source": [
    "### it has 10683 rows and 11 columns "
   ]
  },
  {
   "cell_type": "code",
   "execution_count": 4,
   "id": "0d68be6f-9ef6-4494-9202-a4ec77f0afb4",
   "metadata": {},
   "outputs": [
    {
     "name": "stdout",
     "output_type": "stream",
     "text": [
      "<class 'pandas.core.frame.DataFrame'>\n",
      "RangeIndex: 10683 entries, 0 to 10682\n",
      "Data columns (total 11 columns):\n",
      " #   Column           Non-Null Count  Dtype \n",
      "---  ------           --------------  ----- \n",
      " 0   Airline          10683 non-null  object\n",
      " 1   Date_of_Journey  10683 non-null  object\n",
      " 2   Source           10683 non-null  object\n",
      " 3   Destination      10683 non-null  object\n",
      " 4   Route            10682 non-null  object\n",
      " 5   Dep_Time         10683 non-null  object\n",
      " 6   Arrival_Time     10683 non-null  object\n",
      " 7   Duration         10683 non-null  object\n",
      " 8   Total_Stops      10682 non-null  object\n",
      " 9   Additional_Info  10683 non-null  object\n",
      " 10  Price            10683 non-null  int64 \n",
      "dtypes: int64(1), object(10)\n",
      "memory usage: 918.2+ KB\n",
      "None\n"
     ]
    }
   ],
   "source": [
    "# getting the basic info\n",
    "print(flight_df.info())"
   ]
  },
  {
   "cell_type": "markdown",
   "id": "3ca6c73d-d323-4c1c-ad5b-dcf8ea4eed70",
   "metadata": {},
   "source": [
    "## Q2. What is the distribution of flight prices in the dataset? Create a histogram to visualize the distribution.\n",
    "## A2. "
   ]
  },
  {
   "cell_type": "code",
   "execution_count": 5,
   "id": "79cb7907-fc7c-48a5-8091-0a572ce3736e",
   "metadata": {},
   "outputs": [
    {
     "data": {
      "image/png": "[encoded data removed]",
      "text/plain": [
       "<Figure size 640x480 with 1 Axes>"
      ]
     },
     "metadata": {},
     "output_type": "display_data"
    }
   ],
   "source": [
    "# Creating a distribution of flight prices using histogram\n",
    "sns.histplot(flight_df['Price'], kde=True, bins=100, color='skyblue', edgecolor='black')\n",
    "plt.title('Distribution of Flight Prices with KDE')\n",
    "plt.xlabel('Price')\n",
    "plt.ylabel('Density')\n",
    "plt.show()\n"
   ]
  },
  {
   "cell_type": "markdown",
   "id": "4a5630bb-5d00-4f35-b689-2a020a412d27",
   "metadata": {},
   "source": [
    "## Q3. What is the range of prices in the dataset? What is the minimum and maximum price?\n",
    "## A3."
   ]
  },
  {
   "cell_type": "code",
   "execution_count": 6,
   "id": "9b1b1e5b-d605-48d6-a33c-0d8467018338",
   "metadata": {},
   "outputs": [
    {
     "name": "stdout",
     "output_type": "stream",
     "text": [
      "Price Range: 1759.0 to 79512.0\n",
      "Minimum Price: 1759.0\n",
      "Maximum Price: 79512.0\n"
     ]
    }
   ],
   "source": [
    "# Using describe to get min max\n",
    "price_stats = flight_df['Price'].describe()\n",
    "\n",
    "# Print the range, min, and max\n",
    "print(f\"Price Range: {price_stats['min']} to {price_stats['max']}\")\n",
    "print(f\"Minimum Price: {price_stats['min']}\")\n",
    "print(f\"Maximum Price: {price_stats['max']}\")\n"
   ]
  },
  {
   "cell_type": "markdown",
   "id": "aec09bad-f292-429e-a673-2ff5340d273d",
   "metadata": {},
   "source": [
    "## Q4. How does the price of flights vary by airline? Create a boxplot to compare the prices of different airlines.\n",
    "## A4. "
   ]
  },
  {
   "cell_type": "code",
   "execution_count": 7,
   "id": "c66fbeea-3167-47ab-8d49-ea5cf855a05e",
   "metadata": {},
   "outputs": [
    {
     "data": {
      "text/plain": [
       "array(['IndiGo', 'Air India', 'Jet Airways', 'SpiceJet',\n",
       "       'Multiple carriers', 'GoAir', 'Vistara', 'Air Asia',\n",
       "       'Vistara Premium economy', 'Jet Airways Business',\n",
       "       'Multiple carriers Premium economy', 'Trujet'], dtype=object)"
      ]
     },
     "execution_count": 7,
     "metadata": {},
     "output_type": "execute_result"
    }
   ],
   "source": [
    "# checking how many airlines are there in dataset\n",
    "flight_df['Airline'].unique()"
   ]
  },
  {
   "cell_type": "code",
   "execution_count": 8,
   "id": "18435b1d-005a-4224-96f2-9bb848f10642",
   "metadata": {},
   "outputs": [
    {
     "data": {
      "image/png": "[encoded data removed]",
      "text/plain": [
       "<Figure size 2000x900 with 1 Axes>"
      ]
     },
     "metadata": {},
     "output_type": "display_data"
    }
   ],
   "source": [
    "# Creating a box to compare the prices of different airlines\n",
    "plt.figure(figsize=(20, 9))\n",
    "sns.boxplot(y='Airline', x='Price', data=flight_df, palette='viridis')\n",
    "plt.title('Prices Variation by Airline')\n",
    "plt.xlabel('Price')\n",
    "plt.ylabel('Airline')\n",
    "plt.xticks(ha='right')  \n",
    "plt.show()\n"
   ]
  },
  {
   "cell_type": "markdown",
   "id": "d6a31a66-a6f9-4d3e-b51f-a6d4e8b40612",
   "metadata": {},
   "source": [
    "## Q5. Are there any outliers in the dataset? Identify any potential outliers using a boxplot and describe how they may impact your analysis.\n",
    "## A5."
   ]
  },
  {
   "cell_type": "code",
   "execution_count": 9,
   "id": "45a6e732-0866-4db2-afd2-7da607ed71fd",
   "metadata": {},
   "outputs": [
    {
     "data": {
      "image/png": "[encoded data removed]",
      "text/plain": [
       "<Figure size 1000x300 with 1 Axes>"
      ]
     },
     "metadata": {},
     "output_type": "display_data"
    }
   ],
   "source": [
    "# creating box to identify potential outliers\n",
    "plt.figure(figsize=(10, 3))\n",
    "sns.boxplot(x='Price', data=flight_df, color='skyblue')\n",
    "plt.title('Boxplot of Prices')\n",
    "plt.xlabel('Price')\n",
    "plt.show()\n"
   ]
  },
  {
   "cell_type": "code",
   "execution_count": 10,
   "id": "e6462ea6-c5d1-45b2-968e-fd1f4f4c7dd3",
   "metadata": {},
   "outputs": [
    {
     "name": "stdout",
     "output_type": "stream",
     "text": [
      "Outliers:\n",
      "                    Airline Date_of_Journey    Source Destination  \\\n",
      "123               Air India       1/03/2019     Delhi      Cochin   \n",
      "396       Multiple carriers       1/03/2019     Delhi      Cochin   \n",
      "486             Jet Airways      01/03/2019  Banglore   New Delhi   \n",
      "510             Jet Airways      01/03/2019  Banglore   New Delhi   \n",
      "597               Air India       6/03/2019    Mumbai   Hyderabad   \n",
      "...                     ...             ...       ...         ...   \n",
      "10353           Jet Airways       6/03/2019    Mumbai   Hyderabad   \n",
      "10364  Jet Airways Business      01/03/2019  Banglore   New Delhi   \n",
      "10383           Jet Airways      01/03/2019  Banglore   New Delhi   \n",
      "10439           Jet Airways      01/03/2019  Banglore   New Delhi   \n",
      "10511             Air India      01/03/2019  Banglore   New Delhi   \n",
      "\n",
      "                       Route Dep_Time  Arrival_Time Duration Total_Stops  \\\n",
      "123          DEL → BOM → COK    23:00  19:15 02 Mar  20h 15m      1 stop   \n",
      "396          DEL → BOM → COK    12:50         19:15   6h 25m      1 stop   \n",
      "486          BLR → BOM → DEL    08:55         15:15   6h 20m      1 stop   \n",
      "510          BLR → BOM → DEL    07:00         12:25   5h 25m      1 stop   \n",
      "597    BOM → JDH → DEL → HYD    09:40  15:15 07 Mar  29h 35m     2 stops   \n",
      "...                      ...      ...           ...      ...         ...   \n",
      "10353  BOM → BDQ → DEL → HYD    19:50  16:50 07 Mar      21h     2 stops   \n",
      "10364        BLR → MAA → DEL    09:45         14:25   4h 40m      1 stop   \n",
      "10383        BLR → BOM → DEL    07:00  05:05 02 Mar   22h 5m      1 stop   \n",
      "10439        BLR → BOM → DEL    18:40  09:00 02 Mar  14h 20m      1 stop   \n",
      "10511  BLR → BOM → BHO → DEL    06:45  09:25 02 Mar  26h 40m     2 stops   \n",
      "\n",
      "      Additional_Info  Price  \n",
      "123           No info  27430  \n",
      "396           No info  36983  \n",
      "486           No info  26890  \n",
      "510           No info  26890  \n",
      "597           No info  25139  \n",
      "...               ...    ...  \n",
      "10353         No info  24210  \n",
      "10364  Business class  57209  \n",
      "10383         No info  26890  \n",
      "10439         No info  31825  \n",
      "10511  2 Long layover  26480  \n",
      "\n",
      "[94 rows x 11 columns]\n"
     ]
    }
   ],
   "source": [
    "# Calculate the interquartile range (IQR)\n",
    "Q1 = flight_df['Price'].quantile(0.25)\n",
    "Q3 = flight_df['Price'].quantile(0.75)\n",
    "IQR = Q3 - Q1\n",
    "\n",
    "# Define the lower and upper bounds for outliers\n",
    "lower_bound = Q1 - 1.5 * IQR\n",
    "upper_bound = Q3 + 1.5 * IQR\n",
    "\n",
    "# Identify outliers\n",
    "outliers = flight_df[(flight_df['Price'] < lower_bound) | (flight_df['Price'] > upper_bound)]\n",
    "\n",
    "# Display the outliers\n",
    "print(\"Outliers:\")\n",
    "print(outliers)\n"
   ]
  },
  {
   "cell_type": "markdown",
   "id": "bba6e460-206a-4591-8976-28648805f02c",
   "metadata": {},
   "source": [
    "## The presence of outliers in my dataset can have various impacts on my analysis. Here are some considerations:\n",
    "\n",
    "1. **Skewing Descriptive Statistics:**\n",
    "   - Outliers can significantly impact descriptive statistics like the mean and standard deviation. The mean is particularly sensitive to extreme values, and outliers can pull it in their direction.\n",
    "\n",
    "2. **Model Performance:**\n",
    "   - In some machine learning algorithms, especially those sensitive to outliers (like linear regression), outliers can influence the model's performance. They may disproportionately affect the model's coefficients and predictions.\n",
    "\n",
    "3. **Normality Assumptions:**\n",
    "   - Some statistical tests and machine learning algorithms assume that the data is normally distributed. Outliers can violate this assumption, leading to biased results.\n",
    "\n",
    "4. **Data Interpretation:**\n",
    "   - Outliers can distort the interpretation of patterns and relationships within the data. Analyzing summary statistics or visualizations without addressing outliers might provide a misleading picture of the underlying patterns.\n",
    "\n",
    "5. **Robust Measures:**\n",
    "   - Consider using robust measures of central tendency and spread, such as the median and interquartile range (IQR), which are less affected by outliers than the mean and standard deviation.\n",
    "\n",
    "6. **Data Cleaning or Transformation:**\n",
    "   - Depending on the nature of the outliers, you might choose to remove them, transform the data, or apply other preprocessing techniques to mitigate their impact.\n",
    "\n",
    "7. **Domain Knowledge:**\n",
    "   - Consider the context and domain knowledge. Some outliers may be valid and represent rare but important occurrences, while others might be errors or noise.\n",
    "\n",
    "8. **Visual Exploration:**\n",
    "   - Visualize the impact of outliers on your analysis. Plotting the data with and without outliers can help you understand how much they influence the results.\n",
    "\n"
   ]
  },
  {
   "cell_type": "markdown",
   "id": "0cedb45d-deb5-4005-9c1c-477b273678af",
   "metadata": {},
   "source": [
    "## Q6. You are working for a travel agency, and your boss has asked you to analyze the Flight Price dataset to identify the peak travel season. What features would you analyze to identify the peak season, and how would you present your findings to your boss?\n",
    "## A6. \n",
    "Analyzing the Flight Price dataset to identify the peak travel season involves examining several features that can provide insights into when demand and prices are typically high:\r\n",
    "\r\n",
    "1. **Date_of_Journey:**\r\n",
    "   - Analyze the distribution of flight prices based on the month or season of the journey. Use visualizations such as line charts or bar plots to show the average prices over different montkd2ys.\r\n",
    "\r\n",
    "3. **Total_Stops:**\r\n",
    "   - Evaluate how the number of stops in a flight affects the prices. Flights with fewer stops might be more in demand, leading to higher 3rices.\r\n",
    "\r\n",
    "4. **Airline:**\r\n",
    "   - Examine the pricing patterns for different airlines. Certain airlines may have higher prices during peak seasons or specif4c months.\r\n",
    "\r\n",
    "5. **Additional_Info:**\r\n",
    "   - Check for any additional information that might impact prices, such as special events, holidays, or promotions. This information may not be explicit ly captured in o5her columns.\r\n",
    "\r\n",
    "6. **Duration:**\r\n",
    "   - Explore the relationship between the duration of the flight and prices. Longer flights may be more expensive, but there could be variations based on patterns and make informed decisions."
   ]
  },
  {
   "cell_type": "markdown",
   "id": "2094aaa2-7ce3-4a96-847c-45f536de61e0",
   "metadata": {},
   "source": [
    "### To analysis properly we have to extract date into day, month,year "
   ]
  },
  {
   "cell_type": "code",
   "execution_count": 11,
   "id": "3d822651-4a01-4c4d-95e5-0a1581e93061",
   "metadata": {},
   "outputs": [
    {
     "data": {
      "text/html": [
       "<div>\n",
       "<style scoped>\n",
       "    .dataframe tbody tr th:only-of-type {\n",
       "        vertical-align: middle;\n",
       "    }\n",
       "\n",
       "    .dataframe tbody tr th {\n",
       "        vertical-align: top;\n",
       "    }\n",
       "\n",
       "    .dataframe thead th {\n",
       "        text-align: right;\n",
       "    }\n",
       "</style>\n",
       "<table border=\"1\" class=\"dataframe\">\n",
       "  <thead>\n",
       "    <tr style=\"text-align: right;\">\n",
       "      <th></th>\n",
       "      <th>Airline</th>\n",
       "      <th>Date_of_Journey</th>\n",
       "      <th>Source</th>\n",
       "      <th>Destination</th>\n",
       "      <th>Route</th>\n",
       "      <th>Dep_Time</th>\n",
       "      <th>Arrival_Time</th>\n",
       "      <th>Duration</th>\n",
       "      <th>Total_Stops</th>\n",
       "      <th>Additional_Info</th>\n",
       "      <th>Price</th>\n",
       "      <th>Date</th>\n",
       "      <th>Month</th>\n",
       "      <th>Year</th>\n",
       "    </tr>\n",
       "  </thead>\n",
       "  <tbody>\n",
       "    <tr>\n",
       "      <th>0</th>\n",
       "      <td>IndiGo</td>\n",
       "      <td>24/03/2019</td>\n",
       "      <td>Banglore</td>\n",
       "      <td>New Delhi</td>\n",
       "      <td>BLR → DEL</td>\n",
       "      <td>22:20</td>\n",
       "      <td>01:10 22 Mar</td>\n",
       "      <td>2h 50m</td>\n",
       "      <td>non-stop</td>\n",
       "      <td>No info</td>\n",
       "      <td>3897</td>\n",
       "      <td>24</td>\n",
       "      <td>03</td>\n",
       "      <td>2019</td>\n",
       "    </tr>\n",
       "    <tr>\n",
       "      <th>1</th>\n",
       "      <td>Air India</td>\n",
       "      <td>1/05/2019</td>\n",
       "      <td>Kolkata</td>\n",
       "      <td>Banglore</td>\n",
       "      <td>CCU → IXR → BBI → BLR</td>\n",
       "      <td>05:50</td>\n",
       "      <td>13:15</td>\n",
       "      <td>7h 25m</td>\n",
       "      <td>2 stops</td>\n",
       "      <td>No info</td>\n",
       "      <td>7662</td>\n",
       "      <td>1</td>\n",
       "      <td>05</td>\n",
       "      <td>2019</td>\n",
       "    </tr>\n",
       "  </tbody>\n",
       "</table>\n",
       "</div>"
      ],
      "text/plain": [
       "     Airline Date_of_Journey    Source Destination                  Route  \\\n",
       "0     IndiGo      24/03/2019  Banglore   New Delhi              BLR → DEL   \n",
       "1  Air India       1/05/2019   Kolkata    Banglore  CCU → IXR → BBI → BLR   \n",
       "\n",
       "  Dep_Time  Arrival_Time Duration Total_Stops Additional_Info  Price Date  \\\n",
       "0    22:20  01:10 22 Mar   2h 50m    non-stop         No info   3897   24   \n",
       "1    05:50         13:15   7h 25m     2 stops         No info   7662    1   \n",
       "\n",
       "  Month  Year  \n",
       "0    03  2019  \n",
       "1    05  2019  "
      ]
     },
     "execution_count": 11,
     "metadata": {},
     "output_type": "execute_result"
    }
   ],
   "source": [
    "flight_df['Date']=flight_df['Date_of_Journey'].str.split('/').str[0]\n",
    "flight_df['Month']=flight_df['Date_of_Journey'].str.split('/').str[1]\n",
    "flight_df['Year']=flight_df['Date_of_Journey'].str.split('/').str[2]\n",
    "flight_df.head(2)"
   ]
  },
  {
   "cell_type": "code",
   "execution_count": 12,
   "id": "afa78de9-d9b3-4211-8066-f06ced6e60fd",
   "metadata": {},
   "outputs": [
    {
     "name": "stdout",
     "output_type": "stream",
     "text": [
      "<class 'pandas.core.frame.DataFrame'>\n",
      "RangeIndex: 10683 entries, 0 to 10682\n",
      "Data columns (total 14 columns):\n",
      " #   Column           Non-Null Count  Dtype \n",
      "---  ------           --------------  ----- \n",
      " 0   Airline          10683 non-null  object\n",
      " 1   Date_of_Journey  10683 non-null  object\n",
      " 2   Source           10683 non-null  object\n",
      " 3   Destination      10683 non-null  object\n",
      " 4   Route            10682 non-null  object\n",
      " 5   Dep_Time         10683 non-null  object\n",
      " 6   Arrival_Time     10683 non-null  object\n",
      " 7   Duration         10683 non-null  object\n",
      " 8   Total_Stops      10682 non-null  object\n",
      " 9   Additional_Info  10683 non-null  object\n",
      " 10  Price            10683 non-null  int64 \n",
      " 11  Date             10683 non-null  int32 \n",
      " 12  Month            10683 non-null  int32 \n",
      " 13  Year             10683 non-null  int32 \n",
      "dtypes: int32(3), int64(1), object(10)\n",
      "memory usage: 1.0+ MB\n"
     ]
    }
   ],
   "source": [
    "flight_df['Date']=flight_df['Date'].astype(int)\n",
    "flight_df['Month']=flight_df['Month'].astype(int)\n",
    "flight_df['Year']=flight_df['Year'].astype(int)\n",
    "flight_df.info()"
   ]
  },
  {
   "cell_type": "code",
   "execution_count": 13,
   "id": "5b67db6b-d065-4e7e-bc77-9ce963ab6ebd",
   "metadata": {},
   "outputs": [
    {
     "data": {
      "text/html": [
       "<div>\n",
       "<style scoped>\n",
       "    .dataframe tbody tr th:only-of-type {\n",
       "        vertical-align: middle;\n",
       "    }\n",
       "\n",
       "    .dataframe tbody tr th {\n",
       "        vertical-align: top;\n",
       "    }\n",
       "\n",
       "    .dataframe thead th {\n",
       "        text-align: right;\n",
       "    }\n",
       "</style>\n",
       "<table border=\"1\" class=\"dataframe\">\n",
       "  <thead>\n",
       "    <tr style=\"text-align: right;\">\n",
       "      <th></th>\n",
       "      <th>Airline</th>\n",
       "      <th>Source</th>\n",
       "      <th>Destination</th>\n",
       "      <th>Route</th>\n",
       "      <th>Dep_Time</th>\n",
       "      <th>Arrival_Time</th>\n",
       "      <th>Duration</th>\n",
       "      <th>Total_Stops</th>\n",
       "      <th>Additional_Info</th>\n",
       "      <th>Price</th>\n",
       "      <th>Date</th>\n",
       "      <th>Month</th>\n",
       "      <th>Year</th>\n",
       "    </tr>\n",
       "  </thead>\n",
       "  <tbody>\n",
       "    <tr>\n",
       "      <th>0</th>\n",
       "      <td>IndiGo</td>\n",
       "      <td>Banglore</td>\n",
       "      <td>New Delhi</td>\n",
       "      <td>BLR → DEL</td>\n",
       "      <td>22:20</td>\n",
       "      <td>01:10 22 Mar</td>\n",
       "      <td>2h 50m</td>\n",
       "      <td>non-stop</td>\n",
       "      <td>No info</td>\n",
       "      <td>3897</td>\n",
       "      <td>24</td>\n",
       "      <td>3</td>\n",
       "      <td>2019</td>\n",
       "    </tr>\n",
       "    <tr>\n",
       "      <th>1</th>\n",
       "      <td>Air India</td>\n",
       "      <td>Kolkata</td>\n",
       "      <td>Banglore</td>\n",
       "      <td>CCU → IXR → BBI → BLR</td>\n",
       "      <td>05:50</td>\n",
       "      <td>13:15</td>\n",
       "      <td>7h 25m</td>\n",
       "      <td>2 stops</td>\n",
       "      <td>No info</td>\n",
       "      <td>7662</td>\n",
       "      <td>1</td>\n",
       "      <td>5</td>\n",
       "      <td>2019</td>\n",
       "    </tr>\n",
       "    <tr>\n",
       "      <th>2</th>\n",
       "      <td>Jet Airways</td>\n",
       "      <td>Delhi</td>\n",
       "      <td>Cochin</td>\n",
       "      <td>DEL → LKO → BOM → COK</td>\n",
       "      <td>09:25</td>\n",
       "      <td>04:25 10 Jun</td>\n",
       "      <td>19h</td>\n",
       "      <td>2 stops</td>\n",
       "      <td>No info</td>\n",
       "      <td>13882</td>\n",
       "      <td>9</td>\n",
       "      <td>6</td>\n",
       "      <td>2019</td>\n",
       "    </tr>\n",
       "    <tr>\n",
       "      <th>3</th>\n",
       "      <td>IndiGo</td>\n",
       "      <td>Kolkata</td>\n",
       "      <td>Banglore</td>\n",
       "      <td>CCU → NAG → BLR</td>\n",
       "      <td>18:05</td>\n",
       "      <td>23:30</td>\n",
       "      <td>5h 25m</td>\n",
       "      <td>1 stop</td>\n",
       "      <td>No info</td>\n",
       "      <td>6218</td>\n",
       "      <td>12</td>\n",
       "      <td>5</td>\n",
       "      <td>2019</td>\n",
       "    </tr>\n",
       "    <tr>\n",
       "      <th>4</th>\n",
       "      <td>IndiGo</td>\n",
       "      <td>Banglore</td>\n",
       "      <td>New Delhi</td>\n",
       "      <td>BLR → NAG → DEL</td>\n",
       "      <td>16:50</td>\n",
       "      <td>21:35</td>\n",
       "      <td>4h 45m</td>\n",
       "      <td>1 stop</td>\n",
       "      <td>No info</td>\n",
       "      <td>13302</td>\n",
       "      <td>1</td>\n",
       "      <td>3</td>\n",
       "      <td>2019</td>\n",
       "    </tr>\n",
       "  </tbody>\n",
       "</table>\n",
       "</div>"
      ],
      "text/plain": [
       "       Airline    Source Destination                  Route Dep_Time  \\\n",
       "0       IndiGo  Banglore   New Delhi              BLR → DEL    22:20   \n",
       "1    Air India   Kolkata    Banglore  CCU → IXR → BBI → BLR    05:50   \n",
       "2  Jet Airways     Delhi      Cochin  DEL → LKO → BOM → COK    09:25   \n",
       "3       IndiGo   Kolkata    Banglore        CCU → NAG → BLR    18:05   \n",
       "4       IndiGo  Banglore   New Delhi        BLR → NAG → DEL    16:50   \n",
       "\n",
       "   Arrival_Time Duration Total_Stops Additional_Info  Price  Date  Month  Year  \n",
       "0  01:10 22 Mar   2h 50m    non-stop         No info   3897    24      3  2019  \n",
       "1         13:15   7h 25m     2 stops         No info   7662     1      5  2019  \n",
       "2  04:25 10 Jun      19h     2 stops         No info  13882     9      6  2019  \n",
       "3         23:30   5h 25m      1 stop         No info   6218    12      5  2019  \n",
       "4         21:35   4h 45m      1 stop         No info  13302     1      3  2019  "
      ]
     },
     "execution_count": 13,
     "metadata": {},
     "output_type": "execute_result"
    }
   ],
   "source": [
    "# droping the Date of journey\n",
    "flight_df.drop('Date_of_Journey',axis=1,inplace=True)\n",
    "flight_df.head()"
   ]
  },
  {
   "cell_type": "markdown",
   "id": "b45d0337-92fe-4c7e-918f-031a57244bc6",
   "metadata": {},
   "source": [
    "## Analysing average prices by month"
   ]
  },
  {
   "cell_type": "code",
   "execution_count": 14,
   "id": "b7338fc2-c2ab-4e4f-b58b-9edb4944b38b",
   "metadata": {},
   "outputs": [
    {
     "name": "stdout",
     "output_type": "stream",
     "text": [
      "[3 5 6 4]\n",
      "[2019]\n"
     ]
    }
   ],
   "source": [
    "print(flight_df['Month'].unique())\n",
    "print(flight_df['Year'].unique())"
   ]
  },
  {
   "cell_type": "code",
   "execution_count": 15,
   "id": "0439cf59-a12e-4b2b-994c-b4e577aeb743",
   "metadata": {},
   "outputs": [
    {
     "data": {
      "image/png": "[encoded data removed]",
      "text/plain": [
       "<Figure size 600x300 with 1 Axes>"
      ]
     },
     "metadata": {},
     "output_type": "display_data"
    }
   ],
   "source": [
    "# Calculating the median price for each month\n",
    "avg_prices_by_month = flight_df.groupby('Month')['Price'].mean().sort_values(ascending=False)\n",
    "\n",
    "# Visualizing using a bar plot \n",
    "plt.figure(figsize=(6, 3))\n",
    "ax = sns.barplot(x=avg_prices_by_month.index, y=avg_prices_by_month.values)\n",
    "\n",
    "# Annotate each bar with its value\n",
    "for p in ax.patches:\n",
    "    ax.annotate(f'{p.get_height():.0f}', (p.get_x() + p.get_width() / 2., p.get_height()), ha='center', va='center', xytext=(0, 10), textcoords='offset points')\n",
    "\n",
    "plt.title('Average Flight Prices by Month')\n",
    "plt.xlabel('Month')\n",
    "plt.ylabel('Average Price')\n",
    "plt.show()"
   ]
  },
  {
   "cell_type": "markdown",
   "id": "99139d20-c5c2-448b-8e26-128bc370666f",
   "metadata": {},
   "source": [
    "## From bar chart we can see that Month of March is peak season or month\n"
   ]
  },
  {
   "cell_type": "markdown",
   "id": "c377d1c6-ad67-4705-9137-cd3397492b55",
   "metadata": {},
   "source": [
    "## Q7. You are a data analyst for a flight booking website, and you have been asked to analyze the Flight Price dataset to identify any trends in flight prices. What features would you analyze to identify these trends, and what visualizations would you use to present your findings to your team?\n",
    "\n",
    "## A7.\n"
   ]
  },
  {
   "cell_type": "code",
   "execution_count": 16,
   "id": "ef07847c-5dc8-40bd-bee5-766eb7b8bb3d",
   "metadata": {},
   "outputs": [
    {
     "data": {
      "image/png": "[encoded data removed]",
      "text/plain": [
       "<Figure size 400x300 with 1 Axes>"
      ]
     },
     "metadata": {},
     "output_type": "display_data"
    }
   ],
   "source": [
    "# Calculating the median price for each month\n",
    "avg_prices_by_month = flight_df.groupby('Month')['Price'].mean().sort_values(ascending=False)\n",
    "\n",
    "# Visualizing using a bar plot \n",
    "plt.figure(figsize=(4, 3))\n",
    "sns.lineplot(x=avg_prices_by_month.index, y=avg_prices_by_month.values)\n",
    "plt.title('Monthly Average Flight Prices Over Time')\n",
    "plt.xlabel('Month')\n",
    "plt.ylabel('Average Price')\n",
    "plt.show()"
   ]
  },
  {
   "cell_type": "markdown",
   "id": "3eb3249b-dba9-40b7-882b-70f3784c1eb5",
   "metadata": {},
   "source": [
    "### Trend in above line plot shows that peaking in month of march there is  a decline in flight prices in month of april then rise again in month of may and slight decline in next month i.e. june"
   ]
  },
  {
   "cell_type": "markdown",
   "id": "ff151417-eebd-427d-ae6b-6b887a9f5019",
   "metadata": {},
   "source": [
    "## Q8. You are a data scientist working for an airline company, and you have been asked to analyze the Flight Price dataset to identify the factors that affect flight prices. What features would you analyze to identify these factors, and how would you present your findings to the management team?\n",
    "\n",
    "## A8.\n",
    "Analyzing the Flight Price dataset to identify factors that affect flight prices involves exploring various features and their relationships with pricing. Here are some features you may want to analyze, along with potential steps and methods for presenting your findings to the management team:\r\n",
    "\r\n",
    "1. **Date and Time Features:**\r\n",
    "   - Analyze how flight prices vary based on the date of journey, day of the week, and time of day.\r\n",
    "   - Use visualizations like line charts, bar plots, or boxplots to show the distribution of prices over different time intervals.\r\n",
    "\r\n",
    "2. **Source and Destination:**\r\n",
    "   - Investigate how flight prices are influenced by the source and destination locations.\r\n",
    "   - Visualize average prices for different source-destination pairs using bar plots or heatmaps.\r\n",
    "\r\n",
    "3. **Airline:**\r\n",
    "   - Explore how different airlines impact flight prices.\r\n",
    "   - Use boxplots or violin plots to compare price distributions for each airline.\r\n",
    "\r\n",
    "4. **Total Stops:**\r\n",
    "   - Examine the relationship between the number of stops and flight prices.\r\n",
    "   - Create boxplots or bar plots to illustrate how prices vary with the total number of stops.\r\n",
    "\r\n",
    "5. **Route:**\r\n",
    "   - Analyze how specific flight routes contribute to price variations.\r\n",
    "   - Group flights by route and visualize the average prices for each route.\r\n",
    "\r\n",
    "6. **Duration:**\r\n",
    "   - Investigate how the duration of flights affects prices.\r\n",
    "   - Use scatter plots or regression analysis to explore the correlation between duration and prices.\r\n",
    "\r\n",
    "7. **Additional Information:**\r\n",
    "   - Consider any additional information provided in the dataset and analyze its impact on prices.\r\n",
    "   - For categorical variables, use bar plots, and for continuous variables, consider scatter plots or boxplots.\r\n",
    "\r\n",
    "8. **Correlation Analysis:**\r\n",
    "   - Perform correlation analysis to identify relationships between numerical features and flight prices.\r\n",
    "   - Visualize correlations using a heatmap.\r\n",
    "\r\n",
    "9. **Machine Learning Models:**\r\n",
    "   - Train machine learning models to predict flight prices based on various features.\r\n",
    "   - Analyze feature importance scores from models like Random Forest or Gradient Boosting to identify key factors.\r\n",
    "\r\n",
    "10. **Presentation:**\r\n",
    "    - Create an executive summary that outlines key findings and insights.\r\n",
    "    - Use visualizations and charts to support your findings.\r\n",
    "    - Provide actionable recommennding of the factors influencing flight prices."
   ]
  },
  {
   "cell_type": "code",
   "execution_count": 17,
   "id": "0c470a3d-0ddf-4310-9b1d-b23a1c7d5af8",
   "metadata": {},
   "outputs": [],
   "source": [
    "flight_df['Arrival_Time']= flight_df['Arrival_Time'].apply(lambda x:x.split(' ')[0])\n",
    "flight_df['Arrival_Hour']= flight_df['Arrival_Time'].str.split(':').str[0]\n",
    "flight_df['Arrival_Min']= flight_df['Arrival_Time'].str.split(':').str[1]\n",
    "\n"
   ]
  },
  {
   "cell_type": "code",
   "execution_count": 18,
   "id": "5d1287d1-9cc8-46f2-87e3-8d952eb3b449",
   "metadata": {},
   "outputs": [
    {
     "data": {
      "text/html": [
       "<div>\n",
       "<style scoped>\n",
       "    .dataframe tbody tr th:only-of-type {\n",
       "        vertical-align: middle;\n",
       "    }\n",
       "\n",
       "    .dataframe tbody tr th {\n",
       "        vertical-align: top;\n",
       "    }\n",
       "\n",
       "    .dataframe thead th {\n",
       "        text-align: right;\n",
       "    }\n",
       "</style>\n",
       "<table border=\"1\" class=\"dataframe\">\n",
       "  <thead>\n",
       "    <tr style=\"text-align: right;\">\n",
       "      <th></th>\n",
       "      <th>Airline</th>\n",
       "      <th>Source</th>\n",
       "      <th>Destination</th>\n",
       "      <th>Route</th>\n",
       "      <th>Dep_Time</th>\n",
       "      <th>Duration</th>\n",
       "      <th>Total_Stops</th>\n",
       "      <th>Additional_Info</th>\n",
       "      <th>Price</th>\n",
       "      <th>Date</th>\n",
       "      <th>Month</th>\n",
       "      <th>Year</th>\n",
       "      <th>Arrival_Hour</th>\n",
       "      <th>Arrival_Min</th>\n",
       "    </tr>\n",
       "  </thead>\n",
       "  <tbody>\n",
       "    <tr>\n",
       "      <th>0</th>\n",
       "      <td>IndiGo</td>\n",
       "      <td>Banglore</td>\n",
       "      <td>New Delhi</td>\n",
       "      <td>BLR → DEL</td>\n",
       "      <td>22:20</td>\n",
       "      <td>2h 50m</td>\n",
       "      <td>non-stop</td>\n",
       "      <td>No info</td>\n",
       "      <td>3897</td>\n",
       "      <td>24</td>\n",
       "      <td>3</td>\n",
       "      <td>2019</td>\n",
       "      <td>1</td>\n",
       "      <td>10</td>\n",
       "    </tr>\n",
       "    <tr>\n",
       "      <th>1</th>\n",
       "      <td>Air India</td>\n",
       "      <td>Kolkata</td>\n",
       "      <td>Banglore</td>\n",
       "      <td>CCU → IXR → BBI → BLR</td>\n",
       "      <td>05:50</td>\n",
       "      <td>7h 25m</td>\n",
       "      <td>2 stops</td>\n",
       "      <td>No info</td>\n",
       "      <td>7662</td>\n",
       "      <td>1</td>\n",
       "      <td>5</td>\n",
       "      <td>2019</td>\n",
       "      <td>13</td>\n",
       "      <td>15</td>\n",
       "    </tr>\n",
       "  </tbody>\n",
       "</table>\n",
       "</div>"
      ],
      "text/plain": [
       "     Airline    Source Destination                  Route Dep_Time Duration  \\\n",
       "0     IndiGo  Banglore   New Delhi              BLR → DEL    22:20   2h 50m   \n",
       "1  Air India   Kolkata    Banglore  CCU → IXR → BBI → BLR    05:50   7h 25m   \n",
       "\n",
       "  Total_Stops Additional_Info  Price  Date  Month  Year  Arrival_Hour  \\\n",
       "0    non-stop         No info   3897    24      3  2019             1   \n",
       "1     2 stops         No info   7662     1      5  2019            13   \n",
       "\n",
       "   Arrival_Min  \n",
       "0           10  \n",
       "1           15  "
      ]
     },
     "execution_count": 18,
     "metadata": {},
     "output_type": "execute_result"
    }
   ],
   "source": [
    "flight_df['Arrival_Hour']= flight_df['Arrival_Hour'].astype(int)\n",
    "flight_df['Arrival_Min']= flight_df['Arrival_Min'].astype(int)\n",
    "flight_df.drop(['Arrival_Time'],axis=1,inplace=True)\n",
    "flight_df.head(2)"
   ]
  },
  {
   "cell_type": "code",
   "execution_count": 19,
   "id": "f7d12d99-61c1-4e36-8462-ccc508c34688",
   "metadata": {},
   "outputs": [
    {
     "data": {
      "text/html": [
       "<div>\n",
       "<style scoped>\n",
       "    .dataframe tbody tr th:only-of-type {\n",
       "        vertical-align: middle;\n",
       "    }\n",
       "\n",
       "    .dataframe tbody tr th {\n",
       "        vertical-align: top;\n",
       "    }\n",
       "\n",
       "    .dataframe thead th {\n",
       "        text-align: right;\n",
       "    }\n",
       "</style>\n",
       "<table border=\"1\" class=\"dataframe\">\n",
       "  <thead>\n",
       "    <tr style=\"text-align: right;\">\n",
       "      <th></th>\n",
       "      <th>Airline</th>\n",
       "      <th>Source</th>\n",
       "      <th>Destination</th>\n",
       "      <th>Route</th>\n",
       "      <th>Duration</th>\n",
       "      <th>Total_Stops</th>\n",
       "      <th>Additional_Info</th>\n",
       "      <th>Price</th>\n",
       "      <th>Date</th>\n",
       "      <th>Month</th>\n",
       "      <th>Year</th>\n",
       "      <th>Arrival_Hour</th>\n",
       "      <th>Arrival_Min</th>\n",
       "      <th>Dep_Hour</th>\n",
       "      <th>Dep_Min</th>\n",
       "    </tr>\n",
       "  </thead>\n",
       "  <tbody>\n",
       "    <tr>\n",
       "      <th>0</th>\n",
       "      <td>IndiGo</td>\n",
       "      <td>Banglore</td>\n",
       "      <td>New Delhi</td>\n",
       "      <td>BLR → DEL</td>\n",
       "      <td>2h 50m</td>\n",
       "      <td>non-stop</td>\n",
       "      <td>No info</td>\n",
       "      <td>3897</td>\n",
       "      <td>24</td>\n",
       "      <td>3</td>\n",
       "      <td>2019</td>\n",
       "      <td>1</td>\n",
       "      <td>10</td>\n",
       "      <td>22</td>\n",
       "      <td>20</td>\n",
       "    </tr>\n",
       "    <tr>\n",
       "      <th>1</th>\n",
       "      <td>Air India</td>\n",
       "      <td>Kolkata</td>\n",
       "      <td>Banglore</td>\n",
       "      <td>CCU → IXR → BBI → BLR</td>\n",
       "      <td>7h 25m</td>\n",
       "      <td>2 stops</td>\n",
       "      <td>No info</td>\n",
       "      <td>7662</td>\n",
       "      <td>1</td>\n",
       "      <td>5</td>\n",
       "      <td>2019</td>\n",
       "      <td>13</td>\n",
       "      <td>15</td>\n",
       "      <td>5</td>\n",
       "      <td>50</td>\n",
       "    </tr>\n",
       "  </tbody>\n",
       "</table>\n",
       "</div>"
      ],
      "text/plain": [
       "     Airline    Source Destination                  Route Duration  \\\n",
       "0     IndiGo  Banglore   New Delhi              BLR → DEL   2h 50m   \n",
       "1  Air India   Kolkata    Banglore  CCU → IXR → BBI → BLR   7h 25m   \n",
       "\n",
       "  Total_Stops Additional_Info  Price  Date  Month  Year  Arrival_Hour  \\\n",
       "0    non-stop         No info   3897    24      3  2019             1   \n",
       "1     2 stops         No info   7662     1      5  2019            13   \n",
       "\n",
       "   Arrival_Min  Dep_Hour  Dep_Min  \n",
       "0           10        22       20  \n",
       "1           15         5       50  "
      ]
     },
     "execution_count": 19,
     "metadata": {},
     "output_type": "execute_result"
    }
   ],
   "source": [
    "\n",
    "flight_df['Dep_Hour']= flight_df['Dep_Time'].str.split(':').str[0]\n",
    "flight_df['Dep_Min']= flight_df['Dep_Time'].str.split(':').str[1]\n",
    "flight_df['Dep_Hour']= flight_df['Dep_Hour'].astype(int)\n",
    "flight_df['Dep_Min']= flight_df['Dep_Min'].astype(int)\n",
    "flight_df.drop(['Dep_Time'],axis=1,inplace=True)\n",
    "flight_df.head(2)"
   ]
  },
  {
   "cell_type": "code",
   "execution_count": 20,
   "id": "c50dcc4c-69b4-4b48-b367-4a0444d12e61",
   "metadata": {},
   "outputs": [
    {
     "data": {
      "text/plain": [
       "array(['non-stop', '2 stops', '1 stop', '3 stops', nan, '4 stops'],\n",
       "      dtype=object)"
      ]
     },
     "execution_count": 20,
     "metadata": {},
     "output_type": "execute_result"
    }
   ],
   "source": [
    "flight_df['Total_Stops'].unique()"
   ]
  },
  {
   "cell_type": "code",
   "execution_count": 21,
   "id": "03747975-93bd-423d-af80-070dc741d763",
   "metadata": {},
   "outputs": [
    {
     "data": {
      "text/html": [
       "<div>\n",
       "<style scoped>\n",
       "    .dataframe tbody tr th:only-of-type {\n",
       "        vertical-align: middle;\n",
       "    }\n",
       "\n",
       "    .dataframe tbody tr th {\n",
       "        vertical-align: top;\n",
       "    }\n",
       "\n",
       "    .dataframe thead th {\n",
       "        text-align: right;\n",
       "    }\n",
       "</style>\n",
       "<table border=\"1\" class=\"dataframe\">\n",
       "  <thead>\n",
       "    <tr style=\"text-align: right;\">\n",
       "      <th></th>\n",
       "      <th>Airline</th>\n",
       "      <th>Source</th>\n",
       "      <th>Destination</th>\n",
       "      <th>Route</th>\n",
       "      <th>Duration</th>\n",
       "      <th>Total_Stops</th>\n",
       "      <th>Additional_Info</th>\n",
       "      <th>Price</th>\n",
       "      <th>Date</th>\n",
       "      <th>Month</th>\n",
       "      <th>Year</th>\n",
       "      <th>Arrival_Hour</th>\n",
       "      <th>Arrival_Min</th>\n",
       "      <th>Dep_Hour</th>\n",
       "      <th>Dep_Min</th>\n",
       "    </tr>\n",
       "  </thead>\n",
       "  <tbody>\n",
       "    <tr>\n",
       "      <th>9039</th>\n",
       "      <td>Air India</td>\n",
       "      <td>Delhi</td>\n",
       "      <td>Cochin</td>\n",
       "      <td>NaN</td>\n",
       "      <td>23h 40m</td>\n",
       "      <td>NaN</td>\n",
       "      <td>No info</td>\n",
       "      <td>7480</td>\n",
       "      <td>6</td>\n",
       "      <td>5</td>\n",
       "      <td>2019</td>\n",
       "      <td>9</td>\n",
       "      <td>25</td>\n",
       "      <td>9</td>\n",
       "      <td>45</td>\n",
       "    </tr>\n",
       "  </tbody>\n",
       "</table>\n",
       "</div>"
      ],
      "text/plain": [
       "        Airline Source Destination Route Duration Total_Stops Additional_Info  \\\n",
       "9039  Air India  Delhi      Cochin   NaN  23h 40m         NaN         No info   \n",
       "\n",
       "      Price  Date  Month  Year  Arrival_Hour  Arrival_Min  Dep_Hour  Dep_Min  \n",
       "9039   7480     6      5  2019             9           25         9       45  "
      ]
     },
     "execution_count": 21,
     "metadata": {},
     "output_type": "execute_result"
    }
   ],
   "source": [
    "flight_df[flight_df['Total_Stops'].isnull()]"
   ]
  },
  {
   "cell_type": "code",
   "execution_count": 22,
   "id": "ea4fbdf1-ead3-4544-b3d0-758cd92c4d9a",
   "metadata": {},
   "outputs": [
    {
     "data": {
      "text/plain": [
       "0    1 stop\n",
       "Name: Total_Stops, dtype: object"
      ]
     },
     "execution_count": 22,
     "metadata": {},
     "output_type": "execute_result"
    }
   ],
   "source": [
    "flight_df['Total_Stops'].mode()"
   ]
  },
  {
   "cell_type": "code",
   "execution_count": 23,
   "id": "9d6d4101-ec62-4bf1-92cf-12ab6a1a3479",
   "metadata": {},
   "outputs": [],
   "source": [
    "mapping = {'non-stop': 0, '1 stop': 1, '2 stops': 2, '3 stops': 3,np.nan:1}\n",
    "flight_df['Total_Stops'] = flight_df['Total_Stops'].map(mapping)\n",
    "\n"
   ]
  },
  {
   "cell_type": "code",
   "execution_count": 24,
   "id": "e91a8956-21ea-4e09-85be-26d41d63b91d",
   "metadata": {},
   "outputs": [
    {
     "data": {
      "image/png": "[encoded data removed]",
      "text/plain": [
       "<Figure size 640x480 with 1 Axes>"
      ]
     },
     "metadata": {},
     "output_type": "display_data"
    }
   ],
   "source": [
    "# Create a boxplot\n",
    "sns.barplot(x=flight_df['Total_Stops'], y=flight_df['Price'])\n",
    "\n",
    "# Set title and labels\n",
    "plt.title('Flight Prices by Total Stops')\n",
    "plt.xlabel('Total Stops')\n",
    "plt.ylabel('Flight Price')\n",
    "\n",
    "# Display the plot\n",
    "plt.show()\n"
   ]
  },
  {
   "cell_type": "markdown",
   "id": "fe5f52b1-7f7e-49dd-981e-247c35ee3295",
   "metadata": {},
   "source": [
    "## We can clearly see that more stops affect the price obviously if stops increase then price will also increase"
   ]
  }
 ],
 "metadata": {
  "kernelspec": {
   "display_name": "Python 3 (ipykernel)",
   "language": "python",
   "name": "python3"
  },
  "language_info": {
   "codemirror_mode": {
    "name": "ipython",
    "version": 3
   },
   "file_extension": ".py",
   "mimetype": "text/x-python",
   "name": "python",
   "nbconvert_exporter": "python",
   "pygments_lexer": "ipython3",
   "version": "3.11.5"
  }
 },
 "nbformat": 4,
 "nbformat_minor": 5
}
