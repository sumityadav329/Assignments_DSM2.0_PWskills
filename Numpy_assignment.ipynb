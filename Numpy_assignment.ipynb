{
 "cells": [
  {
   "cell_type": "code",
   "execution_count": 2,
   "id": "498acc94-44ba-4f22-b9f6-057ee3bb1ec4",
   "metadata": {},
   "outputs": [],
   "source": [
    "#Consider the below code to answer further questions:\n",
    "import numpy as np\n",
    "list_ = [ '1' , '2' , '3' , '4' , '5']\n",
    "array_list = np.array(object = list_)"
   ]
  },
  {
   "cell_type": "code",
   "execution_count": 3,
   "id": "95555424-3ce0-4931-baa2-680d6050c84f",
   "metadata": {},
   "outputs": [
    {
     "data": {
      "text/plain": [
       "['1', '2', '3', '4', '5']"
      ]
     },
     "execution_count": 3,
     "metadata": {},
     "output_type": "execute_result"
    }
   ],
   "source": [
    "list_"
   ]
  },
  {
   "cell_type": "code",
   "execution_count": 4,
   "id": "9c321f95-6986-4740-a1d3-3052525ef48f",
   "metadata": {},
   "outputs": [
    {
     "data": {
      "text/plain": [
       "array(['1', '2', '3', '4', '5'], dtype='<U1')"
      ]
     },
     "execution_count": 4,
     "metadata": {},
     "output_type": "execute_result"
    }
   ],
   "source": [
    "array_list"
   ]
  },
  {
   "cell_type": "markdown",
   "id": "e1d4ae5f-8c74-412a-a1bd-ff3299fb7537",
   "metadata": {},
   "source": [
    "# Q1. Is there any difference in the data type of variables list_ and array_list? If there is then write a code to print the data types of both the variables.\n",
    "# A1. \n",
    "\n",
    " - Yes, there is a difference in the data type of the variables `list_` and `array_list`. The variable `list_` is a Python list, and `array_list` is a NumPy array. The data type of the elements in the NumPy array would be inferred based on the elements of the Python list.\n",
    "\n",
    "I can print the data types of both variables using the following code:\n",
    "\n",
    "\n",
    "\n",
    "\n"
   ]
  },
  {
   "cell_type": "code",
   "execution_count": 10,
   "id": "8baf88cc-5869-4d4f-be2d-828adbdff457",
   "metadata": {},
   "outputs": [
    {
     "name": "stdout",
     "output_type": "stream",
     "text": [
      "Data type of list_: <class 'str'>\n",
      "Data type of array_list: <U1\n"
     ]
    }
   ],
   "source": [
    "print(\"Data type of list_:\", type(list_[0]))\n",
    "print(\"Data type of array_list:\", array_list.dtype)"
   ]
  },
  {
   "cell_type": "markdown",
   "id": "a16bee98-b10d-45d5-84de-290f3f83d1f2",
   "metadata": {},
   "source": [
    "# Q2. Write a code to print the data type of each and every element of both the variables list_ and array_list.\n",
    "# A2. Following codes are to print data type of each and every element"
   ]
  },
  {
   "cell_type": "code",
   "execution_count": 11,
   "id": "edd0a974-d383-4615-a416-045c62f2842d",
   "metadata": {},
   "outputs": [
    {
     "name": "stdout",
     "output_type": "stream",
     "text": [
      "Data type of element in list_ 1 : <class 'str'>\n",
      "Data type of element in list_ 2 : <class 'str'>\n",
      "Data type of element in list_ 3 : <class 'str'>\n",
      "Data type of element in list_ 4 : <class 'str'>\n",
      "Data type of element in list_ 5 : <class 'str'>\n"
     ]
    }
   ],
   "source": [
    "# type of list_ elements\n",
    "for i in list_:\n",
    "    print(f'Data type of element in list_ {i} :', type(i))"
   ]
  },
  {
   "cell_type": "code",
   "execution_count": 12,
   "id": "279d39b6-529f-42ac-8fc4-38855c062cac",
   "metadata": {},
   "outputs": [
    {
     "name": "stdout",
     "output_type": "stream",
     "text": [
      " Data type of element in array_list 1 : <class 'numpy.str_'>\n",
      " Data type of element in array_list 2 : <class 'numpy.str_'>\n",
      " Data type of element in array_list 3 : <class 'numpy.str_'>\n",
      " Data type of element in array_list 4 : <class 'numpy.str_'>\n",
      " Data type of element in array_list 5 : <class 'numpy.str_'>\n"
     ]
    }
   ],
   "source": [
    "# type of array_list elements\n",
    "for i in array_list:\n",
    "    print(f' Data type of element in array_list {i} :', type(i))"
   ]
  },
  {
   "cell_type": "markdown",
   "id": "d392d45a-78d2-409c-af28-a507c50af72f",
   "metadata": {},
   "source": [
    "# Q3. Considering the following changes in the variable, \n",
    "# array_list: array_list = np.array(object = list_, dtype = int) \n",
    "# Will there be any difference in the data type of the elements present in both the variables, list_ and arra_list?\n",
    "# If so then print the data types of each and every element present in both the variables, list_ and arra_list.\n",
    "# A3. \n"
   ]
  },
  {
   "cell_type": "code",
   "execution_count": 14,
   "id": "f90bf6ed-ca3c-4ea9-8eb8-a68baaecb227",
   "metadata": {},
   "outputs": [
    {
     "data": {
      "text/plain": [
       "array([1, 2, 3, 4, 5])"
      ]
     },
     "execution_count": 14,
     "metadata": {},
     "output_type": "execute_result"
    }
   ],
   "source": [
    "# changes as per question\n",
    "array_list = np.array(object = list_, dtype = int)\n",
    "array_list"
   ]
  },
  {
   "cell_type": "markdown",
   "id": "de311442-b82d-4be2-8164-67fb8c30b85e",
   "metadata": {},
   "source": [
    "**Yes , now the difference b/w data types of list_ and array_list as list_ datatype is still string but array_list elements are converted into numpy interger** "
   ]
  },
  {
   "cell_type": "code",
   "execution_count": 16,
   "id": "862b05d3-ca80-4a6f-93d1-96ee5751fadc",
   "metadata": {},
   "outputs": [
    {
     "name": "stdout",
     "output_type": "stream",
     "text": [
      "Data type of element in list_ 1 : <class 'str'>\n",
      "Data type of element in list_ 2 : <class 'str'>\n",
      "Data type of element in list_ 3 : <class 'str'>\n",
      "Data type of element in list_ 4 : <class 'str'>\n",
      "Data type of element in list_ 5 : <class 'str'>\n"
     ]
    }
   ],
   "source": [
    "# type of list_ elements\n",
    "for i in list_:\n",
    "    print(f'Data type of element in list_ {i} :', type(i))"
   ]
  },
  {
   "cell_type": "code",
   "execution_count": 15,
   "id": "fd9c9d41-c468-4173-b384-2c4a133f1e59",
   "metadata": {},
   "outputs": [
    {
     "name": "stdout",
     "output_type": "stream",
     "text": [
      " Data type of element in array_list 1 : <class 'numpy.int64'>\n",
      " Data type of element in array_list 2 : <class 'numpy.int64'>\n",
      " Data type of element in array_list 3 : <class 'numpy.int64'>\n",
      " Data type of element in array_list 4 : <class 'numpy.int64'>\n",
      " Data type of element in array_list 5 : <class 'numpy.int64'>\n"
     ]
    }
   ],
   "source": [
    "# type of array_list elements\n",
    "for i in array_list:\n",
    "    print(f' Data type of element in array_list {i} :', type(i))"
   ]
  },
  {
   "cell_type": "markdown",
   "id": "8f5fc5c5-917c-4a17-9c48-a12f433ebe64",
   "metadata": {},
   "source": [
    "# Consider the below code to answer further questions:"
   ]
  },
  {
   "cell_type": "code",
   "execution_count": 18,
   "id": "cf178b70-2ac6-4308-8bee-303afa899dce",
   "metadata": {},
   "outputs": [],
   "source": [
    "\n",
    "num_list = [ [ 1 , 2 , 3 ] , [ 4 , 5 , 6 ] ]\n",
    "\n",
    "num_array = np.array(object = num_list)"
   ]
  },
  {
   "cell_type": "code",
   "execution_count": 19,
   "id": "97f9d852-13ad-44fb-a5ad-b6743e053c05",
   "metadata": {},
   "outputs": [
    {
     "data": {
      "text/plain": [
       "[[1, 2, 3], [4, 5, 6]]"
      ]
     },
     "execution_count": 19,
     "metadata": {},
     "output_type": "execute_result"
    }
   ],
   "source": [
    "num_list"
   ]
  },
  {
   "cell_type": "code",
   "execution_count": 20,
   "id": "1213d0b2-bbd2-4b10-83e0-fa2273d7de35",
   "metadata": {},
   "outputs": [
    {
     "data": {
      "text/plain": [
       "array([[1, 2, 3],\n",
       "       [4, 5, 6]])"
      ]
     },
     "execution_count": 20,
     "metadata": {},
     "output_type": "execute_result"
    }
   ],
   "source": [
    "num_array"
   ]
  },
  {
   "cell_type": "markdown",
   "id": "17ae77c1-42bf-4c1d-94c3-71e5d168601c",
   "metadata": {},
   "source": [
    "# Q4. Write a code to find the following characteristics of variable, num_array:\n",
    " - (i) shape\n",
    " - (ii) size\n",
    " \n",
    " ##  A4. following are code to find the shape and size of num_array"
   ]
  },
  {
   "cell_type": "code",
   "execution_count": 25,
   "id": "7ba6cc45-e98a-4d26-b5c2-820f9eb7c4de",
   "metadata": {},
   "outputs": [
    {
     "data": {
      "text/plain": [
       "6"
      ]
     },
     "execution_count": 25,
     "metadata": {},
     "output_type": "execute_result"
    }
   ],
   "source": [
    "# to find the size\n",
    "np.size(num_array)"
   ]
  },
  {
   "cell_type": "code",
   "execution_count": 24,
   "id": "e4d3eb2e-ad10-4f74-97f3-e7c44b06baea",
   "metadata": {},
   "outputs": [
    {
     "data": {
      "text/plain": [
       "(2, 3)"
      ]
     },
     "execution_count": 24,
     "metadata": {},
     "output_type": "execute_result"
    }
   ],
   "source": [
    "# to find the shape\n",
    "np.shape(num_array)"
   ]
  },
  {
   "cell_type": "markdown",
   "id": "403e1724-dd3a-47b8-a50d-1f97e9bc1bb8",
   "metadata": {},
   "source": [
    "# Q5. Write a code to create numpy array of 3*3 matrix containing zeros only, using a numpy array creation function.\n",
    "[Hint: The size of the array will be 9 and the shape will be (3,3).]\n",
    "\n",
    "# A5."
   ]
  },
  {
   "cell_type": "code",
   "execution_count": 29,
   "id": "c4cf009d-1afc-46a7-b594-31013d8887dc",
   "metadata": {},
   "outputs": [
    {
     "data": {
      "text/plain": [
       "array([[0., 0., 0.],\n",
       "       [0., 0., 0.],\n",
       "       [0., 0., 0.]])"
      ]
     },
     "execution_count": 29,
     "metadata": {},
     "output_type": "execute_result"
    }
   ],
   "source": [
    "# using zeros numpy array creation function\n",
    "\n",
    "arr = np.zeros((3,3))\n",
    "arr"
   ]
  },
  {
   "cell_type": "code",
   "execution_count": 31,
   "id": "377b8b11-b53d-4127-b9f6-c64d98bb72af",
   "metadata": {},
   "outputs": [
    {
     "name": "stdout",
     "output_type": "stream",
     "text": [
      "shape of the array is , (3, 3)\n",
      "size of the array is , 9\n"
     ]
    }
   ],
   "source": [
    "# shape and size of above array\n",
    "print(f'shape of the array is , {arr.shape}')\n",
    "print(f'size of the array is , {arr.size}')"
   ]
  },
  {
   "cell_type": "markdown",
   "id": "ec371a35-b46c-4ed8-b0c4-f49cc6d9d927",
   "metadata": {},
   "source": [
    "# Q6. Create an identity matrix of shape (5,5) using numpy functions?\n",
    "[Hint: An identity matrix is a matrix containing 1 diagonally and other elements will be 0.]\n",
    "# A6."
   ]
  },
  {
   "cell_type": "code",
   "execution_count": null,
   "id": "a87a97ce-24db-4176-9df1-7e5cde555edb",
   "metadata": {},
   "outputs": [],
   "source": [
    "arr1 = np.eye(5)\n",
    "arr1"
   ]
  },
  {
   "cell_type": "code",
   "execution_count": null,
   "id": "03c4f4a8-3634-40b5-9303-d1f2c6ae968c",
   "metadata": {},
   "outputs": [],
   "source": []
  }
 ],
 "metadata": {
  "kernelspec": {
   "display_name": "Python 3 (ipykernel)",
   "language": "python",
   "name": "python3"
  },
  "language_info": {
   "codemirror_mode": {
    "name": "ipython",
    "version": 3
   },
   "file_extension": ".py",
   "mimetype": "text/x-python",
   "name": "python",
   "nbconvert_exporter": "python",
   "pygments_lexer": "ipython3",
   "version": "3.10.8"
  }
 },
 "nbformat": 4,
 "nbformat_minor": 5
}
