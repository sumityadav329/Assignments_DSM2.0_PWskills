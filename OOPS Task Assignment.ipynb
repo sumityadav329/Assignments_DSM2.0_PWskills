{
 "cells": [
  {
   "cell_type": "markdown",
   "id": "c6edd829-3677-47b1-8da9-b8845c598240",
   "metadata": {},
   "source": [
    "### Q1. Create a vehicle class with an init method having instance variables as name_of_vehicle, max_speed and average_of_vehicle.\n",
    "##### A1."
   ]
  },
  {
   "cell_type": "code",
   "execution_count": 1,
   "id": "7df222ff-d306-4f0a-a25d-28ef44febdcd",
   "metadata": {},
   "outputs": [
    {
     "name": "stdout",
     "output_type": "stream",
     "text": [
      "Hyundai\n",
      "140\n",
      "18\n"
     ]
    }
   ],
   "source": [
    "class Vehicle :\n",
    "    def __init__ (self, name_of_vehicle, max_speed, average_of_vehicle):\n",
    "        self.name_of_vehicle = name_of_vehicle\n",
    "        self.max_speed = max_speed\n",
    "        self.average_of_vehicle = average_of_vehicle\n",
    "        \n",
    "veh = Vehicle(\"Hyundai\",140,18)\n",
    "print(veh.name_of_vehicle)\n",
    "print(veh.max_speed)\n",
    "print(veh.average_of_vehicle)    "
   ]
  },
  {
   "cell_type": "markdown",
   "id": "fd06eae9-f496-44d3-88cb-5265bf0fde7e",
   "metadata": {},
   "source": [
    "### Q2. Create a child class car from the vehicle class created in Que 1, which will inherit the vehicle class.Create a method named seating_capacity which takes capacity as an argument and returns the name of the vehicle and its seating capacity.\n",
    "##### A2."
   ]
  },
  {
   "cell_type": "code",
   "execution_count": 4,
   "id": "03ee773e-de31-4abf-85b3-732b3594249e",
   "metadata": {},
   "outputs": [
    {
     "name": "stdout",
     "output_type": "stream",
     "text": [
      " Name of the Vehicle is Honda and its seating capacity is 6\n"
     ]
    }
   ],
   "source": [
    "class Vehicle :\n",
    "    def __init__ (self, name_of_vehicle, max_speed, average_of_vehicle):\n",
    "        self.name_of_vehicle = name_of_vehicle\n",
    "        self.max_speed = max_speed\n",
    "        self.average_of_vehicle = average_of_vehicle\n",
    "\n",
    "class Car(Vehicle):\n",
    "    def __init__(self, name_of_vehicle, max_speed, average_of_vehicle,capacity):\n",
    "        super().__init__(name_of_vehicle, max_speed, average_of_vehicle)\n",
    "        self.capacity = capacity\n",
    "        \n",
    "    def seating_capacity(self):\n",
    "        return f\" Name of the Vehicle is {self.name_of_vehicle} and its seating capacity is {self.capacity}\"\n",
    "\n",
    "car = Car(\"Honda\",140,25,6)\n",
    "print(car.seating_capacity())\n",
    "        "
   ]
  },
  {
   "cell_type": "markdown",
   "id": "23701d49-55cf-4217-b6de-1fbb406328b2",
   "metadata": {},
   "source": [
    "### Q3. What is multiple inheritance? Write a python code to demonstrate multiple inheritance.\n"
   ]
  },
  {
   "cell_type": "markdown",
   "id": "50de5ce7-d8a1-4ef0-afc8-0c4b8f5ae9d9",
   "metadata": {},
   "source": [
    "#### A3.\n",
    "####  Multiple Inheritance:\n",
    "Multiple inheritance is when a class inherits from multiple superclasses. It allows a class to inherit attributes and methods from multiple sources."
   ]
  },
  {
   "cell_type": "code",
   "execution_count": 1,
   "id": "7e3f1d39-fbb5-4c95-9583-87dbeaf2538a",
   "metadata": {},
   "outputs": [
    {
     "name": "stdout",
     "output_type": "stream",
     "text": [
      "Child can park his Ducati in PARK AVENUE 7 as well as LARK AVENUE 10 and can also drive BMW as well as Audi.\n"
     ]
    }
   ],
   "source": [
    "class Father:\n",
    "    def __init__(self, house1, car1):\n",
    "        self.house1 = house1\n",
    "        self.car1 = car1\n",
    "\n",
    "class Mother:\n",
    "    def __init__(self, house2, car2):\n",
    "        self.house2 = house2\n",
    "        self.car2 = car2\n",
    "\n",
    "class Child(Father, Mother):\n",
    "    def __init__(self, house1, car1, house2, car2, bike):\n",
    "        Father.__init__(self,house1, car1)  # Call Father's __init__ to initialize house1 and car1\n",
    "        Mother.__init__(self,house2, car2)  # Call Mother's __init__ to initialize house2 and car2\n",
    "        self.bike = bike\n",
    "\n",
    "# Creating an instance of Child\n",
    "c = Child(house1=\"PARK AVENUE 7\", car1=\"BMW\", house2=\"LARK AVENUE 10\", car2=\"Audi\", bike=\"Ducati\")\n",
    "print(f\"Child can park his {c.bike} in {c.house1} as well as {c.house2} and can also drive {c.car1} as well as {c.car2}.\")"
   ]
  },
  {
   "cell_type": "code",
   "execution_count": 2,
   "id": "863892f0-9c00-4180-a660-f67aa7338549",
   "metadata": {},
   "outputs": [],
   "source": [
    "c.house1 = \"10 DOWNING STREET\"\n",
    "c.car2 = \"FERRARI\""
   ]
  },
  {
   "cell_type": "code",
   "execution_count": 3,
   "id": "05ee653b-ceae-4287-9087-cebe87ca1bd9",
   "metadata": {},
   "outputs": [
    {
     "name": "stdout",
     "output_type": "stream",
     "text": [
      "Child can park his Ducati in 10 DOWNING STREET as well as LARK AVENUE 10 and can also drive BMW as well as FERRARI.\n"
     ]
    }
   ],
   "source": [
    "print(f\"Child can park his {c.bike} in {c.house1} as well as {c.house2} and can also drive {c.car1} as well as {c.car2}.\")"
   ]
  },
  {
   "cell_type": "markdown",
   "id": "935e36ae-f41f-45ec-8245-c65bf09d5ea7",
   "metadata": {},
   "source": [
    "### Q4. What are getter and setter in python? Create a class and create a getter and a setter method in this class."
   ]
  },
  {
   "cell_type": "markdown",
   "id": "9cc8efec-be6e-41a2-b6d5-5e52e0f8a4d5",
   "metadata": {},
   "source": [
    "##### A4. In Python, getters and setters are methods that are used to get and set the values of attributes (variables) of a class. They provide a way to control how the attributes are accessed and modified from outside the class.\n",
    "\n",
    "* Getter (Accessor method): A getter method is used to retrieve the value of an attribute. It allows you to access the attribute's value while controlling its visibility and providing additional processing if needed.\n",
    "\n",
    "* Setter (Mutator method): A setter method is used to set the value of an attribute. It allows you to control how the attribute is modified and perform additional validation or processing before setting the value."
   ]
  },
  {
   "cell_type": "code",
   "execution_count": 7,
   "id": "c68a5680-6517-445c-b142-788f36608146",
   "metadata": {},
   "outputs": [
    {
     "name": "stdout",
     "output_type": "stream",
     "text": [
      "current age: 28\n",
      "Age can not be negative\n"
     ]
    }
   ],
   "source": [
    "class Person:\n",
    "    def __init__(self,name,age):\n",
    "        self._name = name\n",
    "        self._age = age\n",
    "        \n",
    "    def get_age(self):  #getter method for age attributes\n",
    "        return self._age\n",
    "    \n",
    "    \n",
    "    def set_age(self,new_age): #setter method for age attributes\n",
    "        if new_age>=0 :\n",
    "            self._age = new_age\n",
    "        else:\n",
    "            print(\"Age can not be negative\")\n",
    "            \n",
    "#creating an instance of the Person class\n",
    "            \n",
    "person1 = Person(\"Sumit\",28)\n",
    "\n",
    "print(\"current age:\", person1.get_age()) #getting age using getter method\n",
    "\n",
    "person1.set_age(30) #setting new age using setter method\n",
    "\n",
    "person1.set_age(-5) # trying negative age\n",
    "            \n",
    "    \n",
    "    "
   ]
  },
  {
   "cell_type": "code",
   "execution_count": 6,
   "id": "13f79871-2d71-4110-b3e9-84867d0556db",
   "metadata": {},
   "outputs": [
    {
     "data": {
      "text/plain": [
       "{'_name': 'Sumit', '_age': 30}"
      ]
     },
     "execution_count": 6,
     "metadata": {},
     "output_type": "execute_result"
    }
   ],
   "source": [
    "person1.__dict__"
   ]
  },
  {
   "cell_type": "markdown",
   "id": "6363af67-4944-4544-b6b8-54feb78690ef",
   "metadata": {},
   "source": [
    "### Q5.What is method overriding in python? Write a python code to demonstrate method overriding."
   ]
  },
  {
   "cell_type": "markdown",
   "id": "c4f0434f-4c48-4e68-9121-503b783ba652",
   "metadata": {},
   "source": [
    "#### A5. Method overriding in Python allows a subclass to provide a specific implementation of a method that is already defined in its superclass. When a method is overridden in the subclass, the subclass version of the method will be called instead of the superclass version when the method is invoked on an object of the subclass."
   ]
  },
  {
   "cell_type": "code",
   "execution_count": 10,
   "id": "5adcaebe-b91a-426f-baba-400d608bc6be",
   "metadata": {},
   "outputs": [
    {
     "name": "stdout",
     "output_type": "stream",
     "text": [
      "Pyaaz lelo\n",
      "Aloo Lelo\n"
     ]
    }
   ],
   "source": [
    "class Market:\n",
    "    def loud_noise(self):\n",
    "        print(\"Pyaaz lelo\")\n",
    "\n",
    "class Sabji_wala(Market):\n",
    "    def loud_noise(self):\n",
    "        print(\"Aloo Lelo\")\n",
    "\n",
    "# Create instances of Market and Sabzi_wala\n",
    "m = Market()\n",
    "sw = Sabji_wala()\n",
    "\n",
    "# Calling the loud_noise() method for each object\n",
    "m.loud_noise()\n",
    "sw.loud_noise() #this will call Sabji_wala subclass version instead of Market superclass\n",
    "     \n"
   ]
  },
  {
   "cell_type": "code",
   "execution_count": null,
   "id": "91ab64a3-1b18-4250-bd7d-4f8b0a45edb6",
   "metadata": {},
   "outputs": [],
   "source": []
  }
 ],
 "metadata": {
  "kernelspec": {
   "display_name": "Python 3 (ipykernel)",
   "language": "python",
   "name": "python3"
  },
  "language_info": {
   "codemirror_mode": {
    "name": "ipython",
    "version": 3
   },
   "file_extension": ".py",
   "mimetype": "text/x-python",
   "name": "python",
   "nbconvert_exporter": "python",
   "pygments_lexer": "ipython3",
   "version": "3.10.8"
  }
 },
 "nbformat": 4,
 "nbformat_minor": 5
}
