{
 "cells": [
  {
   "cell_type": "markdown",
   "metadata": {
    "id": "ElgeoCwok_ns"
   },
   "source": [
    "## Q1. What is multithreading in python? Why is it used? Name the module used to handle threads in python.\n",
    "### A1.\n",
    "Multithreading in Python refers to the ability of a program to execute multiple threads (smaller units of a process) concurrently within the same process. Each thread runs independently and shares the same resources such as memory space, file handles, etc.\n",
    "\n",
    "Multithreading is used to improve the responsiveness of applications by allowing them to perform multiple tasks simultaneously without waiting for each task to complete before starting the next one.\n",
    "\n",
    "\n",
    "Python provides a built-in module called `threading` to handle threads. This module allows you to create and manage threads in your Python programs."
   ]
  },
  {
   "cell_type": "markdown",
   "metadata": {
    "id": "GubVsHKok_3z"
   },
   "source": [
    "## Q2. Why threading module used? Write the use of the following functions activeCount( currentThread( enumerate()\n",
    "### A2.\n",
    "The `threading` module in Python is used to work with threads, which are smaller units of execution within a program. Threads allow you to run multiple tasks concurrently, which can be especially useful in scenarios where your program needs to handle multiple operations simultaneously, such as I/O-bound tasks.\n",
    "\n",
    "Here are the uses of the functions you mentioned from the `threading` module:\n",
    "\n",
    "1. **`activeCount()`**: This function is used to get the number of Thread objects currently alive (i.e., still running or not yet terminated) in the program. It returns an integer indicating the count of active threads. This can be helpful for monitoring the number of active threads and managing thread-related activities.\n",
    "\n",
    "   \n",
    "\n",
    "2. **`currentThread()`**: This function returns the currently executing Thread object. This can be useful when you want to identify and manipulate the current thread within a thread's code.\n",
    "\n",
    "   \n",
    "\n",
    "3. **`enumerate()`**: This function returns a list of all active Thread objects. It can be used to get a list of all threads currently alive in the program, which allows you to perform operations on each thread or access their properties.\n"
   ]
  },
  {
   "cell_type": "code",
   "execution_count": 1,
   "metadata": {
    "id": "GCO4yZLyQgXG"
   },
   "outputs": [],
   "source": [
    "import threading"
   ]
  },
  {
   "cell_type": "code",
   "execution_count": 2,
   "metadata": {
    "colab": {
     "base_uri": "https://localhost:8080/"
    },
    "id": "ZRr_FFp_QMiK",
    "outputId": "0b136885-3565-460c-9d37-3cb7d8490584"
   },
   "outputs": [
    {
     "name": "stdout",
     "output_type": "stream",
     "text": [
      "Thread started.\n",
      "Thread started.\n",
      "Active threads: 8\n"
     ]
    },
    {
     "name": "stderr",
     "output_type": "stream",
     "text": [
      "/tmp/ipykernel_411/2917389972.py:12: DeprecationWarning: activeCount() is deprecated, use active_count() instead\n",
      "  print(\"Active threads:\", threading.activeCount())\n"
     ]
    }
   ],
   "source": [
    "# activeCount\n",
    "\n",
    "def worker():\n",
    "    print(\"Thread started.\")\n",
    "\n",
    "thread1 = threading.Thread(target=worker)\n",
    "thread2 = threading.Thread(target=worker)\n",
    "\n",
    "thread1.start()\n",
    "thread2.start()\n",
    "\n",
    "print(\"Active threads:\", threading.activeCount())\n"
   ]
  },
  {
   "cell_type": "code",
   "execution_count": 3,
   "metadata": {
    "colab": {
     "base_uri": "https://localhost:8080/"
    },
    "id": "kfN5LQUAQNVj",
    "outputId": "dfe64272-d3f6-4836-dc07-b5a92e6af8e6"
   },
   "outputs": [
    {
     "name": "stdout",
     "output_type": "stream",
     "text": [
      "Current thread name: Thread-7 (worker)\n"
     ]
    },
    {
     "name": "stderr",
     "output_type": "stream",
     "text": [
      "/tmp/ipykernel_411/2937791835.py:4: DeprecationWarning: currentThread() is deprecated, use current_thread() instead\n",
      "  current = threading.currentThread()\n",
      "/tmp/ipykernel_411/2937791835.py:5: DeprecationWarning: getName() is deprecated, get the name attribute instead\n",
      "  print(\"Current thread name:\", current.getName())\n"
     ]
    }
   ],
   "source": [
    "    # currentThread\n",
    "\n",
    "def worker():\n",
    "  current = threading.currentThread()\n",
    "  print(\"Current thread name:\", current.getName())\n",
    "thread1 = threading.Thread(target=worker)\n",
    "thread1.start()\n",
    "thread1.join()\n"
   ]
  },
  {
   "cell_type": "code",
   "execution_count": 4,
   "metadata": {
    "colab": {
     "base_uri": "https://localhost:8080/"
    },
    "id": "AAa801OSQNKu",
    "outputId": "75779ca4-96a9-47dc-e9b4-c796efaad9f9"
   },
   "outputs": [
    {
     "name": "stdout",
     "output_type": "stream",
     "text": [
      "Thread started.\n",
      "Thread started.\n",
      "List of threads: [<_MainThread(MainThread, started 140590639343424)>, <Thread(IOPub, started daemon 140590568814144)>, <Heartbeat(Heartbeat, started daemon 140590560421440)>, <Thread(Thread-3 (_watch_pipe_fd), started daemon 140590535243328)>, <Thread(Thread-4 (_watch_pipe_fd), started daemon 140590184396352)>, <ControlThread(Control, started daemon 140590176003648)>, <HistorySavingThread(IPythonHistorySavingThread, started 140590167610944)>, <ParentPollerUnix(Thread-2, started daemon 140590159218240)>]\n"
     ]
    }
   ],
   "source": [
    "\n",
    "# enumerate\n",
    "\n",
    "def worker():\n",
    "  print(\"Thread started.\")\n",
    "\n",
    "thread1 = threading.Thread(target=worker)\n",
    "thread2 = threading.Thread(target=worker)\n",
    "\n",
    "thread1.start()\n",
    "thread2.start()\n",
    "\n",
    "threads = threading.enumerate()\n",
    "print(\"List of threads:\", threads)\n"
   ]
  },
  {
   "cell_type": "markdown",
   "metadata": {
    "id": "MXnZ-YA6R_S8"
   },
   "source": [
    "## Q3. Explain the following functions run( start( join( isAlive()\n",
    "### A3. Explained below one by one:"
   ]
  },
  {
   "cell_type": "markdown",
   "metadata": {
    "id": "qZXfzCA_ThrL"
   },
   "source": [
    "**`run()`**: This function is not a standalone function; it's a method that you can define within a class that inherits from the threading.Thread class. When you create a custom thread class by subclassing Thread, you can override the run() method in your class. This method defines the behavior of the thread when it starts running. You put the actual code you want the thread to execute within the run() method. When you call the start() method on an instance of your custom thread class, it will automatically execute the code defined in the run() method."
   ]
  },
  {
   "cell_type": "code",
   "execution_count": 5,
   "metadata": {
    "id": "-6CCE3csThoE"
   },
   "outputs": [
    {
     "name": "stdout",
     "output_type": "stream",
     "text": [
      "Thread Thread-10 says: Count 0\n",
      "Thread Thread-10 says: Count 1\n",
      "Thread Thread-10 says: Count 2\n",
      "Thread Thread-10 says: Count 3\n",
      "Thread Thread-10 says: Count 4\n",
      "Thread Thread-11 says: Count 0\n",
      "Thread Thread-11 says: Count 1\n",
      "Thread Thread-11 says: Count 2\n",
      "Thread Thread-11 says: Count 3\n",
      "Thread Thread-11 says: Count 4\n"
     ]
    },
    {
     "name": "stderr",
     "output_type": "stream",
     "text": [
      "/tmp/ipykernel_411/524611484.py:4: DeprecationWarning: getName() is deprecated, get the name attribute instead\n",
      "  print(f\"Thread {self.getName()} says: Count {i}\")\n"
     ]
    }
   ],
   "source": [
    "class MyThread(threading.Thread):\n",
    "    def run(self):\n",
    "        for i in range(5):\n",
    "            print(f\"Thread {self.getName()} says: Count {i}\")\n",
    "\n",
    "thread1 = MyThread()\n",
    "thread2 = MyThread()\n",
    "\n",
    "thread1.start()\n",
    "thread2.start()\n"
   ]
  },
  {
   "cell_type": "markdown",
   "metadata": {
    "id": "3grxhySvThk3"
   },
   "source": [
    "**`start()`**: This method is used to start the execution of a thread by calling the run() method of the thread class. Once you've created a thread object and configured its behavior (by either passing a target function or by subclassing Thread and overriding the run() method), you call the start() method to initiate the execution of the thread. This method triggers the thread's run() method to be executed concurrently."
   ]
  },
  {
   "cell_type": "code",
   "execution_count": 6,
   "metadata": {
    "id": "qToFhoPEThhn"
   },
   "outputs": [
    {
     "name": "stdout",
     "output_type": "stream",
     "text": [
      "Thread started.\n"
     ]
    }
   ],
   "source": [
    "def worker():\n",
    "    print(\"Thread started.\")\n",
    "\n",
    "thread1 = threading.Thread(target=worker)\n",
    "thread1.start()\n"
   ]
  },
  {
   "cell_type": "markdown",
   "metadata": {
    "id": "ci-mamAPThev"
   },
   "source": [
    "**`join()`**: The join() method is used to wait for a thread to complete its execution. When you call join() on a thread object, the calling thread (usually the main thread) will wait until the target thread has finished executing before continuing its own execution. This is particularly useful when you want to ensure that certain threads complete their work before other parts of your program proceed."
   ]
  },
  {
   "cell_type": "code",
   "execution_count": 7,
   "metadata": {
    "id": "LGkB79rnThbi"
   },
   "outputs": [
    {
     "name": "stdout",
     "output_type": "stream",
     "text": [
      "Thread started.\n",
      "Thread finished.\n"
     ]
    },
    {
     "name": "stderr",
     "output_type": "stream",
     "text": [
      "/tmp/ipykernel_411/1458791796.py:3: DeprecationWarning: currentThread() is deprecated, use current_thread() instead\n",
      "  threading.currentThread().getName()\n",
      "/tmp/ipykernel_411/1458791796.py:3: DeprecationWarning: getName() is deprecated, get the name attribute instead\n",
      "  threading.currentThread().getName()\n"
     ]
    }
   ],
   "source": [
    "def worker():\n",
    "    print(\"Thread started.\")\n",
    "    threading.currentThread().getName()\n",
    "\n",
    "thread1 = threading.Thread(target=worker)\n",
    "thread1.start()\n",
    "\n",
    "thread1.join()\n",
    "print(\"Thread finished.\")\n"
   ]
  },
  {
   "cell_type": "markdown",
   "metadata": {
    "id": "r5I1XLZeThXu"
   },
   "source": [
    "**`isAlive()`**: This method is used to determine whether a thread is currently running (alive) or has completed its execution (not alive). It returns True if the thread is still executing, and False if it has completed its execution."
   ]
  },
  {
   "cell_type": "code",
   "execution_count": 8,
   "metadata": {
    "colab": {
     "base_uri": "https://localhost:8080/"
    },
    "id": "BQ0LysWbVnlP",
    "outputId": "f36f9428-8658-4e13-86b4-51570bd770dd"
   },
   "outputs": [
    {
     "name": "stdout",
     "output_type": "stream",
     "text": [
      "Thread started.\n",
      "Thread 1 alive? False\n",
      "Thread 1 alive? False\n"
     ]
    }
   ],
   "source": [
    "def worker():\n",
    "    print(\"Thread started.\")\n",
    "\n",
    "thread1 = threading.Thread(target=worker)\n",
    "thread1.start()\n",
    "\n",
    "print(\"Thread 1 alive?\", thread1.is_alive())\n",
    "thread1.join()\n",
    "print(\"Thread 1 alive?\", thread1.is_alive())\n"
   ]
  },
  {
   "cell_type": "markdown",
   "metadata": {
    "id": "24symhPQWWIH"
   },
   "source": [
    "## Q4.  Write a python program to create two threads. Thread one must print the list of squares and thread two must print the list of cubes.\n",
    "### A4."
   ]
  },
  {
   "cell_type": "code",
   "execution_count": 26,
   "metadata": {
    "colab": {
     "base_uri": "https://localhost:8080/"
    },
    "id": "oP-Z7jfxXE-A",
    "outputId": "cbc9e0d5-fe55-45c5-d07d-75a76b872934"
   },
   "outputs": [
    {
     "name": "stdout",
     "output_type": "stream",
     "text": [
      "square of 2 is 4 \n",
      "square of 3 is 9 \n",
      "square of 5 is 25 \n",
      "square of 6 is 36 \n",
      "cubes of 2 is 8\n",
      "cubes of 3 is 27\n",
      "cubes of 5 is 125\n",
      "cubes of 6 is 216\n",
      "both threads finished\n"
     ]
    }
   ],
   "source": [
    "import threading\n",
    "\n",
    "def print_squares(numbers):\n",
    "  for num in numbers:\n",
    "    print(f\"square of {num} is {num**2} \")\n",
    "\n",
    "def print_cubes(numbers):\n",
    "  for num in numbers:\n",
    "    print(f\"cubes of {num} is {num**3}\")\n",
    "\n",
    "numbers = [2,3,5,6]\n",
    "\n",
    "# creating threads\n",
    "thread1 = threading.Thread(target=print_squares, args=(numbers,))\n",
    "thread2 = threading.Thread(target=print_cubes, args=(numbers,))\n",
    "\n",
    "# starting threads\n",
    "thread1.start()\n",
    "thread2.start()\n",
    "\n",
    "# wait for both threads to finish\n",
    "thread1.join()\n",
    "thread2.join()\n",
    "\n",
    "print(\"both threads finished\")\n"
   ]
  },
  {
   "cell_type": "markdown",
   "metadata": {
    "id": "3Hz-LVlEacqH"
   },
   "source": [
    "## Q5. State advantages and disadvantages of multithreading.\n",
    "### A5.\n",
    "Multithreading offers several advantages and disadvantages, depending on the context in which it's used. Here's a list of some of the key advantages and disadvantages of multithreading:\n",
    "\n",
    "**Advantages of Multithreading:**\n",
    "\n",
    "1. **Concurrency:** Multithreading allows multiple tasks to be executed concurrently, which can lead to better overall program performance by utilizing available system resources more efficiently.\n",
    "\n",
    "2. **Responsiveness:** Multithreading enhances the responsiveness of applications, especially in scenarios involving user interactions, as one thread can handle user input while another thread performs background tasks.\n",
    "\n",
    "3. **Resource Sharing:** Threads within the same process share the same memory space and other resources, which can lead to efficient communication and data sharing among threads.\n",
    "\n",
    "4. **Efficient I/O Operations:** For I/O-bound tasks (such as file I/O, network communication), threads can overlap I/O operations to minimize waiting time, resulting in better throughput.\n",
    "\n",
    "5. **Modular Design:** Multithreading allows you to break complex tasks into smaller, more manageable units of work, which can simplify the design and maintenance of your code.\n",
    "\n",
    "**Disadvantages of Multithreading:**\n",
    "\n",
    "1. **Complexity:** Multithreaded programming can be complex and error-prone. Issues like race conditions, deadlocks, and thread synchronization problems can arise, making debugging and development more challenging.\n",
    "\n",
    "2. **Race Conditions:** Race conditions occur when multiple threads access shared resources concurrently, leading to unexpected and incorrect behavior. Proper synchronization mechanisms (locks, semaphores, etc.) are needed to avoid race conditions.\n",
    "\n",
    "3. **Deadlocks:** Deadlocks occur when two or more threads are waiting for each other to release resources, leading to a standstill. Careful design and proper use of synchronization are necessary to prevent deadlocks.\n",
    "\n",
    "4. **Overhead:** Thread creation and management introduce overhead, which can impact performance, especially when dealing with a large number of threads.\n",
    "\n",
    "5. **GIL Limitations (Python):** In Python, the Global Interpreter Lock (GIL) can limit true parallel execution of threads, especially in CPU-bound tasks. This means that multithreading may not lead to significant performance improvements in some cases.\n",
    "\n",
    "6. **Debugging Challenges:** Identifying and diagnosing issues in multithreaded programs can be challenging due to the non-deterministic nature of thread execution.\n",
    "\n",
    "7. **Limited Parallelism (Python):** Due to the GIL in Python, CPU-bound tasks may not take full advantage of multiple CPU cores using the `threading` module. In such cases, the `multiprocessing` module might be more suitable.\n",
    "\n"
   ]
  },
  {
   "cell_type": "markdown",
   "metadata": {
    "id": "NFB-fesCbFBW"
   },
   "source": [
    "## Q6. Explain deadlocks and race conditions.\n",
    "### Q6.\n",
    "**Deadlocks:**\n",
    "\n",
    "A deadlock is a situation that occurs in multithreaded or multiprocess applications where two or more threads or processes are unable to proceed because each is waiting for the other to release resources. In other words, they become stuck in a circular dependency, preventing any of them from making progress. Deadlocks can effectively freeze a program, making it unresponsive and requiring intervention to resolve.\n",
    "\n",
    "In Python, deadlocks can occur when threads or processes acquire locks in a certain order and then wait indefinitely for locks held by other threads or processes. To avoid deadlocks, it's crucial to carefully design the acquisition and release of resources (such as locks) to ensure that circular dependencies cannot occur.\n",
    "\n",
    "\n",
    "**Race Conditions:**\n",
    "\n",
    "A race condition occurs when two or more threads attempt to modify shared resources simultaneously, leading to unpredictable or unintended behavior. In Python, race conditions commonly arise when threads access and modify shared variables without proper synchronization mechanisms (like locks) in place."
   ]
  },
  {
   "cell_type": "code",
   "execution_count": 27,
   "metadata": {
    "colab": {
     "base_uri": "https://localhost:8080/"
    },
    "id": "zULYQoF-b9G2",
    "outputId": "6b199505-870c-4610-994d-c82f6a509bb2"
   },
   "outputs": [
    {
     "name": "stdout",
     "output_type": "stream",
     "text": [
      "Thread1 aquired lock1\n",
      "Thread1 aquired lock2\n",
      "Thread2 aquired lock2\n",
      "Thread2 aquired lock1\n",
      "both threads finished\n"
     ]
    }
   ],
   "source": [
    "# Example of Deadlock\n",
    "\n",
    "lock1 = threading.Lock()\n",
    "lock2 = threading.Lock()\n",
    "\n",
    "def thread1_func():\n",
    "  lock1.acquire()\n",
    "  print(\"Thread1 aquired lock1\")\n",
    "  lock2.acquire()\n",
    "  print(\"Thread1 aquired lock2\")\n",
    "  lock2.release()\n",
    "  lock1.release()\n",
    "\n",
    "def thread2_func():\n",
    "  lock2.acquire()\n",
    "  print(\"Thread2 aquired lock2\")\n",
    "  # simulate some processing\n",
    "  lock1.acquire()   #deadlock can occur here\n",
    "  print(\"Thread2 aquired lock1\")\n",
    "  lock1.release()\n",
    "  lock2.release()\n",
    "\n",
    "thread1 = threading.Thread(target=thread1_func)\n",
    "thread2 = threading.Thread(target=thread2_func)\n",
    "\n",
    "thread1.start()\n",
    "thread2.start()\n",
    "\n",
    "thread1.join()\n",
    "thread2.join()\n",
    "\n",
    "print(\"both threads finished\")"
   ]
  },
  {
   "cell_type": "code",
   "execution_count": 28,
   "metadata": {
    "colab": {
     "base_uri": "https://localhost:8080/"
    },
    "id": "C6Lp6PQjfjFW",
    "outputId": "fc429f79-eb42-4604-c4d5-6a35fa3a3fc7"
   },
   "outputs": [
    {
     "name": "stdout",
     "output_type": "stream",
     "text": [
      "final counter value: 2000000\n"
     ]
    }
   ],
   "source": [
    "# Example of race condition\n",
    "\n",
    "counter = 0\n",
    "def increment_counter():\n",
    "  global counter\n",
    "  for _ in range(1000000):\n",
    "    counter+=1\n",
    "\n",
    "thread1= threading.Thread(target= increment_counter)\n",
    "thread2= threading.Thread(target= increment_counter)\n",
    "\n",
    "thread1.start()\n",
    "thread2.start()\n",
    "\n",
    "thread1.join()\n",
    "thread2.join()\n",
    "\n",
    "print(\"final counter value:\", counter)"
   ]
  },
  {
   "cell_type": "code",
   "execution_count": null,
   "metadata": {
    "id": "zxZeKGEJhFBl"
   },
   "outputs": [],
   "source": []
  }
 ],
 "metadata": {
  "colab": {
   "provenance": []
  },
  "kernelspec": {
   "display_name": "Python 3 (ipykernel)",
   "language": "python",
   "name": "python3"
  },
  "language_info": {
   "codemirror_mode": {
    "name": "ipython",
    "version": 3
   },
   "file_extension": ".py",
   "mimetype": "text/x-python",
   "name": "python",
   "nbconvert_exporter": "python",
   "pygments_lexer": "ipython3",
   "version": "3.10.8"
  }
 },
 "nbformat": 4,
 "nbformat_minor": 4
}
