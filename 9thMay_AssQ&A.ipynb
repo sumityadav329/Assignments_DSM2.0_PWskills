{
 "cells": [
  {
   "cell_type": "code",
   "execution_count": 1,
   "id": "d35ff23d-f984-4174-8b3b-95fb10719bd9",
   "metadata": {},
   "outputs": [],
   "source": [
    "#Q1. Create one variable containing following type of data:\n",
    "#string, list, float, tuple\n",
    "#Answers\n",
    "Variable_String = (\"Sumit\")\n",
    "\n",
    "Variable_List = [1, \"Sumit\", 2]\n",
    "\n",
    "Variable_Float = 1.2\n",
    "\n",
    "Variable_Tuple = (1, \"Sumit\", 2)"
   ]
  },
  {
   "cell_type": "code",
   "execution_count": 7,
   "id": "c6023548-08cf-489a-baa5-b1046454d85e",
   "metadata": {},
   "outputs": [
    {
     "name": "stdout",
     "output_type": "stream",
     "text": [
      "<class 'str'>\n",
      "<class 'str'>\n",
      "<class 'list'>\n",
      "<class 'float'>\n"
     ]
    }
   ],
   "source": [
    "#Q2. Given are some following variables containing data:\n",
    "#What will be the data type of the above given variable.\n",
    "var1 = ' '\n",
    "\n",
    "var2 = '[ DS , ML , Python]'\n",
    "\n",
    "var3 = [ 'DS' ,'ML','Python' ]\n",
    "\n",
    "var4 = 1.\n",
    "\n",
    "#Answers\n",
    "print(type(var1)) #string\n",
    "print(type(var2)) #string\n",
    "print(type(var3)) #list\n",
    "print(type(var4)) #float"
   ]
  },
  {
   "cell_type": "code",
   "execution_count": 10,
   "id": "5048d6e1-725a-43c9-9ce3-e013401628a7",
   "metadata": {},
   "outputs": [
    {
     "name": "stdout",
     "output_type": "stream",
     "text": [
      "2.142857142857143\n",
      "1\n",
      "2\n",
      "170859375\n"
     ]
    }
   ],
   "source": [
    "#Q3. Explain the use of the following operators using an example:\n",
    "#/, %, //, **\n",
    "\n",
    "#Answers\n",
    "\n",
    "#This '/' operator is used for division\n",
    "example = 15/7\n",
    "print(example)\n",
    "#This '%' operator is used for modulus\n",
    "example = 15%7\n",
    "print(example)\n",
    "#This '//' operator is used for floor division\n",
    "example = 15//7\n",
    "print(example)\n",
    "#This '**' operator is used for exponenetial\n",
    "example = 15**7\n",
    "print(example)\n"
   ]
  },
  {
   "cell_type": "code",
   "execution_count": 2,
   "id": "4b6def79-60e4-4c5e-9323-cf4564bf2815",
   "metadata": {},
   "outputs": [
    {
     "name": "stdout",
     "output_type": "stream",
     "text": [
      "<class 'int'>\n",
      "<class 'str'>\n",
      "<class 'float'>\n",
      "<class 'list'>\n",
      "<class 'complex'>\n",
      "<class 'bool'>\n",
      "<class 'bool'>\n",
      "<class 'NoneType'>\n",
      "<class 'dict'>\n",
      "<class 'tuple'>\n"
     ]
    }
   ],
   "source": [
    "#Q4. Create a list of length 10 of your choice containing multiple types of data. Using for loop print the element and its data type.\n",
    "#Answer\n",
    "\n",
    "lst = [1, \"Sumit\", 3.2, [-4,-5], 1+2j, True, False, None, {\"Name\": \"Sumit\",\"age\": 20, \"can_vote\": True}, (1,2,3)]\n",
    "\n",
    "for element in lst:\n",
    "    print(type(element))\n",
    "\n"
   ]
  },
  {
   "cell_type": "code",
   "execution_count": 3,
   "id": "589fec09-4896-4408-9378-3417b5a49643",
   "metadata": {},
   "outputs": [
    {
     "name": "stdout",
     "output_type": "stream",
     "text": [
      "Number A is purely divisible by number B. It can be divided 66 times.\n"
     ]
    }
   ],
   "source": [
    "#Q5. Using a while loop, verify if the number A is purely divisible by number B and if so then how many times it can be divisible.\n",
    "# Answer.\n",
    "#In math, a number is said to be exactly divisible by another number if the remainder after division is 0.\n",
    "'''Division problems can be represented using repeated subtraction just as multiplication problems can be \n",
    "represented using repeated addition. Repeated subtraction can be used to solve division problems by subtracting \n",
    "the divisor from the dividend until the remainder is less than the divisor.'''\n",
    "A = 132 #dividend\n",
    "B = 2   #diviser\n",
    "count=0\n",
    "while A >= B:\n",
    "    A = A- B \n",
    "    count += 1\n",
    "    \n",
    "if A  == 0:\n",
    "    print(f\"Number A is purely divisible by number B. It can be divided {count} times.\")\n",
    "        \n",
    "else :\n",
    "    print(f\"Number A is not divisible by number B.\")\n",
    "\n"
   ]
  },
  {
   "cell_type": "code",
   "execution_count": 6,
   "id": "0126541f-ffd0-49c7-80a8-e27af626cb6b",
   "metadata": {},
   "outputs": [
    {
     "name": "stdout",
     "output_type": "stream",
     "text": [
      "3 is divisible by 3.\n",
      "2 is NOT divisible by 3.\n",
      "6 is divisible by 3.\n",
      "19 is NOT divisible by 3.\n",
      "21 is divisible by 3.\n",
      "100 is NOT divisible by 3.\n",
      "225 is divisible by 3.\n",
      "27 is divisible by 3.\n",
      "99 is divisible by 3.\n",
      "28 is NOT divisible by 3.\n",
      "33 is divisible by 3.\n",
      "45 is divisible by 3.\n",
      "88 is NOT divisible by 3.\n",
      "30 is divisible by 3.\n",
      "54 is divisible by 3.\n",
      "78 is divisible by 3.\n",
      "1011 is divisible by 3.\n",
      "1055 is NOT divisible by 3.\n",
      "2123 is NOT divisible by 3.\n",
      "2580 is divisible by 3.\n",
      "111 is divisible by 3.\n",
      "741 is divisible by 3.\n",
      "852 is divisible by 3.\n",
      "369 is divisible by 3.\n",
      "456 is divisible by 3.\n"
     ]
    }
   ],
   "source": [
    "#Q6. Create a list containing 25 int type data. Using for loop and if-else condition print if the element is divisible by 3 or not.\n",
    "#Answer\n",
    "lst = [3, 2, 6, 19, 21, 100, 225, 27, 99, 28, 33, 45, 88, 30, 54, 78, 1011, 1055, 2123, 2580, 111, 741, 852, 369, 456]\n",
    "\n",
    "#In math, a number is said to be exactly divisible by another number(3) if the remainder after division is 0.\n",
    "\n",
    "for x in lst:\n",
    "    if x % 3 == 0:\n",
    "        print(f\"{x} is divisible by 3.\")\n",
    "    else :\n",
    "        print(f\"{x} is NOT divisible by 3.\")\n",
    "\n"
   ]
  },
  {
   "cell_type": "code",
   "execution_count": 16,
   "id": "ce5407bc-fe5b-4b3c-8900-2d21fc43f4ac",
   "metadata": {},
   "outputs": [
    {
     "name": "stdout",
     "output_type": "stream",
     "text": [
      "10\n",
      "15\n",
      "Hello\n",
      "Hello World\n",
      "[1, 2, 3]\n",
      "[1, 2, 3, 4]\n",
      "{'name': 'John', 'age': 25}\n",
      "{'name': 'John', 'age': 30}\n"
     ]
    },
    {
     "data": {
      "text/plain": [
       "'In the above examples, the values of lst1 and dict1 are modified directly.\\nThe changes made to these mutable objects affect the original objects themselves.'"
      ]
     },
     "execution_count": 16,
     "metadata": {},
     "output_type": "execute_result"
    }
   ],
   "source": [
    "#Q7. What do you understand about mutable and immutable data types? Give examples for both showing this property.\n",
    "#Answer\n",
    "'''Immutable Data Types:\n",
    "\n",
    "Immutable data types are those whose values cannot be changed once they are assigned. \n",
    "If you modify an immutable object, a new object is created with the updated value.\n",
    "Examples of immutable data types in Python include integers, floating-point numbers, booleans, strings, and tuples.'''\n",
    "\n",
    "# Example of immutable data types\n",
    "x = 10\n",
    "print(x)  # Output: 10\n",
    "\n",
    "x = x + 5\n",
    "print(x)  # Output: 15\n",
    "\n",
    "y = \"Hello\"\n",
    "print(y)  # Output: Hello\n",
    "\n",
    "y = y + \" World\"\n",
    "print(y)  # Output: Hello World\n",
    "\n",
    "'''In the above examples, the values of x and y are reassigned, creating new objects with the updated values. \n",
    "The original objects remain unchanged because they are immutable.'''\n",
    "\n",
    "\n",
    "''' Mutable Data Types:\n",
    "\n",
    "Mutable data types are those whose values can be modified after they are assigned. \n",
    "Any changes made to a mutable object will directly affect the object itself without creating a new object.\n",
    "Examples of mutable data types in Python include lists, dictionaries, and sets.'''\n",
    "\n",
    "\n",
    "# Example of mutable data types\n",
    "lst1 = [1, 2, 3]\n",
    "print(lst1)  # Output: [1, 2, 3]\n",
    "\n",
    "lst1 += [4]\n",
    "print(lst1)  # Output: [1, 2, 3, 4]\n",
    "\n",
    "dict1 = {\"name\": \"John\", \"age\": 25}\n",
    "print(dict1)  # Output: {'name': 'John', 'age': 25}\n",
    "\n",
    "dict1[\"age\"] = 30\n",
    "print(dict1)  # Output: {'name': 'John', 'age': 30} \n",
    "\n",
    "'''In the above examples, the values of lst1 and dict1 are modified directly.\n",
    "The changes made to these mutable objects affect the original objects themselves.'''"
   ]
  },
  {
   "cell_type": "code",
   "execution_count": null,
   "id": "742c3a6d-d436-4455-92bc-d432d0141cfd",
   "metadata": {},
   "outputs": [],
   "source": []
  }
 ],
 "metadata": {
  "kernelspec": {
   "display_name": "Python 3 (ipykernel)",
   "language": "python",
   "name": "python3"
  },
  "language_info": {
   "codemirror_mode": {
    "name": "ipython",
    "version": 3
   },
   "file_extension": ".py",
   "mimetype": "text/x-python",
   "name": "python",
   "nbconvert_exporter": "python",
   "pygments_lexer": "ipython3",
   "version": "3.10.8"
  }
 },
 "nbformat": 4,
 "nbformat_minor": 5
}
