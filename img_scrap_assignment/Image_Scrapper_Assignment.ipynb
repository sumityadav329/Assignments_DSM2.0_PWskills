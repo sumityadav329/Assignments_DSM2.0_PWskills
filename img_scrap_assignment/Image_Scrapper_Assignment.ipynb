{
 "cells": [
  {
   "cell_type": "markdown",
   "metadata": {
    "id": "qDABR6iwNIx2"
   },
   "source": [
    "Go to this given URL and solve the following questions\n",
    "URL: https://www.youtube.com/@PW-Foundation/videos\n",
    "\n",
    "Note: Save all the data scraped in the above questions in a CSV file.\n",
    "\n",
    "Create a simple UI with all functionalities mentioned above and deploy it in AWS."
   ]
  },
  {
   "cell_type": "markdown",
   "metadata": {
    "id": "WwHh_gHgNRPH"
   },
   "source": [
    "# Q1.Write a python program to extract the video URL of the first five videos.\n",
    "\n",
    "## A1.\n",
    "**Youtube is a dynamic website which is created with JavaScript . Beautiful Soup will fail in scraping of given url. \n",
    "Using Selenium to extract the data**\n",
    "\n",
    "**We need chromedrive.exe for this so I've downloaded it**\n",
    "\n",
    "   - **note: I am using chrome version -- 119 and chromedriver version -- 119**"
   ]
  },
  {
   "cell_type": "code",
   "execution_count": 1,
   "metadata": {
    "id": "pBUN0SSENRSY"
   },
   "outputs": [],
   "source": [
    "from selenium import webdriver\n",
    "from selenium.webdriver.common.by import By\n",
    "import time\n",
    "\n",
    "driver = webdriver.Chrome(executable_path='chromedriver.exe')\n",
    "url = \"https://www.youtube.com/@PW-Foundation/videos\"\n",
    "driver.get(url)\n",
    "time.sleep(5)\n",
    "\n",
    "\n",
    "video_links = driver.find_elements(By.ID, 'video-title-link') \n",
    "\n",
    "video_links_list = [] # creating a list to use it later to save as csv\n",
    "\n",
    "# Extracting the video URLs of the first five videos\n",
    "for i, video_link in enumerate(video_links[:5], start=1):\n",
    "    video_url = video_link.get_attribute('href')\n",
    "    \n",
    "    video_links_list.append(f\"Video {i} URL: {video_url}\")\n",
    "\n",
    "# Close the browser\n",
    "driver.quit()\n"
   ]
  },
  {
   "cell_type": "code",
   "execution_count": 2,
   "metadata": {},
   "outputs": [
    {
     "data": {
      "text/plain": [
       "['Video 1 URL: https://www.youtube.com/watch?v=LedfkTduxoQ',\n",
       " 'Video 2 URL: https://www.youtube.com/watch?v=LKOc2Mf3070',\n",
       " 'Video 3 URL: https://www.youtube.com/watch?v=NgqIX2UfU4A',\n",
       " 'Video 4 URL: https://www.youtube.com/watch?v=13Tk7TbQPRM',\n",
       " 'Video 5 URL: https://www.youtube.com/watch?v=UUXl4ZTbQ7g']"
      ]
     },
     "execution_count": 2,
     "metadata": {},
     "output_type": "execute_result"
    }
   ],
   "source": [
    "video_links_list"
   ]
  },
  {
   "cell_type": "markdown",
   "metadata": {
    "id": "YmfDNef5NRV6"
   },
   "source": [
    "# Q2. Write a python program to extract the URL of the video thumbnails of the first five videos.\n",
    "## A2.\n"
   ]
  },
  {
   "cell_type": "code",
   "execution_count": 3,
   "metadata": {
    "id": "asgZ1NEVNRb-"
   },
   "outputs": [],
   "source": [
    "from selenium import webdriver\n",
    "from selenium.webdriver.common.by import By\n",
    "import time\n",
    "\n",
    "driver = webdriver.Chrome(executable_path='chromedriver')\n",
    "url = \"https://www.youtube.com/@PW-Foundation/videos\"\n",
    "driver.get(url)\n",
    "driver.maximize_window()\n",
    "time.sleep(5)\n",
    "\n",
    "\n",
    "    \n",
    "# Finding the video thumbnail elements \n",
    "thumbnail_elements = driver.find_elements(By.CLASS_NAME, 'style-scope ytd-rich-grid-media')  \n",
    "\n",
    "video_thumbnail_list = [] # creating a list to use it later for saving as csv\n",
    "\n",
    "# Extracting the video thumbnail URLs of the first five videos\n",
    "for i, thumbnail_element in enumerate(thumbnail_elements[:5], start=1):\n",
    "    thumbnail_url = thumbnail_element.find_element(By.TAG_NAME, 'img').get_attribute('src')\n",
    "    video_thumbnail_list.append(f\"Video {i} Thumbnail URL: {thumbnail_url}\")\n",
    "\n",
    "\n",
    "driver.quit()\n",
    "\n",
    "\n",
    "\n"
   ]
  },
  {
   "cell_type": "code",
   "execution_count": 4,
   "metadata": {},
   "outputs": [
    {
     "data": {
      "text/plain": [
       "['Video 1 Thumbnail URL: https://i.ytimg.com/vi/LedfkTduxoQ/hqdefault.jpg?sqp=-oaymwEcCNACELwBSFXyq4qpAw4IARUAAIhCGAFwAcABBg==&rs=AOn4CLDx-FZZHaWdtOkuzc4jWInGedJKuw',\n",
       " 'Video 2 Thumbnail URL: https://i.ytimg.com/vi/LKOc2Mf3070/hqdefault.jpg?sqp=-oaymwEcCNACELwBSFXyq4qpAw4IARUAAIhCGAFwAcABBg==&rs=AOn4CLAVNqDi9d0ylSYONsHticKFOkIGyw',\n",
       " 'Video 3 Thumbnail URL: https://i.ytimg.com/vi/NgqIX2UfU4A/hqdefault.jpg?sqp=-oaymwEcCNACELwBSFXyq4qpAw4IARUAAIhCGAFwAcABBg==&rs=AOn4CLBhp2tsQXSnwg4gS8WgLOFBzIqXZg',\n",
       " 'Video 4 Thumbnail URL: https://i.ytimg.com/vi/13Tk7TbQPRM/hqdefault.jpg?sqp=-oaymwEcCNACELwBSFXyq4qpAw4IARUAAIhCGAFwAcABBg==&rs=AOn4CLBb_4CKZt3FSk0j11IajyYu0aCN8Q',\n",
       " 'Video 5 Thumbnail URL: https://i.ytimg.com/vi/UUXl4ZTbQ7g/hqdefault.jpg?sqp=-oaymwEcCNACELwBSFXyq4qpAw4IARUAAIhCGAFwAcABBg==&rs=AOn4CLC-Zre4-NyvnCayXNqreuXbx_pcuQ']"
      ]
     },
     "execution_count": 4,
     "metadata": {},
     "output_type": "execute_result"
    }
   ],
   "source": [
    "video_thumbnail_list"
   ]
  },
  {
   "cell_type": "markdown",
   "metadata": {},
   "source": [
    "# Q3. Write a python program to extract the title of the first five videos.\n",
    "\n",
    "## A3.\n",
    "\n"
   ]
  },
  {
   "cell_type": "code",
   "execution_count": 5,
   "metadata": {},
   "outputs": [],
   "source": [
    "from selenium import webdriver\n",
    "from selenium.webdriver.common.by import By\n",
    "import time\n",
    "\n",
    "driver = webdriver.Chrome(executable_path='chromedriver.exe')\n",
    "url = \"https://www.youtube.com/@PW-Foundation/videos\"\n",
    "driver.get(url)\n",
    "time.sleep(5)\n",
    "\n",
    "\n",
    "video_titles = driver.find_elements(By.XPATH, './/*[@id=\"video-title-link\"]')\n",
    "\n",
    "video_titles_list = []\n",
    "\n",
    "# Extracting the video URLs of the first five videos\n",
    "for i, title in enumerate(video_titles[:5], start=1):\n",
    "    video_title = title.get_attribute('title')\n",
    "    video_titles_list.append(f\"Video {i} title: {video_title}\")\n",
    "\n",
    "\n",
    "driver.quit()\n"
   ]
  },
  {
   "cell_type": "code",
   "execution_count": 6,
   "metadata": {},
   "outputs": [
    {
     "data": {
      "text/plain": [
       "['Video 1 title: TRIANGLES in 50 minutes || Class 10th CBSE Boards',\n",
       " 'Video 2 title: OUTCOMES OF DEMOCRACY in 25 minutes || Class 10th CBSE Boards',\n",
       " 'Video 3 title: BOARDS से अब डर नहीं लगेगा 🔥 || Ultimate Class - 10th Study Motivation',\n",
       " 'Video 4 title: CONTROL AND COORDINATION in 60 minutes || Class 10th CBSE Boards',\n",
       " 'Video 5 title: GENDER, RELIGION AND CASTE in 50 minutes || Class 10th CBSE Borads']"
      ]
     },
     "execution_count": 6,
     "metadata": {},
     "output_type": "execute_result"
    }
   ],
   "source": [
    "video_titles_list"
   ]
  },
  {
   "cell_type": "markdown",
   "metadata": {},
   "source": [
    "# Q4. Write a python program to extract the number of views of the first five videos.\n",
    "## A4.\n"
   ]
  },
  {
   "cell_type": "code",
   "execution_count": 7,
   "metadata": {},
   "outputs": [],
   "source": [
    "from selenium import webdriver\n",
    "from selenium.webdriver.common.by import By\n",
    "import time\n",
    "\n",
    "driver = webdriver.Chrome(executable_path='chromedriver.exe')\n",
    "url = \"https://www.youtube.com/@PW-Foundation/videos\"\n",
    "driver.get(url)\n",
    "time.sleep(5)\n",
    "\n",
    "\n",
    "video_views = driver.find_elements(By.CLASS_NAME, 'style-scope ytd-video-meta-block')\n",
    "\n",
    "video_views_list = []\n",
    "\n",
    "# Extracting the view count of the first five videos\n",
    "for i, view in enumerate(video_views[:5], start=1):\n",
    "    views_element = view.find_element(By.TAG_NAME, 'span')  \n",
    "    \n",
    "    # Get the number of views\n",
    "    views = views_element.text\n",
    "    video_views_list.append(f\"Views for Video {i}: {views}\")\n",
    "    \n",
    "\n",
    "driver.quit()\n"
   ]
  },
  {
   "cell_type": "code",
   "execution_count": 8,
   "metadata": {},
   "outputs": [
    {
     "data": {
      "text/plain": [
       "['Views for Video 1: 4.4K views',\n",
       " 'Views for Video 2: 6K views',\n",
       " 'Views for Video 3: 26K views',\n",
       " 'Views for Video 4: 16K views',\n",
       " 'Views for Video 5: 8.8K views']"
      ]
     },
     "execution_count": 8,
     "metadata": {},
     "output_type": "execute_result"
    }
   ],
   "source": [
    "video_views_list"
   ]
  },
  {
   "cell_type": "markdown",
   "metadata": {},
   "source": [
    "# Q5. Write a python program to extract the time of posting of video for the first five videos.\n",
    "## A5.\n"
   ]
  },
  {
   "cell_type": "code",
   "execution_count": 9,
   "metadata": {},
   "outputs": [],
   "source": [
    "from selenium import webdriver\n",
    "from selenium.webdriver.common.by import By\n",
    "import time\n",
    "\n",
    "driver = webdriver.Chrome(executable_path='chromedriver.exe')\n",
    "url = \"https://www.youtube.com/@PW-Foundation/videos\"\n",
    "driver.get(url)\n",
    "time.sleep(5)\n",
    "\n",
    "\n",
    "video_timings = driver.find_elements(By.XPATH, '//*[@id=\"metadata-line\"]')  \n",
    "\n",
    "video_timings_list = []\n",
    "\n",
    "# Extracting the time of posting for the first five videos\n",
    "for i, video_time in enumerate(video_timings[:5], start=1):\n",
    "    \n",
    "    # Finding all <span> elements within the video title\n",
    "    spans = video_time.find_elements(By.TAG_NAME, 'span')\n",
    "    \n",
    "    time_of_posting = None\n",
    "\n",
    "    # Iterating through the <span> elements to filter out the \"views\"\n",
    "    for span in spans:\n",
    "        text = span.text\n",
    "        if \"ago\" in text:\n",
    "            time_of_posting = text\n",
    "            break  \n",
    "\n",
    "    \n",
    "    video_timings_list.append(f\"Time of Posting for Video {i}: {time_of_posting}\")\n",
    "\n",
    "\n",
    "driver.quit()\n"
   ]
  },
  {
   "cell_type": "code",
   "execution_count": 10,
   "metadata": {},
   "outputs": [
    {
     "data": {
      "text/plain": [
       "['Time of Posting for Video 1: 18 hours ago',\n",
       " 'Time of Posting for Video 2: 1 day ago',\n",
       " 'Time of Posting for Video 3: 1 day ago',\n",
       " 'Time of Posting for Video 4: 2 days ago',\n",
       " 'Time of Posting for Video 5: 4 days ago']"
      ]
     },
     "execution_count": 10,
     "metadata": {},
     "output_type": "execute_result"
    }
   ],
   "source": [
    "video_timings_list"
   ]
  },
  {
   "cell_type": "markdown",
   "metadata": {},
   "source": [
    "# Now time to save all data scraped into a csv file\n"
   ]
  },
  {
   "cell_type": "code",
   "execution_count": 13,
   "metadata": {},
   "outputs": [
    {
     "name": "stdout",
     "output_type": "stream",
     "text": [
      "Variable               Type          Data/Info\n",
      "----------------------------------------------\n",
      "By                     type          <class 'selenium.webdriver.common.by.By'>\n",
      "driver                 WebDriver     <selenium.webdriver.chrom<...>410375e43df500bb48b531\")>\n",
      "i                      int           5\n",
      "span                   WebElement    <selenium.webdriver.remot<...>45939435083_element_93\")>\n",
      "spans                  list          n=2\n",
      "text                   str           4 days ago\n",
      "thumbnail_element      WebElement    <selenium.webdriver.remot<...>4F2A3BD1681_element_79\")>\n",
      "thumbnail_elements     list          n=28\n",
      "thumbnail_url          str           https://i.ytimg.com/vi/UU<...>re4-NyvnCayXNqreuXbx_pcuQ\n",
      "time                   module        <module 'time' (built-in)>\n",
      "time_of_posting        str           4 days ago\n",
      "title                  WebElement    <selenium.webdriver.remot<...>AAFCBB20008_element_57\")>\n",
      "url                    str           https://www.youtube.com/@PW-Foundation/videos\n",
      "video_link             WebElement    <selenium.webdriver.remot<...>4ED8A7B40B9_element_58\")>\n",
      "video_links            list          n=30\n",
      "video_links_list       list          n=5\n",
      "video_thumbnail_list   list          n=5\n",
      "video_time             WebElement    <selenium.webdriver.remot<...>45939435083_element_58\")>\n",
      "video_timings          list          n=30\n",
      "video_timings_list     list          n=5\n",
      "video_title            str           GENDER, RELIGION AND CAST<...>|| Class 10th CBSE Borads\n",
      "video_titles_list      list          n=5\n",
      "video_url              str           https://www.youtube.com/watch?v=UUXl4ZTbQ7g\n",
      "video_views            list          n=30\n",
      "video_views_list       list          n=5\n",
      "view                   WebElement    <selenium.webdriver.remot<...>4F67F04FD82_element_57\")>\n",
      "views                  str           8.8K views\n",
      "views_element          WebElement    <selenium.webdriver.remot<...>4F67F04FD82_element_87\")>\n",
      "webdriver              module        <module 'selenium.webdriv<...>\\webdriver\\\\__init__.py'>\n"
     ]
    }
   ],
   "source": [
    "%whos\n"
   ]
  },
  {
   "cell_type": "code",
   "execution_count": 27,
   "metadata": {},
   "outputs": [],
   "source": [
    "import csv\n",
    "\n",
    "# Creating separate lists for each column\n",
    "titles = video_titles_list\n",
    "links = video_links_list\n",
    "thumbnails = video_thumbnail_list\n",
    "views = video_views_list\n",
    "timings = video_timings_list\n",
    "\n",
    "\n",
    "csv_file = 'youtube_data.csv'\n",
    "\n",
    "# Combining the lists using zip\n",
    "data = list(zip(titles, links, thumbnails, views, timings))\n",
    "\n",
    "# Writing the data to the CSV file\n",
    "with open(csv_file, 'w', newline='', encoding='utf-8') as csvfile:\n",
    "    csvwriter = csv.writer(csvfile)\n",
    "\n",
    "    # Writing column headers\n",
    "    csvwriter.writerow([\"Title\", \"Links\", \"Thumbnails\", \"Views\", \"Time of Posting\"])\n",
    "\n",
    "    # Writing the data to the CSV file\n",
    "    csvwriter.writerows(data)\n"
   ]
  },
  {
   "cell_type": "code",
   "execution_count": 28,
   "metadata": {},
   "outputs": [
    {
     "name": "stdout",
     "output_type": "stream",
     "text": [
      "['Title', 'Links', 'Thumbnails', 'Views', 'Time of Posting']\n",
      "\n",
      "['Video 1 title: TRIANGLES in 50 minutes || Class 10th CBSE Boards', 'Video 1 URL: https://www.youtube.com/watch?v=LedfkTduxoQ', 'Video 1 Thumbnail URL: https://i.ytimg.com/vi/LedfkTduxoQ/hqdefault.jpg?sqp=-oaymwEcCNACELwBSFXyq4qpAw4IARUAAIhCGAFwAcABBg==&rs=AOn4CLDx-FZZHaWdtOkuzc4jWInGedJKuw', 'Views for Video 1: 4.4K views', 'Time of Posting for Video 1: 18 hours ago']\n",
      "\n",
      "['Video 2 title: OUTCOMES OF DEMOCRACY in 25 minutes || Class 10th CBSE Boards', 'Video 2 URL: https://www.youtube.com/watch?v=LKOc2Mf3070', 'Video 2 Thumbnail URL: https://i.ytimg.com/vi/LKOc2Mf3070/hqdefault.jpg?sqp=-oaymwEcCNACELwBSFXyq4qpAw4IARUAAIhCGAFwAcABBg==&rs=AOn4CLAVNqDi9d0ylSYONsHticKFOkIGyw', 'Views for Video 2: 6K views', 'Time of Posting for Video 2: 1 day ago']\n",
      "\n",
      "['Video 3 title: BOARDS से अब डर नहीं लगेगा 🔥 || Ultimate Class - 10th Study Motivation', 'Video 3 URL: https://www.youtube.com/watch?v=NgqIX2UfU4A', 'Video 3 Thumbnail URL: https://i.ytimg.com/vi/NgqIX2UfU4A/hqdefault.jpg?sqp=-oaymwEcCNACELwBSFXyq4qpAw4IARUAAIhCGAFwAcABBg==&rs=AOn4CLBhp2tsQXSnwg4gS8WgLOFBzIqXZg', 'Views for Video 3: 26K views', 'Time of Posting for Video 3: 1 day ago']\n",
      "\n",
      "['Video 4 title: CONTROL AND COORDINATION in 60 minutes || Class 10th CBSE Boards', 'Video 4 URL: https://www.youtube.com/watch?v=13Tk7TbQPRM', 'Video 4 Thumbnail URL: https://i.ytimg.com/vi/13Tk7TbQPRM/hqdefault.jpg?sqp=-oaymwEcCNACELwBSFXyq4qpAw4IARUAAIhCGAFwAcABBg==&rs=AOn4CLBb_4CKZt3FSk0j11IajyYu0aCN8Q', 'Views for Video 4: 16K views', 'Time of Posting for Video 4: 2 days ago']\n",
      "\n",
      "['Video 5 title: GENDER, RELIGION AND CASTE in 50 minutes || Class 10th CBSE Borads', 'Video 5 URL: https://www.youtube.com/watch?v=UUXl4ZTbQ7g', 'Video 5 Thumbnail URL: https://i.ytimg.com/vi/UUXl4ZTbQ7g/hqdefault.jpg?sqp=-oaymwEcCNACELwBSFXyq4qpAw4IARUAAIhCGAFwAcABBg==&rs=AOn4CLC-Zre4-NyvnCayXNqreuXbx_pcuQ', 'Views for Video 5: 8.8K views', 'Time of Posting for Video 5: 4 days ago']\n",
      "\n"
     ]
    }
   ],
   "source": [
    "import csv\n",
    "\n",
    "# reading the CSV file\n",
    "with open('youtube_data.csv', 'r', encoding='utf-8') as csvfile:\n",
    "    csvreader = csv.reader(csvfile)\n",
    "    \n",
    "  \n",
    "    for row in csvreader:\n",
    "        print(row)\n",
    "        print()"
   ]
  },
  {
   "cell_type": "markdown",
   "metadata": {},
   "source": [
    "**now using pandas to read like a table and more decent** "
   ]
  },
  {
   "cell_type": "code",
   "execution_count": 33,
   "metadata": {},
   "outputs": [
    {
     "data": {
      "text/html": [
       "<div>\n",
       "<style scoped>\n",
       "    .dataframe tbody tr th:only-of-type {\n",
       "        vertical-align: middle;\n",
       "    }\n",
       "\n",
       "    .dataframe tbody tr th {\n",
       "        vertical-align: top;\n",
       "    }\n",
       "\n",
       "    .dataframe thead th {\n",
       "        text-align: right;\n",
       "    }\n",
       "</style>\n",
       "<table border=\"1\" class=\"dataframe\">\n",
       "  <thead>\n",
       "    <tr style=\"text-align: right;\">\n",
       "      <th></th>\n",
       "      <th>Title</th>\n",
       "      <th>Links</th>\n",
       "      <th>Thumbnails</th>\n",
       "      <th>Views</th>\n",
       "      <th>Time of Posting</th>\n",
       "    </tr>\n",
       "  </thead>\n",
       "  <tbody>\n",
       "    <tr>\n",
       "      <th>1</th>\n",
       "      <td>Video 1 title: TRIANGLES in 50 minutes || Clas...</td>\n",
       "      <td>Video 1 URL: https://www.youtube.com/watch?v=L...</td>\n",
       "      <td>Video 1 Thumbnail URL: https://i.ytimg.com/vi/...</td>\n",
       "      <td>Views for Video 1: 4.4K views</td>\n",
       "      <td>Time of Posting for Video 1: 18 hours ago</td>\n",
       "    </tr>\n",
       "    <tr>\n",
       "      <th>2</th>\n",
       "      <td>Video 2 title: OUTCOMES OF DEMOCRACY in 25 min...</td>\n",
       "      <td>Video 2 URL: https://www.youtube.com/watch?v=L...</td>\n",
       "      <td>Video 2 Thumbnail URL: https://i.ytimg.com/vi/...</td>\n",
       "      <td>Views for Video 2: 6K views</td>\n",
       "      <td>Time of Posting for Video 2: 1 day ago</td>\n",
       "    </tr>\n",
       "    <tr>\n",
       "      <th>3</th>\n",
       "      <td>Video 3 title: BOARDS से अब डर नहीं लगेगा 🔥 ||...</td>\n",
       "      <td>Video 3 URL: https://www.youtube.com/watch?v=N...</td>\n",
       "      <td>Video 3 Thumbnail URL: https://i.ytimg.com/vi/...</td>\n",
       "      <td>Views for Video 3: 26K views</td>\n",
       "      <td>Time of Posting for Video 3: 1 day ago</td>\n",
       "    </tr>\n",
       "    <tr>\n",
       "      <th>4</th>\n",
       "      <td>Video 4 title: CONTROL AND COORDINATION in 60 ...</td>\n",
       "      <td>Video 4 URL: https://www.youtube.com/watch?v=1...</td>\n",
       "      <td>Video 4 Thumbnail URL: https://i.ytimg.com/vi/...</td>\n",
       "      <td>Views for Video 4: 16K views</td>\n",
       "      <td>Time of Posting for Video 4: 2 days ago</td>\n",
       "    </tr>\n",
       "    <tr>\n",
       "      <th>5</th>\n",
       "      <td>Video 5 title: GENDER, RELIGION AND CASTE in 5...</td>\n",
       "      <td>Video 5 URL: https://www.youtube.com/watch?v=U...</td>\n",
       "      <td>Video 5 Thumbnail URL: https://i.ytimg.com/vi/...</td>\n",
       "      <td>Views for Video 5: 8.8K views</td>\n",
       "      <td>Time of Posting for Video 5: 4 days ago</td>\n",
       "    </tr>\n",
       "  </tbody>\n",
       "</table>\n",
       "</div>"
      ],
      "text/plain": [
       "                                               Title  \\\n",
       "1  Video 1 title: TRIANGLES in 50 minutes || Clas...   \n",
       "2  Video 2 title: OUTCOMES OF DEMOCRACY in 25 min...   \n",
       "3  Video 3 title: BOARDS से अब डर नहीं लगेगा 🔥 ||...   \n",
       "4  Video 4 title: CONTROL AND COORDINATION in 60 ...   \n",
       "5  Video 5 title: GENDER, RELIGION AND CASTE in 5...   \n",
       "\n",
       "                                               Links  \\\n",
       "1  Video 1 URL: https://www.youtube.com/watch?v=L...   \n",
       "2  Video 2 URL: https://www.youtube.com/watch?v=L...   \n",
       "3  Video 3 URL: https://www.youtube.com/watch?v=N...   \n",
       "4  Video 4 URL: https://www.youtube.com/watch?v=1...   \n",
       "5  Video 5 URL: https://www.youtube.com/watch?v=U...   \n",
       "\n",
       "                                          Thumbnails  \\\n",
       "1  Video 1 Thumbnail URL: https://i.ytimg.com/vi/...   \n",
       "2  Video 2 Thumbnail URL: https://i.ytimg.com/vi/...   \n",
       "3  Video 3 Thumbnail URL: https://i.ytimg.com/vi/...   \n",
       "4  Video 4 Thumbnail URL: https://i.ytimg.com/vi/...   \n",
       "5  Video 5 Thumbnail URL: https://i.ytimg.com/vi/...   \n",
       "\n",
       "                           Views                            Time of Posting  \n",
       "1  Views for Video 1: 4.4K views  Time of Posting for Video 1: 18 hours ago  \n",
       "2    Views for Video 2: 6K views     Time of Posting for Video 2: 1 day ago  \n",
       "3   Views for Video 3: 26K views     Time of Posting for Video 3: 1 day ago  \n",
       "4   Views for Video 4: 16K views    Time of Posting for Video 4: 2 days ago  \n",
       "5  Views for Video 5: 8.8K views    Time of Posting for Video 5: 4 days ago  "
      ]
     },
     "execution_count": 33,
     "metadata": {},
     "output_type": "execute_result"
    }
   ],
   "source": [
    "\n",
    "import pandas as pd\n",
    "csv_file = 'youtube_data.csv'  \n",
    "\n",
    "# Reading the CSV file into a DataFrame\n",
    "df = pd.read_csv(csv_file)\n",
    "df.index = df.index +1\n",
    "df\n",
    "\n"
   ]
  },
  {
   "cell_type": "markdown",
   "metadata": {},
   "source": [
    "# Created flask app and uploaded the folder on GitHub repository below is link\n",
    "\n",
    "- link:https://github.com/sumityadav329/yt-scrape-app-project.git \n",
    "\n",
    "# Using Render( instead of AWS) to deploy the app directly from GitHub repo and attached the screenshots in folder named screenshot"
   ]
  },
  {
   "cell_type": "code",
   "execution_count": null,
   "metadata": {},
   "outputs": [],
   "source": []
  }
 ],
 "metadata": {
  "colab": {
   "provenance": []
  },
  "kernelspec": {
   "display_name": "Python 3 (ipykernel)",
   "language": "python",
   "name": "python3"
  },
  "language_info": {
   "codemirror_mode": {
    "name": "ipython",
    "version": 3
   },
   "file_extension": ".py",
   "mimetype": "text/x-python",
   "name": "python",
   "nbconvert_exporter": "python",
   "pygments_lexer": "ipython3",
   "version": "3.11.5"
  }
 },
 "nbformat": 4,
 "nbformat_minor": 1
}
