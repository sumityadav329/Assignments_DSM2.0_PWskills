{
 "cells": [
  {
   "cell_type": "code",
   "execution_count": 37,
   "id": "3eebe798-9916-4fdd-90f4-9e252c17d03a",
   "metadata": {},
   "outputs": [],
   "source": [
    "# Q1. Which keyword is used to create a function? Create a function to return a list of odd numbers in the range of 1 to 25.\n",
    "# A1. \n",
    "# \"def\" is used to create a function,\n",
    "def odd_num():\n",
    "    r = []\n",
    "    for i in range(1,26):\n",
    "        if i % 2 != 0:\n",
    "            r.append(i)\n",
    "    return r\n",
    "        "
   ]
  },
  {
   "cell_type": "code",
   "execution_count": 38,
   "id": "bd36d346-c9a7-4ae6-9ceb-8377d5ffe60e",
   "metadata": {},
   "outputs": [
    {
     "data": {
      "text/plain": [
       "[1, 3, 5, 7, 9, 11, 13, 15, 17, 19, 21, 23, 25]"
      ]
     },
     "execution_count": 38,
     "metadata": {},
     "output_type": "execute_result"
    }
   ],
   "source": [
    "odd_num()"
   ]
  },
  {
   "cell_type": "code",
   "execution_count": null,
   "id": "cfd7e8dc-e64f-4834-822a-ab102f003bf9",
   "metadata": {},
   "outputs": [],
   "source": [
    "# Q2. Why *args and **kwargs is used in some functions? Create a function each for *args and **kwargs \n",
    "# to demonstrate their use.\n",
    "# A2. \n",
    "\n",
    "# *args\n",
    "''' *args stands for \"arguments\" and allows you to pass a variable number of positional arguments to a function.\n",
    "When *args is used in the function definition, \n",
    "it allows the function to accept any number of arguments as a tuple.\n",
    "You can then iterate over the args tuple and process the arguments within the function.'''\n",
    "\n",
    "#**kwargs\n",
    "''' **kwargs stands for \"keyword arguments\" and allows you to pass a variable number of keyword arguments to a function.\n",
    "When **kwargs is used in the function definition, \n",
    "it allows the function to accept any number of keyword arguments as a dictionary. \n",
    "You can then access and use the keyword arguments within the function.'''\n",
    "\n",
    "\n"
   ]
  },
  {
   "cell_type": "code",
   "execution_count": 92,
   "id": "de9ae455-2535-474a-8ec4-71c6db42fa69",
   "metadata": {},
   "outputs": [
    {
     "name": "stdout",
     "output_type": "stream",
     "text": [
      "Hello, Sumit Yadav\n"
     ]
    }
   ],
   "source": [
    "def name1(*names):\n",
    "        print(\"Hello,\", names[0], names[1])\n",
    "name1 ('Sumit', 'Yadav')  "
   ]
  },
  {
   "cell_type": "code",
   "execution_count": 93,
   "id": "60a1d31b-2ea1-4ea1-a4e2-d972f86cdbf8",
   "metadata": {},
   "outputs": [
    {
     "name": "stdout",
     "output_type": "stream",
     "text": [
      "Hello, Sumit Yadav\n"
     ]
    }
   ],
   "source": [
    "def name2(**names):\n",
    "        print(\"Hello,\", names[\"x\"], names[\"y\"])\n",
    "name2 (x = \"Sumit\", y = \"Yadav\")  "
   ]
  },
  {
   "cell_type": "code",
   "execution_count": 95,
   "id": "b4e8a6dd-0280-406c-8474-08a8669baac9",
   "metadata": {},
   "outputs": [
    {
     "name": "stdout",
     "output_type": "stream",
     "text": [
      "Hello, Amit Yadav\n"
     ]
    }
   ],
   "source": [
    "name1('Amit', 'Yadav')"
   ]
  },
  {
   "cell_type": "code",
   "execution_count": 96,
   "id": "bb1a9dba-9463-414f-9772-fa65b5851b6f",
   "metadata": {},
   "outputs": [
    {
     "name": "stdout",
     "output_type": "stream",
     "text": [
      "Hello, Amit Yadav\n"
     ]
    }
   ],
   "source": [
    "name2(x= 'Amit', y= 'Yadav')"
   ]
  },
  {
   "cell_type": "code",
   "execution_count": 97,
   "id": "3007ff71-189d-4dae-9d8d-623e0f02e32e",
   "metadata": {},
   "outputs": [
    {
     "name": "stdout",
     "output_type": "stream",
     "text": [
      "2\n",
      "4\n",
      "6\n",
      "8\n",
      "10\n"
     ]
    }
   ],
   "source": [
    "# Q3. What is an iterator in python? Name the method used to initialise the iterator object and the method\n",
    "# used for iteration. Use these methods to print the first five elements of the given list [2, 4, 6, 8, 10, 12, 14, 16,\n",
    "# 18, 20].\n",
    "\n",
    "#A3. \n",
    "'''In Python, an iterator is an object that allows iteration over a collection of elements, \n",
    "such as a list, tuple, or dictionary. \n",
    "It provides a way to access the elements one by one without the need to know \n",
    "the underlying structure of the collection.\n",
    "\n",
    "To initialize an iterator object in Python, we use the iter() function. \n",
    "This function takes an iterable as an argument and returns an iterator object.\n",
    "\n",
    "The next() method is used to iterate over the elements of the iterator. \n",
    "It returns the next element in the iterator. By calling next() repeatedly, \n",
    "we can access the elements one by one until all elements have been traversed.'''\n",
    "\n",
    "my_list = [2, 4, 6, 8, 10, 12, 14, 16, 18, 20]\n",
    "my_iterator = iter(my_list)\n",
    "\n",
    "for _ in range(5):\n",
    "    element = next(my_iterator)\n",
    "    print(element)\n"
   ]
  },
  {
   "cell_type": "code",
   "execution_count": 98,
   "id": "6c9e0977-c389-4e96-b2e6-bc3e7890c086",
   "metadata": {},
   "outputs": [
    {
     "name": "stdout",
     "output_type": "stream",
     "text": [
      "0\n",
      "1\n",
      "1\n",
      "2\n",
      "3\n",
      "5\n",
      "8\n",
      "13\n",
      "21\n",
      "34\n"
     ]
    }
   ],
   "source": [
    "# Q4. What is a generator function in python? Why yield keyword is used? Give an example of a generator function.\n",
    "# A4.\n",
    "'''A generator function in Python is a special type of function that returns an iterator, \n",
    "which can be used to iterate over a sequence of values. \n",
    "Unlike regular functions that use the `return` statement to return a value and terminate, \n",
    "generator functions use the `yield` keyword to temporarily pause the function's execution, \n",
    "yield a value, and save the state of the function. When the generator is iterated over, \n",
    "it resumes execution from the last `yield` statement and continues until the next `yield` or until the function ends.\n",
    "\n",
    "The `yield` keyword is used in generator functions to indicate the value to be yielded. \n",
    "It allows the function to return a value without actually terminating, \n",
    "maintaining its internal state and allowing it to be resumed later. \n",
    "Each time the generator's `next()` method is called, \n",
    "the function resumes execution from the last `yield` statement, yielding the next value in the sequence.'''\n",
    "\n",
    "\n",
    "def test_fib(n) :\n",
    "    a,b = 0,1\n",
    "    for i in range(n):\n",
    "        yield a\n",
    "        a,b = b ,a+b\n",
    "    return test_fib\n",
    "\n",
    "\n",
    "for i in test_fib(10):\n",
    "    print((i))"
   ]
  },
  {
   "cell_type": "code",
   "execution_count": 99,
   "id": "5d5f2d43-cca4-44d9-9a91-d05aa00fd7d9",
   "metadata": {},
   "outputs": [
    {
     "name": "stdout",
     "output_type": "stream",
     "text": [
      "2\n",
      "3\n",
      "5\n",
      "7\n",
      "11\n",
      "13\n",
      "17\n",
      "19\n",
      "23\n",
      "29\n",
      "31\n",
      "37\n",
      "41\n",
      "43\n",
      "47\n",
      "53\n",
      "59\n",
      "61\n",
      "67\n",
      "71\n"
     ]
    }
   ],
   "source": [
    "# Q5. Create a generator function for prime numbers less than 1000. \n",
    "# Use the next() method to print the first 20 prime numbers.\n",
    "# A5.\n",
    "\n",
    "def prime_generator():\n",
    "    primes = []\n",
    "    num = 2\n",
    "\n",
    "    while len(primes) < 20:\n",
    "        is_prime = True\n",
    "\n",
    "        for prime in primes:\n",
    "            if num % prime == 0:\n",
    "                is_prime = False\n",
    "                break\n",
    "\n",
    "        if is_prime:\n",
    "            primes.append(num)\n",
    "            yield num\n",
    "\n",
    "        num += 1\n",
    "\n",
    "\n",
    "prime_gen = prime_generator()\n",
    "\n",
    "# Print the first 20 prime numbers\n",
    "for _ in range(20):\n",
    "    prime_num = next(prime_gen)\n",
    "    print(prime_num)\n",
    "\n"
   ]
  },
  {
   "cell_type": "code",
   "execution_count": null,
   "id": "708f2a72-22f7-4bd2-86cd-b7f1709ce658",
   "metadata": {},
   "outputs": [],
   "source": []
  }
 ],
 "metadata": {
  "kernelspec": {
   "display_name": "Python 3 (ipykernel)",
   "language": "python",
   "name": "python3"
  },
  "language_info": {
   "codemirror_mode": {
    "name": "ipython",
    "version": 3
   },
   "file_extension": ".py",
   "mimetype": "text/x-python",
   "name": "python",
   "nbconvert_exporter": "python",
   "pygments_lexer": "ipython3",
   "version": "3.10.8"
  }
 },
 "nbformat": 4,
 "nbformat_minor": 5
}
