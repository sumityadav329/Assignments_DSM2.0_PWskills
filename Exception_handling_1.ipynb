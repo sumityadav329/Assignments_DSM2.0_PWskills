{
 "cells": [
  {
   "cell_type": "markdown",
   "metadata": {
    "id": "3danb110juwg"
   },
   "source": [
    "# Q1. What is an Exception in python? Write the difference between Exceptions and Syntax errors.\n",
    "# A2.\n",
    "An Exception in Python is an error that occurs during the execution of a program due to unforeseen circumstances, such as invalid input, division by zero, accessing an index that doesn't exist in a list, and so on. Exceptions allow programs to handle errors gracefully by providing a mechanism to catch and handle these exceptional situations, preventing the program from crashing.\n",
    "\n",
    "Here's the difference between Exceptions and Syntax errors:\n",
    "\n",
    "1. **Syntax Error**:\n",
    "   - Syntax errors, also known as parsing errors, occur when the code violates the Python language grammar rules.\n",
    "   - These errors are detected by the Python interpreter during the parsing (or compilation) phase, before the program is executed.\n",
    "   - Syntax errors prevent the program from running at all, and the code needs to be corrected before it can be executed.\n",
    "   - Examples of syntax errors include missing parentheses, incorrect indentation, missing colons in control structures, and so on.\n",
    "\n",
    "2. **Exception**:\n",
    "   - Exceptions occur during the runtime of a program when an unexpected condition arises that disrupts the normal flow of execution.\n",
    "   - Exceptions are not detected by the Python interpreter during the parsing phase; they occur when a particular line of code is executed.\n",
    "   - Exceptions can be handled using try-except blocks, allowing the program to take appropriate actions in response to the exceptional condition.\n",
    "   - Examples of exceptions include ZeroDivisionError (division by zero), ValueError (invalid input), IndexError (list index out of range), and many others.\n",
    "\n",
    "**syntax errors are detected during the code parsing phase and prevent the program from running, while exceptions occur during runtime and can be caught and handled using try-except blocks, allowing the program to handle unexpected situations and continue running.**"
   ]
  },
  {
   "cell_type": "markdown",
   "metadata": {
    "id": "-0ToTJYHlmga"
   },
   "source": [
    "## Q2. What happens when an exception is not handled? Explain with an example.\n",
    "### A2. When an exception is not handled in a program, it leads to the termination of the program's normal execution flow. Instead, the Python interpreter raises an unhandled exception, which displays an error message and a traceback showing the point where the exception occurred. This behavior can result in a program crash and an incomplete or unexpected output."
   ]
  },
  {
   "cell_type": "code",
   "execution_count": 3,
   "metadata": {
    "colab": {
     "base_uri": "https://localhost:8080/",
     "height": 366
    },
    "id": "qGR6altNnHft",
    "outputId": "97505a18-c8c5-4b6e-8929-a977ae00e6df"
   },
   "outputs": [
    {
     "ename": "ZeroDivisionError",
     "evalue": "division by zero",
     "output_type": "error",
     "traceback": [
      "\u001b[0;31m---------------------------------------------------------------------------\u001b[0m",
      "\u001b[0;31mZeroDivisionError\u001b[0m                         Traceback (most recent call last)",
      "Cell \u001b[0;32mIn[3], line 9\u001b[0m\n\u001b[1;32m      6\u001b[0m numerator \u001b[38;5;241m=\u001b[39m \u001b[38;5;241m10\u001b[39m\n\u001b[1;32m      7\u001b[0m denominator \u001b[38;5;241m=\u001b[39m \u001b[38;5;241m0\u001b[39m\n\u001b[0;32m----> 9\u001b[0m result \u001b[38;5;241m=\u001b[39m \u001b[43mdivide\u001b[49m\u001b[43m(\u001b[49m\u001b[43mnumerator\u001b[49m\u001b[43m,\u001b[49m\u001b[43m \u001b[49m\u001b[43mdenominator\u001b[49m\u001b[43m)\u001b[49m\n\u001b[1;32m     10\u001b[0m \u001b[38;5;28mprint\u001b[39m(\u001b[38;5;124m\"\u001b[39m\u001b[38;5;124mResult:\u001b[39m\u001b[38;5;124m\"\u001b[39m, result)\n\u001b[1;32m     11\u001b[0m \u001b[38;5;28mprint\u001b[39m(\u001b[38;5;124m\"\u001b[39m\u001b[38;5;124mProgram continues executing...\u001b[39m\u001b[38;5;124m\"\u001b[39m)\n",
      "Cell \u001b[0;32mIn[3], line 4\u001b[0m, in \u001b[0;36mdivide\u001b[0;34m(a, b)\u001b[0m\n\u001b[1;32m      3\u001b[0m \u001b[38;5;28;01mdef\u001b[39;00m \u001b[38;5;21mdivide\u001b[39m(a, b):\n\u001b[0;32m----> 4\u001b[0m     \u001b[38;5;28;01mreturn\u001b[39;00m \u001b[43ma\u001b[49m\u001b[43m \u001b[49m\u001b[38;5;241;43m/\u001b[39;49m\u001b[43m \u001b[49m\u001b[43mb\u001b[49m\n",
      "\u001b[0;31mZeroDivisionError\u001b[0m: division by zero"
     ]
    }
   ],
   "source": [
    "#Example_Without_Exception_Handling\n",
    "\n",
    "def divide(a, b):\n",
    "    return a / b\n",
    "\n",
    "numerator = 10\n",
    "denominator = 0\n",
    "\n",
    "result = divide(numerator, denominator)\n",
    "print(\"Result:\", result)\n",
    "print(\"Program continues executing...\")\n"
   ]
  },
  {
   "cell_type": "code",
   "execution_count": 2,
   "metadata": {
    "colab": {
     "base_uri": "https://localhost:8080/"
    },
    "id": "BdlzOtZXnHiv",
    "outputId": "791b8a5c-e662-4002-bcf1-a4a0c3d2b51f"
   },
   "outputs": [
    {
     "name": "stdout",
     "output_type": "stream",
     "text": [
      "An error occurred: division by zero\n",
      "Result: None\n",
      "Program continues executing...\n"
     ]
    }
   ],
   "source": [
    "#Example_With_Exception_Handling\n",
    "def divide(a, b):\n",
    "    try:\n",
    "        return a / b\n",
    "    except ZeroDivisionError as e:\n",
    "        print(\"An error occurred:\", e)\n",
    "        return None\n",
    "\n",
    "numerator = 10\n",
    "denominator = 0\n",
    "\n",
    "try:\n",
    "    result = divide(numerator, denominator)\n",
    "    print(\"Result:\", result)\n",
    "except Exception as e:\n",
    "    print(\"An exception occurred:\", e)\n",
    "\n",
    "print(\"Program continues executing...\")\n"
   ]
  },
  {
   "cell_type": "code",
   "execution_count": null,
   "metadata": {
    "id": "h2y8f9KwnHl7"
   },
   "outputs": [],
   "source": []
  },
  {
   "cell_type": "markdown",
   "metadata": {
    "id": "4Hfg5ZXrnov7"
   },
   "source": [
    "## Q3. Which Python statements are used to catch and handle exceptions? Explain with an example.\n",
    "### A3. In Python, the statements used to catch and handle exceptions are the `try` and `except` blocks. The `try` block is used to enclose the code that might raise an exception, and the `except` block is used to specify the actions to be taken if a specific exception occurs within the `try` block.\n",
    "\n"
   ]
  },
  {
   "cell_type": "code",
   "execution_count": 4,
   "metadata": {
    "colab": {
     "base_uri": "https://localhost:8080/"
    },
    "id": "3F5hYq-bnHsE",
    "outputId": "050626cb-d67c-4357-d0ba-eebaf1b18143"
   },
   "outputs": [
    {
     "name": "stdout",
     "output_type": "stream",
     "text": [
      "File Content:\n",
      "Error: File not found\n",
      "Program continues executing...\n"
     ]
    }
   ],
   "source": [
    "#Example\n",
    "\n",
    "\n",
    "def read_file(filename):\n",
    "    try:\n",
    "        with open(filename, 'r') as file:\n",
    "            content = file.read()\n",
    "            return content\n",
    "    except FileNotFoundError:\n",
    "        return \"Error: File not found\"\n",
    "    except IOError as e:\n",
    "        return f\"Error reading the file: {e}\"\n",
    "\n",
    "# Example usage\n",
    "try:\n",
    "    filename = \"sample.txt\"\n",
    "    file_content = read_file(filename)\n",
    "    print(\"File Content:\")\n",
    "    print(file_content)\n",
    "except Exception as e:\n",
    "    print(\"An exception occurred:\", e)\n",
    "\n",
    "print(\"Program continues executing...\")\n"
   ]
  },
  {
   "cell_type": "markdown",
   "metadata": {
    "id": "XkbtEnwJpY_B"
   },
   "source": [
    "## Q4. Explain with an example: try and else finally raise\n",
    "### A4.\n",
    "\n",
    "- **except** : The `except` block catches specific exceptions. If a ZeroDivisionError occurs (i.e., division by zero), the program prints an error message.\n",
    "\n",
    "- **else** : The `else` block is executed if no exceptions occur within the try block. In this case, it prints a success message with the division result.\n",
    "\n",
    "- **finally** : The `finally` block is always executed, regardless of whether an exception occurs or not. It is often used for cleanup tasks.\n",
    "\n",
    "- **raise** : The `raise`  statement is used to explicitly raise exceptions, allowing you to create custom exception instances and control the flow of your program based on specific conditions. The raise statement can be used with built-in exception types or with user-defined exceptions."
   ]
  },
  {
   "cell_type": "code",
   "execution_count": 5,
   "metadata": {
    "colab": {
     "base_uri": "https://localhost:8080/"
    },
    "id": "wNd11IpLnHus",
    "outputId": "4df5f6bc-2780-42c2-cdba-f15233d3ac77"
   },
   "outputs": [
    {
     "name": "stdout",
     "output_type": "stream",
     "text": [
      "Division successful. Result: 5.0\n",
      "Division operation completed.\n",
      "Program continues executing...\n"
     ]
    }
   ],
   "source": [
    "#Example\n",
    "def divide(a, b):\n",
    "    try:\n",
    "        result = a / b\n",
    "    except ZeroDivisionError:\n",
    "        print(\"Error: Division by zero\")\n",
    "    else:\n",
    "        print(\"Division successful. Result:\", result)\n",
    "    finally:\n",
    "        print(\"Division operation completed.\")\n",
    "\n",
    "# Example usage\n",
    "try:\n",
    "    numerator = 10\n",
    "    denominator = 2\n",
    "    divide(numerator, denominator)\n",
    "except Exception as e:\n",
    "    print(\"An exception occurred:\", e)\n",
    "\n",
    "print(\"Program continues executing...\")\n"
   ]
  },
  {
   "cell_type": "markdown",
   "metadata": {
    "id": "AGfk-6pBslFP"
   },
   "source": [
    "## Q5. What are Custom Exceptions in python? Why do we need Custom Exceptions? Explain with an example.\n",
    "### A5.\n",
    "Custom exceptions in Python are user-defined exceptions that you create by defining a new class that inherits from the built-in `Exception` class or one of its subclasses. Custom exceptions allow you to handle specific error scenarios in your code, making it more readable, maintainable, and informative. By creating custom exceptions, you can encapsulate the details of the error, provide meaningful error messages, and implement specialized error handling.\n",
    "\n",
    "Here's why we need custom exceptions and an example to illustrate their use:\n",
    "\n",
    "**Why Use Custom Exceptions:**\n",
    "1. **Clarity**: Custom exceptions make your code more clear and expressive by providing context-specific error handling. This makes it easier to understand the intent of the code and the reasons for raising an exception.\n",
    "2. **Modularity**: Custom exceptions allow you to encapsulate error logic in a separate class, promoting modular and organized code. This makes your codebase more maintainable and reduces code duplication.\n",
    "3. **Custom Error Messages**: Custom exceptions allow you to define custom error messages that provide useful information about the error, making it easier to debug and troubleshoot issues.\n",
    "4. **Specialized Handling**: With custom exceptions, you can catch specific error conditions in a more specialized manner, enabling different error handling strategies for different scenarios.\n",
    "\n",
    "**Example of Using Custom Exceptions:**\n",
    "Let's consider an example where we have a custom exception for a bank account that represents an insufficient balance error:\n",
    "\n",
    "\n"
   ]
  },
  {
   "cell_type": "code",
   "execution_count": 6,
   "metadata": {
    "colab": {
     "base_uri": "https://localhost:8080/"
    },
    "id": "PD3P2cDyrHub",
    "outputId": "6663c5dd-0a4c-424a-dd6f-9640ea8d1a3f"
   },
   "outputs": [
    {
     "name": "stdout",
     "output_type": "stream",
     "text": [
      "An exception occurred: Insufficient balance for withdrawal\n"
     ]
    }
   ],
   "source": [
    "\n",
    "class InsufficientBalanceError(Exception):\n",
    "    def __init__(self, message):\n",
    "        self.message = message\n",
    "        super().__init__(self.message)\n",
    "\n",
    "class BankAccount:\n",
    "    def __init__(self, balance):\n",
    "        self.balance = balance\n",
    "\n",
    "    def withdraw(self, amount):\n",
    "        if amount > self.balance:\n",
    "            raise InsufficientBalanceError(\"Insufficient balance for withdrawal\")\n",
    "        else:\n",
    "            self.balance -= amount\n",
    "            print(f\"Withdrawal successful. Remaining balance: {self.balance}\")\n",
    "\n",
    "# Example usage\n",
    "try:\n",
    "    account = BankAccount(1000)\n",
    "    account.withdraw(1500)\n",
    "except InsufficientBalanceError as e:\n",
    "    print(\"An exception occurred:\", e)\n"
   ]
  },
  {
   "cell_type": "code",
   "execution_count": null,
   "metadata": {
    "id": "aiPyE-iytAZS"
   },
   "outputs": [],
   "source": []
  },
  {
   "cell_type": "markdown",
   "metadata": {
    "id": "ve1jXd4ptTRB"
   },
   "source": [
    "## Q6. Create a custom exception class. Use this class to handle an exception.\n",
    "### A6. Example"
   ]
  },
  {
   "cell_type": "code",
   "execution_count": 7,
   "metadata": {
    "colab": {
     "base_uri": "https://localhost:8080/"
    },
    "id": "WC9icJAatrK8",
    "outputId": "e4440194-e6f8-4b43-fbd9-8b5e3f799e75"
   },
   "outputs": [
    {
     "name": "stdin",
     "output_type": "stream",
     "text": [
      "Enter a numeric value:  5\n"
     ]
    },
    {
     "name": "stdout",
     "output_type": "stream",
     "text": [
      "Input processing successful\n"
     ]
    }
   ],
   "source": [
    "# Custom exception class\n",
    "class InvalidInputError(Exception):\n",
    "    def __init__(self, message):\n",
    "        self.message = message\n",
    "        super().__init__(self.message)\n",
    "\n",
    "# Function that raises the custom exception\n",
    "def process_input(input_value):\n",
    "    if not input_value.isnumeric():\n",
    "        raise InvalidInputError(\"Invalid input: Input must be a numeric value\")\n",
    "\n",
    "# Example usage\n",
    "try:\n",
    "    user_input = input(\"Enter a numeric value: \")\n",
    "    process_input(user_input)\n",
    "    print(\"Input processing successful\")\n",
    "except InvalidInputError as e:\n",
    "    print(\"An exception occurred:\", e)\n",
    "except Exception as e:\n",
    "    print(\"An unexpected exception occurred:\", e)\n",
    "\n",
    "\n",
    "#If the input is not numeric, the custom InvalidInputError exception is raised with a specific error message.\n"
   ]
  },
  {
   "cell_type": "code",
   "execution_count": 9,
   "metadata": {
    "colab": {
     "base_uri": "https://localhost:8080/"
    },
    "id": "fT-8PS72tvMy",
    "outputId": "2f8ea8e2-09f5-4d6c-e4b5-65622b0a3730"
   },
   "outputs": [
    {
     "name": "stdin",
     "output_type": "stream",
     "text": [
      "Enter a numeric value:  p\n"
     ]
    },
    {
     "name": "stdout",
     "output_type": "stream",
     "text": [
      "An exception occurred: Invalid input: Input must be a numeric value\n"
     ]
    }
   ],
   "source": [
    "# Custom exception class\n",
    "class InvalidInputError(Exception):\n",
    "    def __init__(self, message):\n",
    "        self.message = message\n",
    "        super().__init__(self.message)\n",
    "\n",
    "# Function that raises the custom exception\n",
    "def process_input(input_value):\n",
    "    if not input_value.isnumeric():\n",
    "        raise InvalidInputError(\"Invalid input: Input must be a numeric value\")\n",
    "\n",
    "# Example usage\n",
    "try:\n",
    "    user_input = input(\"Enter a numeric value: \")\n",
    "    process_input(user_input)\n",
    "    print(\"Input processing successful\")\n",
    "except InvalidInputError as e:\n",
    "    print(\"An exception occurred:\", e)\n",
    "except Exception as e:\n",
    "    print(\"An unexpected exception occurred:\", e)\n",
    "\n",
    "# If the input is valid, the program continues processing, and the success message is printed."
   ]
  },
  {
   "cell_type": "code",
   "execution_count": null,
   "metadata": {
    "id": "yBkCnFQqxS4h"
   },
   "outputs": [],
   "source": []
  }
 ],
 "metadata": {
  "colab": {
   "provenance": []
  },
  "kernelspec": {
   "display_name": "Python 3 (ipykernel)",
   "language": "python",
   "name": "python3"
  },
  "language_info": {
   "codemirror_mode": {
    "name": "ipython",
    "version": 3
   },
   "file_extension": ".py",
   "mimetype": "text/x-python",
   "name": "python",
   "nbconvert_exporter": "python",
   "pygments_lexer": "ipython3",
   "version": "3.10.8"
  }
 },
 "nbformat": 4,
 "nbformat_minor": 4
}
