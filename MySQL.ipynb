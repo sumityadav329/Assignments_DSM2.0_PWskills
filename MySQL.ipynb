{
 "cells": [
  {
   "cell_type": "markdown",
   "id": "5a54059e-c7dd-4257-b86f-9fcdc4dee120",
   "metadata": {},
   "source": [
    "# Q1: What is a database? Differentiate between SQL and NoSQL databases.\n",
    "\n",
    "## A1. \n",
    "A database is a structured collection of data that is organized and stored in a way that allows efficient retrieval, updating, and management of that data. Databases are used to store and manage large volumes of data in a systematic and organized manner.\n",
    "\n",
    "**SQL (Structured Query Language) Databases:**\n",
    "1. **Structure:** SQL databases are relational databases, which means they use a predefined schema to define the structure of data. Data is organized into tables with rows and columns.\n",
    "2. **Data Consistency:** SQL databases follow ACID (Atomicity, Consistency, Isolation, Durability) properties, ensuring data consistency and integrity.\n",
    "3. **Scalability:** Scaling SQL databases can be challenging, especially when dealing with massive amounts of data and high traffic. Vertical scaling (adding more resources to a single server) is the common approach.\n",
    "4. **Examples:** MySQL, PostgreSQL, Oracle, SQL Server.\n",
    "\n",
    "**NoSQL (Not Only SQL) Databases:**\n",
    "1. **Structure:** NoSQL databases are non-relational databases that can store structured, semi-structured, or unstructured data. They do not require a fixed schema, allowing flexibility in data storage.\n",
    "2. **Data Consistency:** NoSQL databases may not always guarantee ACID properties. They often prioritize performance and scalability over strict consistency.\n",
    "3. **Scalability:** NoSQL databases are designed for horizontal scalability, making it easier to handle large datasets and traffic by adding more servers or nodes to a cluster.\n",
    "4. **Examples:** MongoDB, Cassandra, Redis, Couchbase.\n",
    "\n",
    "**Key Differences:**\n",
    "- **Data Model:** SQL databases use a tabular, structured data model, while NoSQL databases can use various data models such as document, key-value, column-family, or graph.\n",
    "- **Schema:** SQL databases have a fixed schema with predefined table structures, while NoSQL databases are schema-less or have a flexible schema.\n",
    "- **Query Language:** SQL databases use SQL for querying and manipulating data, while NoSQL databases have their own query languages or APIs.\n",
    "- **Consistency:** SQL databases prioritize data consistency, while NoSQL databases may prioritize availability and partition tolerance (CAP theorem).\n",
    "- **Scalability:** SQL databases are traditionally scaled vertically, whereas NoSQL databases are designed for horizontal scalability.\n",
    "- **Use Cases:** SQL databases are typically used for applications with well-defined data structures and complex queries, while NoSQL databases are suitable for applications with rapidly changing data or high scalability requirements.\n",
    "\n",
    "\n"
   ]
  },
  {
   "cell_type": "markdown",
   "id": "196c94bc-59b0-40b7-bdf1-7903e6fe1e27",
   "metadata": {},
   "source": [
    "# Note: Importing some modules, creating and connecting to a database to give examples for below questions"
   ]
  },
  {
   "cell_type": "code",
   "execution_count": 24,
   "id": "5ba92608-9ed5-41c7-a43a-3dd6a4c3dcbf",
   "metadata": {},
   "outputs": [],
   "source": [
    "import pandas as pd\n",
    "\n",
    "import sqlite3 as sl\n"
   ]
  },
  {
   "cell_type": "code",
   "execution_count": 8,
   "id": "ca453ab1-d4c0-4355-8ef1-7fe146878826",
   "metadata": {},
   "outputs": [],
   "source": [
    "conn = sl.connect('mydatabase.db')"
   ]
  },
  {
   "cell_type": "code",
   "execution_count": 9,
   "id": "abebd50c-fb23-4ca9-b5fa-c3c00ce520c2",
   "metadata": {},
   "outputs": [],
   "source": [
    "cur = conn.cursor()"
   ]
  },
  {
   "cell_type": "markdown",
   "id": "f55b66cf-6615-4ac7-a19a-35d2fba1d050",
   "metadata": {},
   "source": [
    "# Q2. What is DDL? Explain why CREATE, DROP, ALTER, and TRUNCATE are used with an example.\n",
    "## A2.\n",
    "\n",
    "\n",
    "In the context of SQL databases, DDL stands for \"Data Definition Language.\" DDL is a subset of SQL used for defining and managing the structure and schema of a database. It includes SQL statements like CREATE, DROP, ALTER, and TRUNCATE, which are used to perform various tasks related to database schema management.\n",
    "\n",
    "Let's go through each of these DDL statements with examples:\n",
    "\n",
    "1. **CREATE:** The CREATE statement is used to create new database objects, such as tables, indexes, or views.\n",
    "\n",
    " \n",
    "\n",
    "\n",
    "\n"
   ]
  },
  {
   "cell_type": "code",
   "execution_count": 10,
   "id": "3120330e-8eb0-416e-9908-d8dcf7b3b414",
   "metadata": {},
   "outputs": [
    {
     "data": {
      "text/html": [
       "<div>\n",
       "<style scoped>\n",
       "    .dataframe tbody tr th:only-of-type {\n",
       "        vertical-align: middle;\n",
       "    }\n",
       "\n",
       "    .dataframe tbody tr th {\n",
       "        vertical-align: top;\n",
       "    }\n",
       "\n",
       "    .dataframe thead th {\n",
       "        text-align: right;\n",
       "    }\n",
       "</style>\n",
       "<table border=\"1\" class=\"dataframe\">\n",
       "  <thead>\n",
       "    <tr style=\"text-align: right;\">\n",
       "      <th></th>\n",
       "      <th>ID</th>\n",
       "      <th>Name</th>\n",
       "      <th>Email</th>\n",
       "    </tr>\n",
       "  </thead>\n",
       "  <tbody>\n",
       "  </tbody>\n",
       "</table>\n",
       "</div>"
      ],
      "text/plain": [
       "Empty DataFrame\n",
       "Columns: [ID, Name, Email]\n",
       "Index: []"
      ]
     },
     "execution_count": 10,
     "metadata": {},
     "output_type": "execute_result"
    }
   ],
   "source": [
    "\n",
    "# example of CREATE\n",
    "# imported some modules already above\n",
    "# Connect to a new database (it will be created if it doesn't exist)\n",
    "\n",
    "cur.execute('''CREATE TABLE IF NOT EXISTS users (\n",
    "                   id INTEGER PRIMARY KEY,\n",
    "                   name TEXT,\n",
    "                   email TEXT)''')\n",
    "\n",
    "# Execute a SELECT query to retrieve data from the \"users\" table\n",
    "cur.execute(\"SELECT * FROM users\")\n",
    "\n",
    "# Fetch all the data\n",
    "rows = cur.fetchall()\n",
    "\n",
    "# Create a DataFrame from the rows\n",
    "df = pd.DataFrame(rows, columns=[\"ID\", \"Name\", \"Email\"])\n",
    "\n",
    "# Display the DataFrame\n",
    "df\n"
   ]
  },
  {
   "cell_type": "markdown",
   "id": "ebe411c6-f352-4ec4-a63a-c233b4ac6dab",
   "metadata": {},
   "source": [
    "2. **DROP:** The DROP statement is used to delete database objects like tables, indexes, or views. It permanently removes the object from the database.\n",
    "\n",
    "  \n",
    "\n"
   ]
  },
  {
   "cell_type": "code",
   "execution_count": 11,
   "id": "7ec6952a-e5d7-474f-ab4c-2a86cf22b419",
   "metadata": {},
   "outputs": [
    {
     "ename": "OperationalError",
     "evalue": "no such table: users",
     "output_type": "error",
     "traceback": [
      "\u001b[0;31m---------------------------------------------------------------------------\u001b[0m",
      "\u001b[0;31mOperationalError\u001b[0m                          Traceback (most recent call last)",
      "Cell \u001b[0;32mIn[11], line 6\u001b[0m\n\u001b[1;32m      3\u001b[0m cur\u001b[38;5;241m.\u001b[39mexecute(\u001b[38;5;124m\"\u001b[39m\u001b[38;5;124mDROP TABLE IF EXISTS users\u001b[39m\u001b[38;5;124m\"\u001b[39m)\n\u001b[1;32m      5\u001b[0m \u001b[38;5;66;03m# Execute a SELECT query to retrieve data from the \"users\" table\u001b[39;00m\n\u001b[0;32m----> 6\u001b[0m \u001b[43mcur\u001b[49m\u001b[38;5;241;43m.\u001b[39;49m\u001b[43mexecute\u001b[49m\u001b[43m(\u001b[49m\u001b[38;5;124;43m\"\u001b[39;49m\u001b[38;5;124;43mSELECT * FROM users\u001b[39;49m\u001b[38;5;124;43m\"\u001b[39;49m\u001b[43m)\u001b[49m\n\u001b[1;32m      7\u001b[0m rows \u001b[38;5;241m=\u001b[39m cur\u001b[38;5;241m.\u001b[39mfetchall()\n\u001b[1;32m      8\u001b[0m df \u001b[38;5;241m=\u001b[39m pd\u001b[38;5;241m.\u001b[39mDataFrame(rows, columns\u001b[38;5;241m=\u001b[39m[\u001b[38;5;124m\"\u001b[39m\u001b[38;5;124mID\u001b[39m\u001b[38;5;124m\"\u001b[39m, \u001b[38;5;124m\"\u001b[39m\u001b[38;5;124mName\u001b[39m\u001b[38;5;124m\"\u001b[39m, \u001b[38;5;124m\"\u001b[39m\u001b[38;5;124mEmail\u001b[39m\u001b[38;5;124m\"\u001b[39m])\n",
      "\u001b[0;31mOperationalError\u001b[0m: no such table: users"
     ]
    }
   ],
   "source": [
    "# example of DROP\n",
    "# Execute the SQL statement to drop the table\n",
    "cur.execute(\"DROP TABLE IF EXISTS users\")\n",
    "\n",
    "# Execute a SELECT query to retrieve data from the \"users\" table\n",
    "cur.execute(\"SELECT * FROM users\")\n",
    "rows = cur.fetchall()\n",
    "df = pd.DataFrame(rows, columns=[\"ID\", \"Name\", \"Email\"])\n",
    "df\n",
    "# no such table should be the output"
   ]
  },
  {
   "cell_type": "markdown",
   "id": "714420dc-8780-42fa-bd14-30887e7bba96",
   "metadata": {},
   "source": [
    "#### note: now no table named `users` exists bcz we DROP TABLE so we're creating it again`new_users` for other examples"
   ]
  },
  {
   "cell_type": "code",
   "execution_count": null,
   "id": "57e0be6b-c6c0-4522-95d1-cdd87a8b0571",
   "metadata": {},
   "outputs": [],
   "source": [
    "cur.execute('''CREATE TABLE IF NOT EXISTS new_users (\n",
    "                   id INTEGER PRIMARY KEY,\n",
    "                   name TEXT,\n",
    "                   email TEXT)''')\n",
    "\n",
    "cur.execute(\"SELECT * FROM new_users\")\n",
    "rows = cur.fetchall()\n",
    "df = pd.DataFrame(rows, columns=[\"ID\", \"Name\", \"Email\"])\n",
    "df"
   ]
  },
  {
   "cell_type": "markdown",
   "id": "99719cec-61f2-4a16-afaa-d6e04dcbf142",
   "metadata": {},
   "source": [
    "3. **ALTER:** The ALTER statement is used to modify the structure of an existing database object. It can be used to add, modify, or delete columns in a table, among other changes.\n",
    "\n",
    "   \n",
    "\n"
   ]
  },
  {
   "cell_type": "code",
   "execution_count": null,
   "id": "73f2f500-5c3e-4ed6-b7e0-eb9fe0435243",
   "metadata": {},
   "outputs": [],
   "source": [
    "# example of ALTER TABLE\n",
    "\n",
    "cur.execute(\"ALTER TABLE new_users ADD COLUMN age INTEGER\")\n",
    "cur.execute(\"SELECT * FROM new_users\")\n",
    "rows = cur.fetchall()\n",
    "df = pd.DataFrame(rows, columns=[\"ID\", \"Name\", \"Email\",\"Age\"])\n",
    "df"
   ]
  },
  {
   "cell_type": "markdown",
   "id": "15060ce3-41db-4f87-953b-a4501143e29c",
   "metadata": {},
   "source": [
    "4. **TRUNCATE:** The TRUNCATE statement is used to remove all data from a table while keeping the table structure intact. It is faster than DELETE for removing all rows.\n",
    "     "
   ]
  },
  {
   "cell_type": "markdown",
   "id": "287a2616-f2df-4e26-be79-42c79705b3e6",
   "metadata": {},
   "source": [
    "#### note : to describe the TRUNCATE we must have some data so let's INSERT some data in `new_users` table"
   ]
  },
  {
   "cell_type": "code",
   "execution_count": null,
   "id": "ce4fbee5-6d0e-4442-b23f-55af37304ac5",
   "metadata": {
    "tags": []
   },
   "outputs": [],
   "source": [
    "\n",
    "sql = 'INSERT OR IGNORE INTO new_users (id, name, email, age) VALUES (?, ?, ?, ?)'\n",
    "\n",
    "# Data to be inserted\n",
    "data = [\n",
    "    (1, 'Sumit', 'sumit@email.com', 28),\n",
    "    (2, 'Bob', 'bob@email.com', 29),\n",
    "    (3, 'Kris', 'kris@email.com', 30)\n",
    "]\n",
    "# Execute the INSERT statement for each set of data\n",
    "cur.executemany(sql, data)"
   ]
  },
  {
   "cell_type": "code",
   "execution_count": null,
   "id": "f6573f18-5318-4413-9b7f-6c10226ad1f6",
   "metadata": {},
   "outputs": [],
   "source": [
    "cur.execute(\"SELECT * FROM new_users\")\n",
    "rows = cur.fetchall()\n",
    "df = pd.DataFrame(rows, columns=[\"ID\", \"Name\", \"Email\",\"Age\"])\n",
    "df\n",
    "\n"
   ]
  },
  {
   "cell_type": "markdown",
   "id": "45331351-adc2-434f-b88a-b25a138cc503",
   "metadata": {},
   "source": [
    "#### note : we're using `DELETE FROM` here for sqlite but `TRUNCATE TABLE` we can use in MySQL both do the same keep the structure but delete all data from rows\n",
    "  "
   ]
  },
  {
   "cell_type": "code",
   "execution_count": 12,
   "id": "4d0def76-1742-4f8d-a9eb-6a997fed95ed",
   "metadata": {},
   "outputs": [
    {
     "ename": "OperationalError",
     "evalue": "no such table: new_users",
     "output_type": "error",
     "traceback": [
      "\u001b[0;31m---------------------------------------------------------------------------\u001b[0m",
      "\u001b[0;31mOperationalError\u001b[0m                          Traceback (most recent call last)",
      "Cell \u001b[0;32mIn[12], line 3\u001b[0m\n\u001b[1;32m      1\u001b[0m \u001b[38;5;66;03m# example of TRUNCATE OR DELETE FROM\u001b[39;00m\n\u001b[0;32m----> 3\u001b[0m \u001b[43mcur\u001b[49m\u001b[38;5;241;43m.\u001b[39;49m\u001b[43mexecute\u001b[49m\u001b[43m(\u001b[49m\u001b[38;5;124;43m\"\u001b[39;49m\u001b[38;5;124;43mDELETE FROM new_users\u001b[39;49m\u001b[38;5;124;43m\"\u001b[39;49m\u001b[43m)\u001b[49m\n",
      "\u001b[0;31mOperationalError\u001b[0m: no such table: new_users"
     ]
    }
   ],
   "source": [
    "# example of TRUNCATE OR DELETE FROM\n",
    "\n",
    "cur.execute(\"DELETE FROM new_users\")\n"
   ]
  },
  {
   "cell_type": "markdown",
   "id": "c7fe5872-290c-4ce2-baeb-9c44f0c8c764",
   "metadata": {},
   "source": [
    "#### Now we have structure of table but no data"
   ]
  },
  {
   "cell_type": "code",
   "execution_count": null,
   "id": "33597034-82fd-4aa2-95c7-4bc046fa82e7",
   "metadata": {},
   "outputs": [],
   "source": [
    "\n",
    "cur.execute(\"SELECT * FROM new_users\")\n",
    "rows = cur.fetchall()\n",
    "df = pd.DataFrame(rows, columns=[\"ID\", \"Name\", \"Email\",\"Age\"])\n",
    "df\n",
    "\n",
    "\n"
   ]
  },
  {
   "cell_type": "code",
   "execution_count": 31,
   "id": "412d6077-9dea-4eba-ba22-7f52ddc26fc5",
   "metadata": {},
   "outputs": [],
   "source": [
    "# Commit the changes\n",
    "conn.commit()\n",
    "\n",
    "# Close the connection\n",
    "conn.close()"
   ]
  },
  {
   "cell_type": "markdown",
   "id": "9b47f6e3-4d73-49aa-88fb-58ef53164095",
   "metadata": {},
   "source": [
    "# Q3. What is DML? Explain INSERT, UPDATE, and DELETE with an example.\n",
    "## A3.\n",
    "\n",
    "**DML (Data Manipulation Language)** is a subset of SQL (Structured Query Language) used for managing and manipulating data stored in relational databases. DML includes three fundamental operations: INSERT, UPDATE, and DELETE, which are used to add, modify, and remove data from database tables, respectively. Let's explain each of these operations with examples:"
   ]
  },
  {
   "cell_type": "code",
   "execution_count": 32,
   "id": "fbc19a9f-45ce-41e1-a8d5-9ffaef51ca5e",
   "metadata": {},
   "outputs": [],
   "source": [
    "conn = sl.connect('mydatabase.db')\n",
    "cur = conn.cursor()"
   ]
  },
  {
   "cell_type": "code",
   "execution_count": 14,
   "id": "95983895-529d-4f23-9a04-829a49e7c2ba",
   "metadata": {},
   "outputs": [
    {
     "data": {
      "text/plain": [
       "<sqlite3.Cursor at 0x7f89ecdcb0c0>"
      ]
     },
     "execution_count": 14,
     "metadata": {},
     "output_type": "execute_result"
    }
   ],
   "source": [
    "cur.execute('''CREATE TABLE IF NOT EXISTS new_users (\n",
    "                   id INTEGER PRIMARY KEY,\n",
    "                   name TEXT,\n",
    "                   email TEXT,\n",
    "                   age INTEGER)''')"
   ]
  },
  {
   "cell_type": "markdown",
   "id": "78b57ef1-be5c-48df-87d9-0671c6dba301",
   "metadata": {},
   "source": [
    "1. **INSERT:**\n",
    "   - **Purpose:** The INSERT statement is used to add new rows (records) into a database table.\n",
    "  "
   ]
  },
  {
   "cell_type": "code",
   "execution_count": 33,
   "id": "4e0b9db2-5bc3-4236-94ae-65089427869b",
   "metadata": {},
   "outputs": [
    {
     "data": {
      "text/plain": [
       "<sqlite3.Cursor at 0x7f89ecdd3a40>"
      ]
     },
     "execution_count": 33,
     "metadata": {},
     "output_type": "execute_result"
    }
   ],
   "source": [
    "sql = 'INSERT OR IGNORE INTO new_users (id, name, email, age) VALUES (?, ?, ?, ?)'\n",
    "\n",
    "\n",
    "data = [\n",
    "    (1, 'Sumit', 'sumit@email.com', 28),\n",
    "    (2, 'Bob', 'bob@email.com', 29),\n",
    "    (3, 'Kris', 'kris@email.com', 30)\n",
    "]\n",
    "\n",
    "cur.executemany(sql, data)"
   ]
  },
  {
   "cell_type": "code",
   "execution_count": 16,
   "id": "75a38b48-bc45-4069-9f1c-2a0c75dc8b31",
   "metadata": {},
   "outputs": [
    {
     "data": {
      "text/html": [
       "<div>\n",
       "<style scoped>\n",
       "    .dataframe tbody tr th:only-of-type {\n",
       "        vertical-align: middle;\n",
       "    }\n",
       "\n",
       "    .dataframe tbody tr th {\n",
       "        vertical-align: top;\n",
       "    }\n",
       "\n",
       "    .dataframe thead th {\n",
       "        text-align: right;\n",
       "    }\n",
       "</style>\n",
       "<table border=\"1\" class=\"dataframe\">\n",
       "  <thead>\n",
       "    <tr style=\"text-align: right;\">\n",
       "      <th></th>\n",
       "      <th>ID</th>\n",
       "      <th>Name</th>\n",
       "      <th>Email</th>\n",
       "      <th>Age</th>\n",
       "    </tr>\n",
       "  </thead>\n",
       "  <tbody>\n",
       "    <tr>\n",
       "      <th>0</th>\n",
       "      <td>1</td>\n",
       "      <td>Sumit</td>\n",
       "      <td>sumit@email.com</td>\n",
       "      <td>28</td>\n",
       "    </tr>\n",
       "    <tr>\n",
       "      <th>1</th>\n",
       "      <td>2</td>\n",
       "      <td>Bob</td>\n",
       "      <td>bob@email.com</td>\n",
       "      <td>29</td>\n",
       "    </tr>\n",
       "    <tr>\n",
       "      <th>2</th>\n",
       "      <td>3</td>\n",
       "      <td>Kris</td>\n",
       "      <td>kris@email.com</td>\n",
       "      <td>30</td>\n",
       "    </tr>\n",
       "  </tbody>\n",
       "</table>\n",
       "</div>"
      ],
      "text/plain": [
       "   ID   Name            Email  Age\n",
       "0   1  Sumit  sumit@email.com   28\n",
       "1   2    Bob    bob@email.com   29\n",
       "2   3   Kris   kris@email.com   30"
      ]
     },
     "execution_count": 16,
     "metadata": {},
     "output_type": "execute_result"
    }
   ],
   "source": [
    "cur.execute(\"SELECT * FROM new_users\")\n",
    "rows = cur.fetchall()\n",
    "df = pd.DataFrame(rows, columns=[\"ID\", \"Name\", \"Email\",\"Age\"])\n",
    "df\n",
    "\n"
   ]
  },
  {
   "cell_type": "markdown",
   "id": "035a6f1c-3dc8-47b0-83a2-312b610ac230",
   "metadata": {},
   "source": [
    "2. **UPDATE:**\n",
    "   - **Purpose:** The UPDATE statement is used to modify existing data in a database table.\n",
    "\n",
    "    \n",
    "  "
   ]
  },
  {
   "cell_type": "code",
   "execution_count": 36,
   "id": "c61a8ffb-48d0-4241-a4d1-fbd9656b5636",
   "metadata": {},
   "outputs": [
    {
     "data": {
      "text/plain": [
       "<sqlite3.Cursor at 0x7f89ecdd3a40>"
      ]
     },
     "execution_count": 36,
     "metadata": {},
     "output_type": "execute_result"
    }
   ],
   "source": [
    "new_age = 31\n",
    "user_id = 2\n",
    "cur.execute(\"UPDATE new_users SET age = ? WHERE id = ?\", (new_age, user_id))"
   ]
  },
  {
   "cell_type": "code",
   "execution_count": 46,
   "id": "6eda9ba2-51c5-4f0f-8bd2-182cc1695ab4",
   "metadata": {},
   "outputs": [
    {
     "data": {
      "text/html": [
       "<div>\n",
       "<style scoped>\n",
       "    .dataframe tbody tr th:only-of-type {\n",
       "        vertical-align: middle;\n",
       "    }\n",
       "\n",
       "    .dataframe tbody tr th {\n",
       "        vertical-align: top;\n",
       "    }\n",
       "\n",
       "    .dataframe thead th {\n",
       "        text-align: right;\n",
       "    }\n",
       "</style>\n",
       "<table border=\"1\" class=\"dataframe\">\n",
       "  <thead>\n",
       "    <tr style=\"text-align: right;\">\n",
       "      <th></th>\n",
       "      <th>ID</th>\n",
       "      <th>Name</th>\n",
       "      <th>Email</th>\n",
       "      <th>Age</th>\n",
       "    </tr>\n",
       "  </thead>\n",
       "  <tbody>\n",
       "    <tr>\n",
       "      <th>0</th>\n",
       "      <td>1</td>\n",
       "      <td>Sumit</td>\n",
       "      <td>sumit@email.com</td>\n",
       "      <td>28</td>\n",
       "    </tr>\n",
       "    <tr>\n",
       "      <th>1</th>\n",
       "      <td>3</td>\n",
       "      <td>Kris</td>\n",
       "      <td>kris@email.com</td>\n",
       "      <td>30</td>\n",
       "    </tr>\n",
       "  </tbody>\n",
       "</table>\n",
       "</div>"
      ],
      "text/plain": [
       "   ID   Name            Email  Age\n",
       "0   1  Sumit  sumit@email.com   28\n",
       "1   3   Kris   kris@email.com   30"
      ]
     },
     "execution_count": 46,
     "metadata": {},
     "output_type": "execute_result"
    }
   ],
   "source": [
    "cur.execute(\"SELECT * FROM new_users\")\n",
    "rows = cur.fetchall()\n",
    "df = pd.DataFrame(rows, columns=[\"ID\", \"Name\", \"Email\",\"Age\"])\n",
    "df\n"
   ]
  },
  {
   "cell_type": "markdown",
   "id": "6d2bcff5-d801-43a4-8a5d-e868c34c7f24",
   "metadata": {},
   "source": [
    "3. **DELETE:**\n",
    "   - **Purpose:** The DELETE statement is used to remove rows from a database table based on specified conditions.\n",
    "   "
   ]
  },
  {
   "cell_type": "code",
   "execution_count": 43,
   "id": "cdf9f0b9-60eb-45d3-8e4a-ac51a0c1c524",
   "metadata": {},
   "outputs": [
    {
     "data": {
      "text/plain": [
       "<sqlite3.Cursor at 0x7f89ecdd3a40>"
      ]
     },
     "execution_count": 43,
     "metadata": {},
     "output_type": "execute_result"
    }
   ],
   "source": [
    "user_id = 2\n",
    "cur.execute(\"DELETE FROM new_users WHERE id = ?\", (user_id,))"
   ]
  },
  {
   "cell_type": "markdown",
   "id": "742c6966-1157-4d60-9adc-aee52a2e4e9c",
   "metadata": {},
   "source": [
    "# Q4. What is DQL? Explain SELECT with an example.\n",
    "## A4.\n",
    "**DQL (Data Query Language)** is a subset of SQL (Structured Query Language) used for querying and retrieving data from a relational database. The primary DQL statement is the SELECT statement, which allows you to specify the data you want to retrieve and the conditions for retrieval. Let's explain the SELECT statement with an example:\n",
    "\n",
    "**SELECT Statement:**\n",
    "- **Purpose:** The SELECT statement is used to retrieve data from one or more tables in a relational database.\n",
    "\n",
    "\n",
    "\n",
    "\n"
   ]
  },
  {
   "cell_type": "code",
   "execution_count": 47,
   "id": "ca1455f4-d26e-4833-a598-76abe28c250a",
   "metadata": {},
   "outputs": [
    {
     "data": {
      "text/html": [
       "<div>\n",
       "<style scoped>\n",
       "    .dataframe tbody tr th:only-of-type {\n",
       "        vertical-align: middle;\n",
       "    }\n",
       "\n",
       "    .dataframe tbody tr th {\n",
       "        vertical-align: top;\n",
       "    }\n",
       "\n",
       "    .dataframe thead th {\n",
       "        text-align: right;\n",
       "    }\n",
       "</style>\n",
       "<table border=\"1\" class=\"dataframe\">\n",
       "  <thead>\n",
       "    <tr style=\"text-align: right;\">\n",
       "      <th></th>\n",
       "      <th>ID</th>\n",
       "      <th>Name</th>\n",
       "      <th>Email</th>\n",
       "      <th>Age</th>\n",
       "    </tr>\n",
       "  </thead>\n",
       "  <tbody>\n",
       "    <tr>\n",
       "      <th>0</th>\n",
       "      <td>1</td>\n",
       "      <td>Sumit</td>\n",
       "      <td>sumit@email.com</td>\n",
       "      <td>28</td>\n",
       "    </tr>\n",
       "    <tr>\n",
       "      <th>1</th>\n",
       "      <td>3</td>\n",
       "      <td>Kris</td>\n",
       "      <td>kris@email.com</td>\n",
       "      <td>30</td>\n",
       "    </tr>\n",
       "  </tbody>\n",
       "</table>\n",
       "</div>"
      ],
      "text/plain": [
       "   ID   Name            Email  Age\n",
       "0   1  Sumit  sumit@email.com   28\n",
       "1   3   Kris   kris@email.com   30"
      ]
     },
     "execution_count": 47,
     "metadata": {},
     "output_type": "execute_result"
    }
   ],
   "source": [
    "df\n"
   ]
  },
  {
   "cell_type": "code",
   "execution_count": 48,
   "id": "76b979d1-2664-4955-a96d-c60549e2bde8",
   "metadata": {},
   "outputs": [
    {
     "name": "stdout",
     "output_type": "stream",
     "text": [
      "(1, 'Sumit', 'sumit@email.com', 28)\n",
      "(3, 'Kris', 'kris@email.com', 30)\n"
     ]
    }
   ],
   "source": [
    "\n",
    "cur.execute(\"SELECT * FROM new_users WHERE age<=30\")\n",
    "rows = cur.fetchall()\n",
    "# Process and display the data\n",
    "for row in rows:\n",
    "    print(row)"
   ]
  },
  {
   "cell_type": "markdown",
   "id": "ae93c749-78ec-4b18-acea-2c97bf6c789f",
   "metadata": {},
   "source": [
    "# Q5. Explain Primary Key and Foreign Key.\n",
    "## A5. \n",
    "**Primary Key and Foreign Key** are two fundamental concepts in relational databases, which are used to establish relationships between tables and ensure data integrity. Let's explain each of them:\n",
    "\n",
    "**Primary Key:**\n",
    "\n",
    "1. **Definition:** A primary key is a column or a set of columns in a relational database table that uniquely identifies each row (record) in that table. It enforces the entity integrity constraint, ensuring that each row in the table is unique.\n",
    "\n",
    "2. **Uniqueness:** Every value in a primary key column must be unique within the table. This means that no two rows can have the same primary key value.\n",
    "\n",
    "3. **Non-null:** A primary key column cannot contain NULL values because NULL values are not considered unique.\n",
    "\n",
    "4. **Example:** Consider a table called \"Students\" with a primary key column \"student_id.\" Each student_id value should be unique, and it cannot be NULL. This ensures that each student is uniquely identified in the table.\n",
    "\n",
    "**Foreign Key:**\n",
    "\n",
    "1. **Definition:** A foreign key is a column or a set of columns in a relational database table that establishes a link between data in two tables. It enforces referential integrity, ensuring that relationships between tables are maintained.\n",
    "\n",
    "2. **References:** A foreign key in one table refers to the primary key in another table. This establishes a relationship between the two tables.\n",
    "\n",
    "3. **Purpose:** Foreign keys are used to maintain data consistency and enforce rules like cascading deletes or updates. They ensure that data in related tables remains synchronized.\n",
    "\n",
    "4. **Example:** Suppose you have two tables, \"Orders\" and \"Customers.\" The \"Orders\" table may have a foreign key column \"customer_id\" that references the primary key \"customer_id\" in the \"Customers\" table. This foreign key relationship links each order to a specific customer.\n",
    "\n",
    "**Key Differences:**\n",
    "\n",
    "- **Uniqueness:** A primary key enforces uniqueness within its own table, while a foreign key establishes a relationship between tables.\n",
    "- **Null Values:** A primary key column cannot contain NULL values, whereas a foreign key column can have NULL values to represent optional relationships.\n",
    "- **Purpose:** Primary keys uniquely identify rows within a table, while foreign keys establish relationships between tables.\n",
    "- **Usage:** Primary keys are used for data retrieval and integrity within a single table, while foreign keys are used to create relationships and maintain data integrity between multiple tables.\n",
    "\n"
   ]
  },
  {
   "cell_type": "markdown",
   "id": "e888cf90-81c0-4085-b6b0-7fa7d348ac52",
   "metadata": {},
   "source": [
    "# Q6.Write a python code to connect MySQL to python. Explain the cursor() and execute() method.\n",
    "## A6.\n",
    "### note : I had practiced MySQL in `pw labs` so this may not work but it is the code to coneect MySQL database in Python"
   ]
  },
  {
   "cell_type": "code",
   "execution_count": null,
   "id": "6f38058d-6c2b-42a3-ac17-dffc170450c1",
   "metadata": {},
   "outputs": [],
   "source": [
    "!pip install mysql-connector-python\n",
    "\n",
    "import mysql.connector\n",
    "\n",
    "# Database connection configuration\n",
    "db_config = {\n",
    "    \"host\": \"localhost\",     # Replace with actual MySQL host\n",
    "    \"user\": \"abc\",           # Replace with actual MySQL username\n",
    "    \"password\": \"password\",  # Replace with actual MySQL password\n",
    "    \"database\": \"mydatabase\" # Replace with actual MySQL database name\n",
    "}\n",
    "\n",
    "# Create a MySQL database connection\n",
    "try:\n",
    "    connection = mysql.connector.connect(**db_config)\n",
    "    print(\"Connected to MySQL!\")\n",
    "\n",
    "    # Create a cursor object\n",
    "    cursor = connection.cursor()\n",
    "\n",
    "    # Execute SQL queries using the cursor\n",
    "    cursor.execute(\"SELECT * FROM mytable\")\n",
    "    result = cursor.fetchall()  # Fetch all rows from the query result\n",
    "\n",
    "    for row in result:\n",
    "        print(row)\n",
    "\n",
    "    # Close the cursor and connection\n",
    "    cursor.close()\n",
    "    connection.close()\n",
    "    print(\"MySQL connection closed.\")\n",
    "\n",
    "except mysql.connector.Error as err:\n",
    "    print(\"Error:\", err)\n",
    "\n"
   ]
  },
  {
   "cell_type": "markdown",
   "id": "053a4dc3-7e2c-4e38-bb4b-f42c1b423169",
   "metadata": {},
   "source": [
    "# Q7. Give the order of execution of SQL clauses in an SQL query.\n",
    "## A7. \n",
    "In an SQL query, the clauses are typically executed in a specific order, and this order is defined by the SQL standard. The order of execution of SQL clauses is as follows:\n",
    "\n",
    "1. **FROM:** The `FROM` clause specifies the tables or data sources from which the data will be retrieved. It identifies the source of the data to be queried.\n",
    "\n",
    "2. **WHERE:** The `WHERE` clause is used to filter the rows from the tables specified in the `FROM` clause. It defines the conditions that must be met for a row to be included in the result set.\n",
    "\n",
    "3. **GROUP BY:** The `GROUP BY` clause is used to group rows that have the same values in specified columns into summary rows, often for use with aggregate functions like SUM, COUNT, AVG, etc.\n",
    "\n",
    "4. **HAVING:** The `HAVING` clause is used to filter the groups generated by the `GROUP BY` clause. It specifies conditions that must be met for a group to be included in the result set.\n",
    "\n",
    "5. **SELECT:** The `SELECT` clause specifies which columns or expressions should be included in the result set. It operates on the rows that pass the `WHERE` and `HAVING` conditions and the grouped data from the `GROUP BY` clause.\n",
    "\n",
    "6. **DISTINCT:** The `DISTINCT` keyword is used to eliminate duplicate rows from the result set, so only unique rows are returned.\n",
    "\n",
    "7. **ORDER BY:** The `ORDER BY` clause is used to sort the result set based on one or more columns in ascending or descending order.\n",
    "\n",
    "8. **LIMIT/OFFSET:** The `LIMIT` and `OFFSET` clauses are used for pagination and controlling the number of rows returned. They specify how many rows should be returned and at which position to start.\n",
    "\n",
    "9. **UNION/INTERSECT/EXCEPT:** If multiple SQL queries are combined using `UNION`, `INTERSECT`, or `EXCEPT`, the results of these operations are computed after the individual query processing.\n",
    "\n"
   ]
  },
  {
   "cell_type": "code",
   "execution_count": null,
   "id": "43d0aa64-aa05-43d4-8e5f-21a5350b6907",
   "metadata": {},
   "outputs": [],
   "source": [
    "# Commit the changes\n",
    "conn.commit()\n",
    "\n",
    "# Close the connection\n",
    "conn.close()"
   ]
  },
  {
   "cell_type": "code",
   "execution_count": null,
   "id": "837ddcf7-ba4f-4440-bbb5-40dfb452fc69",
   "metadata": {},
   "outputs": [],
   "source": []
  },
  {
   "cell_type": "code",
   "execution_count": null,
   "id": "c6205774-ea8e-4a04-9aff-1c5c0debcd92",
   "metadata": {},
   "outputs": [],
   "source": []
  }
 ],
 "metadata": {
  "kernelspec": {
   "display_name": "Python 3 (ipykernel)",
   "language": "python",
   "name": "python3"
  },
  "language_info": {
   "codemirror_mode": {
    "name": "ipython",
    "version": 3
   },
   "file_extension": ".py",
   "mimetype": "text/x-python",
   "name": "python",
   "nbconvert_exporter": "python",
   "pygments_lexer": "ipython3",
   "version": "3.10.8"
  }
 },
 "nbformat": 4,
 "nbformat_minor": 5
}
